{
  "nbformat": 4,
  "nbformat_minor": 0,
  "metadata": {
    "colab": {
      "provenance": [],
      "mount_file_id": "https://github.com/data-IA-2022/FAO_Project_Tarik_FengFeng/blob/main/FAO_project_Fengfeng_Tarik.ipynb",
      "authorship_tag": "ABX9TyNgnsP1dOXr+AgTZVnvZ3yW",
      "include_colab_link": true
    },
    "kernelspec": {
      "name": "python3",
      "display_name": "Python 3"
    },
    "language_info": {
      "name": "python"
    }
  },
  "cells": [
    {
      "cell_type": "markdown",
      "metadata": {
        "id": "view-in-github",
        "colab_type": "text"
      },
      "source": [
        "<a href=\"https://colab.research.google.com/github/data-IA-2022/FAO_Project_Tarik_FengFeng/blob/main/Copie_de_FAO_project_Fengfeng_Tarik.ipynb\" target=\"_parent\"><img src=\"https://colab.research.google.com/assets/colab-badge.svg\" alt=\"Open In Colab\"/></a>"
      ]
    },
    {
      "cell_type": "markdown",
      "source": [
        "<h1><center>Data Analyse au sein de la FAO (Food and Agriculture Organization)</h1>"
      ],
      "metadata": {
        "id": "bXxGBL_LKxCS"
      }
    },
    {
      "cell_type": "markdown",
      "source": [
        "<h2>Contexte du projet</h2>\n",
        "\n",
        "Au sein du service Data Analytics and Prospective de la FAO, vous êtes en charge d'analyser les données produites par les Nations Unies.\n",
        "\n",
        "Ces analyses conduisent à des rapports de synthèse à destination des décideurs.\n",
        "\n",
        "Pour êtes également en charge de la partie Prospective, c'est à dire donner des tendances et des évolutions probables quant à la production agricole, à l'alimentation et la nutrition mondiales."
      ],
      "metadata": {
        "id": "9PcdQCjlNHwc"
      }
    },
    {
      "cell_type": "code",
      "execution_count": 11,
      "metadata": {
        "id": "IXUCNgylP5AZ",
        "colab": {
          "base_uri": "https://localhost:8080/"
        },
        "outputId": "833c4b18-ff48-4da7-abd0-d24af882af76"
      },
      "outputs": [
        {
          "output_type": "stream",
          "name": "stdout",
          "text": [
            "Cloning into 'FAO_Project_Tarik_FengFeng'...\n",
            "remote: Enumerating objects: 125, done.\u001b[K\n",
            "remote: Counting objects: 100% (30/30), done.\u001b[K\n",
            "remote: Compressing objects: 100% (30/30), done.\u001b[K\n",
            "remote: Total 125 (delta 14), reused 0 (delta 0), pack-reused 95\u001b[K\n",
            "Receiving objects: 100% (125/125), 1.18 MiB | 4.40 MiB/s, done.\n",
            "Resolving deltas: 100% (68/68), done.\n"
          ]
        }
      ],
      "source": [
        "# Copie des fichiers csv du repertoire github et suppréssions des ancien en cas de mise à jour\n",
        "\n",
        "!rm -r /content/FAO_Project_Tarik_FengFeng\n",
        "!git clone https://github.com/data-IA-2022/FAO_Project_Tarik_FengFeng.git"
      ]
    },
    {
      "cell_type": "code",
      "source": [
        "#importation des librairies python\n",
        "import os\n",
        "import pandas as pd\n",
        "import glob"
      ],
      "metadata": {
        "id": "pZSiveZmKUIJ"
      },
      "execution_count": 12,
      "outputs": []
    },
    {
      "cell_type": "code",
      "source": [
        "# Récupération des chemin vers les fichiers csv\n",
        "csv_path = '/content/FAO_Project_Tarik_FengFeng/fao_2013'\n",
        "def find_csv_filenames(path_to_dir=os.getcwd(), extension=\"csv\"):\n",
        "    filenames = []\n",
        "    for name in glob.glob(f'{path_to_dir}/*.{extension}'):\n",
        "      filenames.append(name)\n",
        "    return filenames\n",
        "all_csv_files= find_csv_filenames(path_to_dir=csv_path)\n",
        "print(all_csv_files)"
      ],
      "metadata": {
        "colab": {
          "base_uri": "https://localhost:8080/"
        },
        "id": "a1aCfsEfQD0t",
        "outputId": "58d20314-7750-40b8-ce75-3b81d89bc2c4"
      },
      "execution_count": 13,
      "outputs": [
        {
          "output_type": "stream",
          "name": "stdout",
          "text": [
            "['/content/FAO_Project_Tarik_FengFeng/fao_2013/FAOSTAT_pays-continents.csv', '/content/FAO_Project_Tarik_FengFeng/fao_2013/FAOSTAT_2013_cereal.csv', '/content/FAO_Project_Tarik_FengFeng/fao_2013/FAOSTAT_2013_population.csv', '/content/FAO_Project_Tarik_FengFeng/fao_2013/FAOSTAT_2013_vegetal.csv', '/content/FAO_Project_Tarik_FengFeng/fao_2013/FAOSTAT_2013_animal.csv', '/content/FAO_Project_Tarik_FengFeng/fao_2013/FAOSTAT_2013_sous_alimentation.csv']\n"
          ]
        }
      ]
    },
    {
      "cell_type": "code",
      "source": [
        "# Création d'un dictionaire avec nom des fichiers csv comme Key et dataframe comme value\n",
        "\n",
        "col_names= ['Code Domaine', 'Domaine', 'Code Pays', 'Pays', 'Code Élément',\n",
        "       'Élément', 'Code Produit', 'Produit', 'Code année', 'Année', 'Unité',\n",
        "       'Valeur', 'Symbole', 'Description du Symbole']\n",
        "df_dict = {}\n",
        "for f in all_csv_files:\n",
        "  df_name= f.split(\"/\")[-1].replace(\".csv\", \"\").split(\"_\")[-1]\n",
        "  if \"FAOSTAT_2013\" in f:\n",
        "    df_dict[f'{df_name}'] = pd.read_csv(f, encoding='utf-8', quotechar='\"', delimiter=',', names= col_names, header=0)\n",
        "  else:\n",
        "    df_dict[f'{df_name}'] = pd.read_csv(f, encoding='utf-8', quotechar='\"', delimiter=',')\n",
        "\n",
        "print(df_dict.keys())"
      ],
      "metadata": {
        "colab": {
          "base_uri": "https://localhost:8080/"
        },
        "id": "7aQUHyd2T5wD",
        "outputId": "fcf5f1f6-c923-4933-8eca-f5b2754cee16"
      },
      "execution_count": 33,
      "outputs": [
        {
          "output_type": "stream",
          "name": "stdout",
          "text": [
            "dict_keys(['pays-continents', 'cereal', 'population', 'vegetal', 'animal', 'alimentation'])\n"
          ]
        }
      ]
    },
    {
      "cell_type": "code",
      "source": [
        "# Définition des Dataframes\n",
        "\n",
        "animal= df_dict[\"animal\"]\n",
        "cereal= df_dict[\"cereal\"]\n",
        "population= df_dict[\"population\"]\n",
        "alimentation= df_dict[\"alimentation\"]\n",
        "vegetal= df_dict[\"vegetal\"]\n",
        "pays_continents= df_dict[\"pays-continents\"]"
      ],
      "metadata": {
        "id": "-1l-VcasW3A7"
      },
      "execution_count": 34,
      "outputs": []
    },
    {
      "cell_type": "code",
      "source": [
        "# Définir les codes pays comme index des Df\n",
        "animal.index= animal[\"Code Pays\"]\n",
        "animal.index.name= \"Code_Pays_id\"\n",
        "cereal.index= cereal[\"Code Pays\"]\n",
        "cereal.index.name= \"Code_Pays_id\"\n",
        "population.index= population[\"Code Pays\"]\n",
        "population.index.name= \"Code_Pays_id\"\n",
        "alimentation.index= alimentation[\"Code Pays\"]\n",
        "alimentation.index.name= \"Code_Pays_id\"\n",
        "vegetal.index= vegetal[\"Code Pays\"]\n",
        "vegetal.index.name= \"Code_Pays_id\"\n",
        "pays_continents.index= pays_continents[\"Code Pays\"]\n",
        "pays_continents.index.name= \"Code_Pays_id\""
      ],
      "metadata": {
        "id": "Rk2of00iXUNj"
      },
      "execution_count": 35,
      "outputs": []
    },
    {
      "cell_type": "markdown",
      "source": [
        "# Nouvelle section"
      ],
      "metadata": {
        "id": "PFGgi3gqOTzh"
      }
    },
    {
      "cell_type": "code",
      "source": [
        "# nb lignes et nb colonnes de nos df\n",
        "print(animal.shape)\n",
        "print(cereal.shape)\n",
        "print(population.shape)\n",
        "print(alimentation.shape)\n",
        "print(vegetal.shape)\n",
        "print(pays_continents.shape)"
      ],
      "metadata": {
        "colab": {
          "base_uri": "https://localhost:8080/"
        },
        "id": "qdSgOR_ZYGoU",
        "outputId": "9a3ecee5-007f-463c-9256-3d5fdd9c7978"
      },
      "execution_count": 36,
      "outputs": [
        {
          "output_type": "stream",
          "name": "stdout",
          "text": [
            "(37166, 14)\n",
            "(16057, 14)\n",
            "(171, 14)\n",
            "(204, 14)\n",
            "(104871, 14)\n",
            "(1941, 7)\n"
          ]
        }
      ]
    },
    {
      "cell_type": "code",
      "source": [],
      "metadata": {
        "id": "_pkd1JcZUzMy"
      },
      "execution_count": null,
      "outputs": []
    },
    {
      "cell_type": "code",
      "source": [
        "# Join population et cereal production et pays continents\n",
        "df_pop_cerealprod = population.join(cereal, on= \"Code Pays\",how=\"left\", lsuffix=\"_pop\", rsuffix=\"_cer\" )\n",
        "df_pop_cerealprodblé = df_pop_cerealprod.query(\"Produit_cer in ('Blé') and Élément_cer in ('Production')\")\n",
        "pays_continents= pays_continents.query(\"`Code Groupe de pays` in (5200,5100,5300,5500,5400) \")\n",
        "#print(pays_continents)\n",
        "df_pop_cerealprodblé = df_pop_cerealprodblé.join(pays_continents, on= \"Code Pays\" ,how=\"left\", lsuffix=\"_popcer\", rsuffix=\"_conti\" )\n",
        "df_pop_cerealprodblé = df_pop_cerealprodblé[[\"Valeur_pop\",\"Valeur_cer\",\"Pays_pop\",\"Groupe de pays\"]]\n",
        "print(df_pop_cerealprodblé)"
      ],
      "metadata": {
        "colab": {
          "base_uri": "https://localhost:8080/"
        },
        "id": "-wDHO_E0YctU",
        "outputId": "b14fdbac-ef54-4ee3-cc68-39d2ce53b747"
      },
      "execution_count": 52,
      "outputs": [
        {
          "output_type": "stream",
          "name": "stdout",
          "text": [
            "              Valeur_pop  Valeur_cer                            Pays_pop  \\\n",
            "Code_Pays_id                                                               \n",
            "2                  30552      5169.0                         Afghanistan   \n",
            "3                   3173       294.0                             Albania   \n",
            "4                  39208      3299.0                             Algeria   \n",
            "7                  21472         4.0                              Angola   \n",
            "9                  41446      9315.0                           Argentina   \n",
            "...                  ...         ...                                 ...   \n",
            "235                28934      6842.0                          Uzbekistan   \n",
            "236                30405         0.0  Venezuela (Bolivarian Republic of)   \n",
            "249                24407       232.0                               Yemen   \n",
            "251                14539       274.0                              Zambia   \n",
            "181                14150        25.0                            Zimbabwe   \n",
            "\n",
            "             Groupe de pays  \n",
            "Code_Pays_id                 \n",
            "2                      Asie  \n",
            "3                    Europe  \n",
            "4                   Afrique  \n",
            "7                   Afrique  \n",
            "9                 Amériques  \n",
            "...                     ...  \n",
            "235                    Asie  \n",
            "236               Amériques  \n",
            "249                    Asie  \n",
            "251                 Afrique  \n",
            "181                 Afrique  \n",
            "\n",
            "[115 rows x 4 columns]\n"
          ]
        }
      ]
    },
    {
      "cell_type": "code",
      "source": [
        "# Graphiques scatter plot de la production de blé par rapport à la population par pays\n",
        "\n",
        "# Error divide by zero encountered in log prendre les valeurs supérieur\n",
        "\n",
        "\n",
        "# Avec plotly\n",
        "import plotly.express as px\n",
        "import plotly.io as io\n",
        "import numpy as np\n",
        "\n",
        "\n",
        "io.renderers.default='colab'\n",
        "df = df_pop_cerealprodblé\n",
        "fig = px.scatter(df, x=\"Valeur_pop\", y=\"Valeur_cer\",title=\"Production de Blé par Population par Pays\", hover_name=\"Pays_pop\" , color=\"Groupe de pays\", log_x=True, log_y=True)\n",
        "fig.show()"
      ],
      "metadata": {
        "colab": {
          "base_uri": "https://localhost:8080/",
          "height": 542
        },
        "id": "bQjdvUO-YpWr",
        "outputId": "4aa0d9c5-4f7d-4e96-afa8-ecbce8c27b17"
      },
      "execution_count": 54,
      "outputs": [
        {
          "output_type": "display_data",
          "data": {
            "text/html": [
              "<html>\n",
              "<head><meta charset=\"utf-8\" /></head>\n",
              "<body>\n",
              "    <div>            <script src=\"https://cdnjs.cloudflare.com/ajax/libs/mathjax/2.7.5/MathJax.js?config=TeX-AMS-MML_SVG\"></script><script type=\"text/javascript\">if (window.MathJax) {MathJax.Hub.Config({SVG: {font: \"STIX-Web\"}});}</script>                <script type=\"text/javascript\">window.PlotlyConfig = {MathJaxConfig: 'local'};</script>\n",
              "        <script src=\"https://cdn.plot.ly/plotly-2.8.3.min.js\"></script>                <div id=\"95bc677b-4426-443d-836f-9735cabfe4ce\" class=\"plotly-graph-div\" style=\"height:525px; width:100%;\"></div>            <script type=\"text/javascript\">                                    window.PLOTLYENV=window.PLOTLYENV || {};                                    if (document.getElementById(\"95bc677b-4426-443d-836f-9735cabfe4ce\")) {                    Plotly.newPlot(                        \"95bc677b-4426-443d-836f-9735cabfe4ce\",                        [{\"hovertemplate\":\"<b>%{hovertext}</b><br><br>Groupe de pays=Asie<br>Valeur_pop=%{x}<br>Valeur_cer=%{y}<extra></extra>\",\"hovertext\":[\"Afghanistan\",\"Armenia\",\"Azerbaijan\",\"Bangladesh\",\"China\",\"Cyprus\",\"Democratic People's Republic of Korea\",\"Georgia\",\"India\",\"Iran (Islamic Republic of)\",\"Iraq\",\"Israel\",\"Japan\",\"Jordan\",\"Kazakhstan\",\"Kuwait\",\"Kyrgyzstan\",\"Lebanon\",\"Mongolia\",\"Myanmar\",\"Nepal\",\"Oman\",\"Pakistan\",\"Republic of Korea\",\"Saudi Arabia\",\"Tajikistan\",\"Thailand\",\"Turkey\",\"Turkmenistan\",\"United Arab Emirates\",\"Uzbekistan\",\"Yemen\"],\"legendgroup\":\"Asie\",\"marker\":{\"color\":\"#636efa\",\"symbol\":\"circle\"},\"mode\":\"markers\",\"name\":\"Asie\",\"orientation\":\"v\",\"showlegend\":true,\"x\":[30552,2977,9413,156595,1416667,1141,24895,4341,1252140,77447,33765,7733,127144,7274,16441,3369,5548,4822,2839,53259,27797,3632,182143,49263,28829,8208,67011,74933,5240,9346,28934,24407],\"xaxis\":\"x\",\"y\":[5169.0,312.0,1893.0,1255.0,121931.0,15.0,75.0,81.0,93510.0,9304.0,4178.0,152.0,812.0,30.0,13941.0,0.0,819.0,140.0,368.0,188.0,1727.0,2.0,24231.0,19.0,660.0,947.0,2.0,22100.0,1300.0,0.0,6842.0,232.0],\"yaxis\":\"y\",\"type\":\"scatter\"},{\"hovertemplate\":\"<b>%{hovertext}</b><br><br>Groupe de pays=Europe<br>Valeur_pop=%{x}<br>Valeur_cer=%{y}<extra></extra>\",\"hovertext\":[\"Albania\",\"Austria\",\"Belarus\",\"Belgium\",\"Bosnia and Herzegovina\",\"Bulgaria\",\"Croatia\",\"Czechia\",\"Denmark\",\"Estonia\",\"Finland\",\"France\",\"Germany\",\"Greece\",\"Hungary\",\"Ireland\",\"Italy\",\"Latvia\",\"Lithuania\",\"Luxembourg\",\"Malta\",\"Montenegro\",\"Netherlands\",\"Norway\",\"Poland\",\"Portugal\",\"Republic of Moldova\",\"Romania\",\"Russian Federation\",\"Serbia\",\"Slovakia\",\"Slovenia\",\"Spain\",\"Sweden\",\"Switzerland\",\"The former Yugoslav Republic of Macedonia\",\"Ukraine\",\"United Kingdom\"],\"legendgroup\":\"Europe\",\"marker\":{\"color\":\"#EF553B\",\"symbol\":\"circle\"},\"mode\":\"markers\",\"name\":\"Europe\",\"orientation\":\"v\",\"showlegend\":true,\"x\":[3173,8495,9357,11104,3829,7223,4290,10702,5619,1287,5426,64291,82727,11128,9955,4627,60990,2050,3017,530,429,621,16759,5043,38217,10608,3487,21699,142834,9511,5450,2072,46927,9571,8078,2107,45239,63384],\"xaxis\":\"x\",\"y\":[294.0,1598.0,2101.0,1804.0,265.0,5505.0,999.0,4701.0,4145.0,407.0,869.0,38614.0,25019.0,1857.0,5058.0,545.0,7312.0,1435.0,2871.0,91.0,10.0,2.0,1335.0,213.0,9485.0,92.0,1009.0,7296.0,52091.0,2690.0,1684.0,138.0,7745.0,1869.0,480.0,259.0,22279.0,11921.0],\"yaxis\":\"y\",\"type\":\"scatter\"},{\"hovertemplate\":\"<b>%{hovertext}</b><br><br>Groupe de pays=Afrique<br>Valeur_pop=%{x}<br>Valeur_cer=%{y}<extra></extra>\",\"hovertext\":[\"Algeria\",\"Angola\",\"Botswana\",\"Cameroon\",\"Chad\",\"Egypt\",\"Ethiopia\",\"Kenya\",\"Lesotho\",\"Madagascar\",\"Malawi\",\"Mali\",\"Mauritania\",\"Morocco\",\"Mozambique\",\"Namibia\",\"Niger\",\"Nigeria\",\"Rwanda\",\"South Africa\",\"Sudan\",\"Eswatini\",\"Tunisia\",\"Uganda\",\"United Republic of Tanzania\",\"Zambia\",\"Zimbabwe\"],\"legendgroup\":\"Afrique\",\"marker\":{\"color\":\"#00cc96\",\"symbol\":\"circle\"},\"mode\":\"markers\",\"name\":\"Afrique\",\"orientation\":\"v\",\"showlegend\":true,\"x\":[39208,21472,2021,22254,12825,82056,94101,44354,2074,22925,16363,15302,3890,33008,25834,2303,17831,173615,11777,52776,37964,1250,10997,37579,49253,14539,14150],\"xaxis\":\"x\",\"y\":[3299.0,4.0,0.0,1.0,32.0,9460.0,4039.0,486.0,13.0,5.0,2.0,27.0,7.0,6934.0,21.0,15.0,7.0,80.0,70.0,1870.0,265.0,1.0,975.0,20.0,104.0,274.0,25.0],\"yaxis\":\"y\",\"type\":\"scatter\"},{\"hovertemplate\":\"<b>%{hovertext}</b><br><br>Groupe de pays=Am\\u00e9riques<br>Valeur_pop=%{x}<br>Valeur_cer=%{y}<extra></extra>\",\"hovertext\":[\"Argentina\",\"Bolivia\",\"Brazil\",\"Canada\",\"Chile\",\"Colombia\",\"Ecuador\",\"Guatemala\",\"Honduras\",\"Mexico\",\"Paraguay\",\"Peru\",\"United States of America\",\"Uruguay\",\"Venezuela (Bolivarian Republic of)\"],\"legendgroup\":\"Am\\u00e9riques\",\"marker\":{\"color\":\"#ab63fa\",\"symbol\":\"circle\"},\"mode\":\"markers\",\"name\":\"Am\\u00e9riques\",\"orientation\":\"v\",\"showlegend\":true,\"x\":[41446,10671,200362,35182,17620,48321,15738,15468,8096,122332,6802,30376,320051,3407,30405],\"xaxis\":\"x\",\"y\":[9315.0,209.0,5718.0,37530.0,1475.0,8.0,6.0,2.0,1.0,3357.0,1430.0,230.0,57967.0,1533.0,0.0],\"yaxis\":\"y\",\"type\":\"scatter\"},{\"hovertemplate\":\"<b>%{hovertext}</b><br><br>Groupe de pays=Oc\\u00e9anie<br>Valeur_pop=%{x}<br>Valeur_cer=%{y}<extra></extra>\",\"hovertext\":[\"Australia\",\"New Caledonia\",\"New Zealand\"],\"legendgroup\":\"Oc\\u00e9anie\",\"marker\":{\"color\":\"#FFA15A\",\"symbol\":\"circle\"},\"mode\":\"markers\",\"name\":\"Oc\\u00e9anie\",\"orientation\":\"v\",\"showlegend\":true,\"x\":[23343,256,4506],\"xaxis\":\"x\",\"y\":[22856.0,0.0,448.0],\"yaxis\":\"y\",\"type\":\"scatter\"}],                        {\"template\":{\"data\":{\"bar\":[{\"error_x\":{\"color\":\"#2a3f5f\"},\"error_y\":{\"color\":\"#2a3f5f\"},\"marker\":{\"line\":{\"color\":\"#E5ECF6\",\"width\":0.5},\"pattern\":{\"fillmode\":\"overlay\",\"size\":10,\"solidity\":0.2}},\"type\":\"bar\"}],\"barpolar\":[{\"marker\":{\"line\":{\"color\":\"#E5ECF6\",\"width\":0.5},\"pattern\":{\"fillmode\":\"overlay\",\"size\":10,\"solidity\":0.2}},\"type\":\"barpolar\"}],\"carpet\":[{\"aaxis\":{\"endlinecolor\":\"#2a3f5f\",\"gridcolor\":\"white\",\"linecolor\":\"white\",\"minorgridcolor\":\"white\",\"startlinecolor\":\"#2a3f5f\"},\"baxis\":{\"endlinecolor\":\"#2a3f5f\",\"gridcolor\":\"white\",\"linecolor\":\"white\",\"minorgridcolor\":\"white\",\"startlinecolor\":\"#2a3f5f\"},\"type\":\"carpet\"}],\"choropleth\":[{\"colorbar\":{\"outlinewidth\":0,\"ticks\":\"\"},\"type\":\"choropleth\"}],\"contour\":[{\"colorbar\":{\"outlinewidth\":0,\"ticks\":\"\"},\"colorscale\":[[0.0,\"#0d0887\"],[0.1111111111111111,\"#46039f\"],[0.2222222222222222,\"#7201a8\"],[0.3333333333333333,\"#9c179e\"],[0.4444444444444444,\"#bd3786\"],[0.5555555555555556,\"#d8576b\"],[0.6666666666666666,\"#ed7953\"],[0.7777777777777778,\"#fb9f3a\"],[0.8888888888888888,\"#fdca26\"],[1.0,\"#f0f921\"]],\"type\":\"contour\"}],\"contourcarpet\":[{\"colorbar\":{\"outlinewidth\":0,\"ticks\":\"\"},\"type\":\"contourcarpet\"}],\"heatmap\":[{\"colorbar\":{\"outlinewidth\":0,\"ticks\":\"\"},\"colorscale\":[[0.0,\"#0d0887\"],[0.1111111111111111,\"#46039f\"],[0.2222222222222222,\"#7201a8\"],[0.3333333333333333,\"#9c179e\"],[0.4444444444444444,\"#bd3786\"],[0.5555555555555556,\"#d8576b\"],[0.6666666666666666,\"#ed7953\"],[0.7777777777777778,\"#fb9f3a\"],[0.8888888888888888,\"#fdca26\"],[1.0,\"#f0f921\"]],\"type\":\"heatmap\"}],\"heatmapgl\":[{\"colorbar\":{\"outlinewidth\":0,\"ticks\":\"\"},\"colorscale\":[[0.0,\"#0d0887\"],[0.1111111111111111,\"#46039f\"],[0.2222222222222222,\"#7201a8\"],[0.3333333333333333,\"#9c179e\"],[0.4444444444444444,\"#bd3786\"],[0.5555555555555556,\"#d8576b\"],[0.6666666666666666,\"#ed7953\"],[0.7777777777777778,\"#fb9f3a\"],[0.8888888888888888,\"#fdca26\"],[1.0,\"#f0f921\"]],\"type\":\"heatmapgl\"}],\"histogram\":[{\"marker\":{\"pattern\":{\"fillmode\":\"overlay\",\"size\":10,\"solidity\":0.2}},\"type\":\"histogram\"}],\"histogram2d\":[{\"colorbar\":{\"outlinewidth\":0,\"ticks\":\"\"},\"colorscale\":[[0.0,\"#0d0887\"],[0.1111111111111111,\"#46039f\"],[0.2222222222222222,\"#7201a8\"],[0.3333333333333333,\"#9c179e\"],[0.4444444444444444,\"#bd3786\"],[0.5555555555555556,\"#d8576b\"],[0.6666666666666666,\"#ed7953\"],[0.7777777777777778,\"#fb9f3a\"],[0.8888888888888888,\"#fdca26\"],[1.0,\"#f0f921\"]],\"type\":\"histogram2d\"}],\"histogram2dcontour\":[{\"colorbar\":{\"outlinewidth\":0,\"ticks\":\"\"},\"colorscale\":[[0.0,\"#0d0887\"],[0.1111111111111111,\"#46039f\"],[0.2222222222222222,\"#7201a8\"],[0.3333333333333333,\"#9c179e\"],[0.4444444444444444,\"#bd3786\"],[0.5555555555555556,\"#d8576b\"],[0.6666666666666666,\"#ed7953\"],[0.7777777777777778,\"#fb9f3a\"],[0.8888888888888888,\"#fdca26\"],[1.0,\"#f0f921\"]],\"type\":\"histogram2dcontour\"}],\"mesh3d\":[{\"colorbar\":{\"outlinewidth\":0,\"ticks\":\"\"},\"type\":\"mesh3d\"}],\"parcoords\":[{\"line\":{\"colorbar\":{\"outlinewidth\":0,\"ticks\":\"\"}},\"type\":\"parcoords\"}],\"pie\":[{\"automargin\":true,\"type\":\"pie\"}],\"scatter\":[{\"marker\":{\"colorbar\":{\"outlinewidth\":0,\"ticks\":\"\"}},\"type\":\"scatter\"}],\"scatter3d\":[{\"line\":{\"colorbar\":{\"outlinewidth\":0,\"ticks\":\"\"}},\"marker\":{\"colorbar\":{\"outlinewidth\":0,\"ticks\":\"\"}},\"type\":\"scatter3d\"}],\"scattercarpet\":[{\"marker\":{\"colorbar\":{\"outlinewidth\":0,\"ticks\":\"\"}},\"type\":\"scattercarpet\"}],\"scattergeo\":[{\"marker\":{\"colorbar\":{\"outlinewidth\":0,\"ticks\":\"\"}},\"type\":\"scattergeo\"}],\"scattergl\":[{\"marker\":{\"colorbar\":{\"outlinewidth\":0,\"ticks\":\"\"}},\"type\":\"scattergl\"}],\"scattermapbox\":[{\"marker\":{\"colorbar\":{\"outlinewidth\":0,\"ticks\":\"\"}},\"type\":\"scattermapbox\"}],\"scatterpolar\":[{\"marker\":{\"colorbar\":{\"outlinewidth\":0,\"ticks\":\"\"}},\"type\":\"scatterpolar\"}],\"scatterpolargl\":[{\"marker\":{\"colorbar\":{\"outlinewidth\":0,\"ticks\":\"\"}},\"type\":\"scatterpolargl\"}],\"scatterternary\":[{\"marker\":{\"colorbar\":{\"outlinewidth\":0,\"ticks\":\"\"}},\"type\":\"scatterternary\"}],\"surface\":[{\"colorbar\":{\"outlinewidth\":0,\"ticks\":\"\"},\"colorscale\":[[0.0,\"#0d0887\"],[0.1111111111111111,\"#46039f\"],[0.2222222222222222,\"#7201a8\"],[0.3333333333333333,\"#9c179e\"],[0.4444444444444444,\"#bd3786\"],[0.5555555555555556,\"#d8576b\"],[0.6666666666666666,\"#ed7953\"],[0.7777777777777778,\"#fb9f3a\"],[0.8888888888888888,\"#fdca26\"],[1.0,\"#f0f921\"]],\"type\":\"surface\"}],\"table\":[{\"cells\":{\"fill\":{\"color\":\"#EBF0F8\"},\"line\":{\"color\":\"white\"}},\"header\":{\"fill\":{\"color\":\"#C8D4E3\"},\"line\":{\"color\":\"white\"}},\"type\":\"table\"}]},\"layout\":{\"annotationdefaults\":{\"arrowcolor\":\"#2a3f5f\",\"arrowhead\":0,\"arrowwidth\":1},\"autotypenumbers\":\"strict\",\"coloraxis\":{\"colorbar\":{\"outlinewidth\":0,\"ticks\":\"\"}},\"colorscale\":{\"diverging\":[[0,\"#8e0152\"],[0.1,\"#c51b7d\"],[0.2,\"#de77ae\"],[0.3,\"#f1b6da\"],[0.4,\"#fde0ef\"],[0.5,\"#f7f7f7\"],[0.6,\"#e6f5d0\"],[0.7,\"#b8e186\"],[0.8,\"#7fbc41\"],[0.9,\"#4d9221\"],[1,\"#276419\"]],\"sequential\":[[0.0,\"#0d0887\"],[0.1111111111111111,\"#46039f\"],[0.2222222222222222,\"#7201a8\"],[0.3333333333333333,\"#9c179e\"],[0.4444444444444444,\"#bd3786\"],[0.5555555555555556,\"#d8576b\"],[0.6666666666666666,\"#ed7953\"],[0.7777777777777778,\"#fb9f3a\"],[0.8888888888888888,\"#fdca26\"],[1.0,\"#f0f921\"]],\"sequentialminus\":[[0.0,\"#0d0887\"],[0.1111111111111111,\"#46039f\"],[0.2222222222222222,\"#7201a8\"],[0.3333333333333333,\"#9c179e\"],[0.4444444444444444,\"#bd3786\"],[0.5555555555555556,\"#d8576b\"],[0.6666666666666666,\"#ed7953\"],[0.7777777777777778,\"#fb9f3a\"],[0.8888888888888888,\"#fdca26\"],[1.0,\"#f0f921\"]]},\"colorway\":[\"#636efa\",\"#EF553B\",\"#00cc96\",\"#ab63fa\",\"#FFA15A\",\"#19d3f3\",\"#FF6692\",\"#B6E880\",\"#FF97FF\",\"#FECB52\"],\"font\":{\"color\":\"#2a3f5f\"},\"geo\":{\"bgcolor\":\"white\",\"lakecolor\":\"white\",\"landcolor\":\"#E5ECF6\",\"showlakes\":true,\"showland\":true,\"subunitcolor\":\"white\"},\"hoverlabel\":{\"align\":\"left\"},\"hovermode\":\"closest\",\"mapbox\":{\"style\":\"light\"},\"paper_bgcolor\":\"white\",\"plot_bgcolor\":\"#E5ECF6\",\"polar\":{\"angularaxis\":{\"gridcolor\":\"white\",\"linecolor\":\"white\",\"ticks\":\"\"},\"bgcolor\":\"#E5ECF6\",\"radialaxis\":{\"gridcolor\":\"white\",\"linecolor\":\"white\",\"ticks\":\"\"}},\"scene\":{\"xaxis\":{\"backgroundcolor\":\"#E5ECF6\",\"gridcolor\":\"white\",\"gridwidth\":2,\"linecolor\":\"white\",\"showbackground\":true,\"ticks\":\"\",\"zerolinecolor\":\"white\"},\"yaxis\":{\"backgroundcolor\":\"#E5ECF6\",\"gridcolor\":\"white\",\"gridwidth\":2,\"linecolor\":\"white\",\"showbackground\":true,\"ticks\":\"\",\"zerolinecolor\":\"white\"},\"zaxis\":{\"backgroundcolor\":\"#E5ECF6\",\"gridcolor\":\"white\",\"gridwidth\":2,\"linecolor\":\"white\",\"showbackground\":true,\"ticks\":\"\",\"zerolinecolor\":\"white\"}},\"shapedefaults\":{\"line\":{\"color\":\"#2a3f5f\"}},\"ternary\":{\"aaxis\":{\"gridcolor\":\"white\",\"linecolor\":\"white\",\"ticks\":\"\"},\"baxis\":{\"gridcolor\":\"white\",\"linecolor\":\"white\",\"ticks\":\"\"},\"bgcolor\":\"#E5ECF6\",\"caxis\":{\"gridcolor\":\"white\",\"linecolor\":\"white\",\"ticks\":\"\"}},\"title\":{\"x\":0.05},\"xaxis\":{\"automargin\":true,\"gridcolor\":\"white\",\"linecolor\":\"white\",\"ticks\":\"\",\"title\":{\"standoff\":15},\"zerolinecolor\":\"white\",\"zerolinewidth\":2},\"yaxis\":{\"automargin\":true,\"gridcolor\":\"white\",\"linecolor\":\"white\",\"ticks\":\"\",\"title\":{\"standoff\":15},\"zerolinecolor\":\"white\",\"zerolinewidth\":2}}},\"xaxis\":{\"anchor\":\"y\",\"domain\":[0.0,1.0],\"title\":{\"text\":\"Valeur_pop\"},\"type\":\"log\"},\"yaxis\":{\"anchor\":\"x\",\"domain\":[0.0,1.0],\"title\":{\"text\":\"Valeur_cer\"},\"type\":\"log\"},\"legend\":{\"title\":{\"text\":\"Groupe de pays\"},\"tracegroupgap\":0},\"title\":{\"text\":\"Production de Bl\\u00e9 par Population par Pays\"}},                        {\"responsive\": true}                    ).then(function(){\n",
              "                            \n",
              "var gd = document.getElementById('95bc677b-4426-443d-836f-9735cabfe4ce');\n",
              "var x = new MutationObserver(function (mutations, observer) {{\n",
              "        var display = window.getComputedStyle(gd).display;\n",
              "        if (!display || display === 'none') {{\n",
              "            console.log([gd, 'removed!']);\n",
              "            Plotly.purge(gd);\n",
              "            observer.disconnect();\n",
              "        }}\n",
              "}});\n",
              "\n",
              "// Listen for the removal of the full notebook cells\n",
              "var notebookContainer = gd.closest('#notebook-container');\n",
              "if (notebookContainer) {{\n",
              "    x.observe(notebookContainer, {childList: true});\n",
              "}}\n",
              "\n",
              "// Listen for the clearing of the current output cell\n",
              "var outputEl = gd.closest('.output');\n",
              "if (outputEl) {{\n",
              "    x.observe(outputEl, {childList: true});\n",
              "}}\n",
              "\n",
              "                        })                };                            </script>        </div>\n",
              "</body>\n",
              "</html>"
            ]
          },
          "metadata": {}
        }
      ]
    },
    {
      "cell_type": "code",
      "source": [
        "# Creation data frame pour pareto population\n",
        "# Join population et  pays continents\n",
        "df_pareto_pop =  population.join(pays_continents, on= \"Code Pays\",how=\"left\", lsuffix=\"_pop\", rsuffix=\"_conti\" )\n",
        "\n",
        "\n",
        "df_pareto_pop  = df_pareto_pop [[\"Valeur\",\"Pays_conti\",\"Groupe de pays\"]]\n",
        "print(df_pareto_pop)\n",
        "#print(df_pop_cerealprod)\n",
        "#df_pop_cerealprod[\"sum_val_cer\"]=df_pop_cerealprod.groupby(by=\"Groupe de pays\")[\"Valeur_cer\"].sum()\n",
        "\n",
        "#print(df_pop_cerealprod.groupby(by=\"Groupe de pays\")[\"Valeur_cer\"].sum())"
      ],
      "metadata": {
        "colab": {
          "base_uri": "https://localhost:8080/"
        },
        "id": "-5EYoOVH_wRu",
        "outputId": "5ea0f57a-2fb4-40f4-8b71-8e8e85dd2890"
      },
      "execution_count": 58,
      "outputs": [
        {
          "output_type": "stream",
          "name": "stdout",
          "text": [
            "              Valeur                              Pays_conti Groupe de pays\n",
            "Code_Pays_id                                                               \n",
            "2              30552                             Afghanistan           Asie\n",
            "3               3173                                 Albanie         Europe\n",
            "4              39208                                 Algérie        Afrique\n",
            "7              21472                                  Angola        Afrique\n",
            "8                 90                      Antigua-et-Barbuda      Amériques\n",
            "...              ...                                     ...            ...\n",
            "236            30405  Venezuela (République bolivarienne du)      Amériques\n",
            "237            91680                                Viet Nam           Asie\n",
            "249            24407                                   Yémen           Asie\n",
            "251            14539                                  Zambie        Afrique\n",
            "181            14150                                Zimbabwe        Afrique\n",
            "\n",
            "[171 rows x 3 columns]\n"
          ]
        }
      ]
    }
  ]
}