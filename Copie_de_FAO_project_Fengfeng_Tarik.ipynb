{
  "nbformat": 4,
  "nbformat_minor": 0,
  "metadata": {
    "colab": {
      "provenance": [],
      "mount_file_id": "https://github.com/data-IA-2022/FAO_Project_Tarik_FengFeng/blob/main/FAO_project_Fengfeng_Tarik.ipynb",
      "authorship_tag": "ABX9TyML5zKfgG2nWNMewaa7k17X",
      "include_colab_link": true
    },
    "kernelspec": {
      "name": "python3",
      "display_name": "Python 3"
    },
    "language_info": {
      "name": "python"
    }
  },
  "cells": [
    {
      "cell_type": "markdown",
      "metadata": {
        "id": "view-in-github",
        "colab_type": "text"
      },
      "source": [
        "<a href=\"https://colab.research.google.com/github/data-IA-2022/FAO_Project_Tarik_FengFeng/blob/main/Copie_de_FAO_project_Fengfeng_Tarik.ipynb\" target=\"_parent\"><img src=\"https://colab.research.google.com/assets/colab-badge.svg\" alt=\"Open In Colab\"/></a>"
      ]
    },
    {
      "cell_type": "markdown",
      "source": [
        "<h1><center>Data Analyse au sein de la FAO (Food and Agriculture Organization</h1>"
      ],
      "metadata": {
        "id": "bXxGBL_LKxCS"
      }
    },
    {
      "cell_type": "markdown",
      "source": [
        "<h2>Contexte du projet</h2>\n",
        "\n",
        "Au sein du service Data Analytics and Prospective de la FAO, vous êtes en charge d'analyser les données produites par les Nations Unies.\n",
        "\n",
        "Ces analyses conduisent à des rapports de synthèse à destination des décideurs.\n",
        "\n",
        "Pour êtes également en charge de la partie Prospective, c'est à dire donner des tendances et des évolutions probables quant à la production agricole, à l'alimentation et la nutrition mondiales."
      ],
      "metadata": {
        "id": "9PcdQCjlNHwc"
      }
    },
    {
      "cell_type": "code",
      "execution_count": 11,
      "metadata": {
        "id": "IXUCNgylP5AZ",
        "colab": {
          "base_uri": "https://localhost:8080/"
        },
        "outputId": "833c4b18-ff48-4da7-abd0-d24af882af76"
      },
      "outputs": [
        {
          "output_type": "stream",
          "name": "stdout",
          "text": [
            "Cloning into 'FAO_Project_Tarik_FengFeng'...\n",
            "remote: Enumerating objects: 125, done.\u001b[K\n",
            "remote: Counting objects: 100% (30/30), done.\u001b[K\n",
            "remote: Compressing objects: 100% (30/30), done.\u001b[K\n",
            "remote: Total 125 (delta 14), reused 0 (delta 0), pack-reused 95\u001b[K\n",
            "Receiving objects: 100% (125/125), 1.18 MiB | 4.40 MiB/s, done.\n",
            "Resolving deltas: 100% (68/68), done.\n"
          ]
        }
      ],
      "source": [
        "# Copie des fichiers csv du repertoire github et suppréssions des ancien en cas de mise à jour\n",
        "\n",
        "!rm -r /content/FAO_Project_Tarik_FengFeng\n",
        "!git clone https://github.com/data-IA-2022/FAO_Project_Tarik_FengFeng.git"
      ]
    },
    {
      "cell_type": "code",
      "source": [
        "#importation des librairies python\n",
        "import os\n",
        "import pandas as pd\n",
        "import glob"
      ],
      "metadata": {
        "id": "pZSiveZmKUIJ"
      },
      "execution_count": 12,
      "outputs": []
    },
    {
      "cell_type": "code",
      "source": [
        "# Récupération des chemin vers les fichiers csv\n",
        "csv_path = '/content/FAO_Project_Tarik_FengFeng/fao_2013'\n",
        "def find_csv_filenames(path_to_dir=os.getcwd(), extension=\"csv\"):\n",
        "    filenames = []\n",
        "    for name in glob.glob(f'{path_to_dir}/*.{extension}'):\n",
        "      filenames.append(name)\n",
        "    return filenames\n",
        "all_csv_files= find_csv_filenames(path_to_dir=csv_path)\n",
        "print(all_csv_files)"
      ],
      "metadata": {
        "colab": {
          "base_uri": "https://localhost:8080/"
        },
        "id": "a1aCfsEfQD0t",
        "outputId": "58d20314-7750-40b8-ce75-3b81d89bc2c4"
      },
      "execution_count": 13,
      "outputs": [
        {
          "output_type": "stream",
          "name": "stdout",
          "text": [
            "['/content/FAO_Project_Tarik_FengFeng/fao_2013/FAOSTAT_pays-continents.csv', '/content/FAO_Project_Tarik_FengFeng/fao_2013/FAOSTAT_2013_cereal.csv', '/content/FAO_Project_Tarik_FengFeng/fao_2013/FAOSTAT_2013_population.csv', '/content/FAO_Project_Tarik_FengFeng/fao_2013/FAOSTAT_2013_vegetal.csv', '/content/FAO_Project_Tarik_FengFeng/fao_2013/FAOSTAT_2013_animal.csv', '/content/FAO_Project_Tarik_FengFeng/fao_2013/FAOSTAT_2013_sous_alimentation.csv']\n"
          ]
        }
      ]
    },
    {
      "cell_type": "code",
      "source": [
        "# Création d'un dictionaire avec nom des fichiers csv comme Key et dataframe comme value\n",
        "\n",
        "col_names= ['Code Domaine', 'Domaine', 'Code Pays', 'Pays', 'Code Élément',\n",
        "       'Élément', 'Code Produit', 'Produit', 'Code année', 'Année', 'Unité',\n",
        "       'Valeur', 'Symbole', 'Description du Symbole']\n",
        "df_dict = {}\n",
        "for f in all_csv_files:\n",
        "  df_name= f.split(\"/\")[-1].replace(\".csv\", \"\").split(\"_\")[-1]\n",
        "  if \"FAOSTAT_2013\" in f:\n",
        "    df_dict[f'{df_name}'] = pd.read_csv(f, encoding='utf-8', quotechar='\"', delimiter=',', names= col_names, header=0)\n",
        "  else:\n",
        "    df_dict[f'{df_name}'] = pd.read_csv(f, encoding='utf-8', quotechar='\"', delimiter=',')\n",
        "\n",
        "print(df_dict.keys())"
      ],
      "metadata": {
        "colab": {
          "base_uri": "https://localhost:8080/"
        },
        "id": "7aQUHyd2T5wD",
        "outputId": "fcf5f1f6-c923-4933-8eca-f5b2754cee16"
      },
      "execution_count": 33,
      "outputs": [
        {
          "output_type": "stream",
          "name": "stdout",
          "text": [
            "dict_keys(['pays-continents', 'cereal', 'population', 'vegetal', 'animal', 'alimentation'])\n"
          ]
        }
      ]
    },
    {
      "cell_type": "code",
      "source": [
        "# Définition des Dataframes\n",
        "\n",
        "animal= df_dict[\"animal\"]\n",
        "cereal= df_dict[\"cereal\"]\n",
        "population= df_dict[\"population\"]\n",
        "alimentation= df_dict[\"alimentation\"]\n",
        "vegetal= df_dict[\"vegetal\"]\n",
        "pays_continents= df_dict[\"pays-continents\"]"
      ],
      "metadata": {
        "id": "-1l-VcasW3A7"
      },
      "execution_count": 34,
      "outputs": []
    },
    {
      "cell_type": "code",
      "source": [
        "# Définir les codes pays comme index des Df\n",
        "animal.index= animal[\"Code Pays\"]\n",
        "animal.index.name= \"Code_Pays_id\"\n",
        "cereal.index= cereal[\"Code Pays\"]\n",
        "cereal.index.name= \"Code_Pays_id\"\n",
        "population.index= population[\"Code Pays\"]\n",
        "population.index.name= \"Code_Pays_id\"\n",
        "alimentation.index= alimentation[\"Code Pays\"]\n",
        "alimentation.index.name= \"Code_Pays_id\"\n",
        "vegetal.index= vegetal[\"Code Pays\"]\n",
        "vegetal.index.name= \"Code_Pays_id\"\n",
        "pays_continents.index= pays_continents[\"Code Pays\"]\n",
        "pays_continents.index.name= \"Code_Pays_id\""
      ],
      "metadata": {
        "id": "Rk2of00iXUNj"
      },
      "execution_count": 35,
      "outputs": []
    },
    {
      "cell_type": "markdown",
      "source": [
        "# Nouvelle section"
      ],
      "metadata": {
        "id": "PFGgi3gqOTzh"
      }
    },
    {
      "cell_type": "code",
      "source": [
        "# nb lignes et nb colonnes de nos df\n",
        "print(animal.shape)\n",
        "print(cereal.shape)\n",
        "print(population.shape)\n",
        "print(alimentation.shape)\n",
        "print(vegetal.shape)\n",
        "print(pays_continents.shape)"
      ],
      "metadata": {
        "colab": {
          "base_uri": "https://localhost:8080/"
        },
        "id": "qdSgOR_ZYGoU",
        "outputId": "9a3ecee5-007f-463c-9256-3d5fdd9c7978"
      },
      "execution_count": 36,
      "outputs": [
        {
          "output_type": "stream",
          "name": "stdout",
          "text": [
            "(37166, 14)\n",
            "(16057, 14)\n",
            "(171, 14)\n",
            "(204, 14)\n",
            "(104871, 14)\n",
            "(1941, 7)\n"
          ]
        }
      ]
    },
    {
      "cell_type": "code",
      "source": [],
      "metadata": {
        "id": "_pkd1JcZUzMy"
      },
      "execution_count": null,
      "outputs": []
    },
    {
      "cell_type": "code",
      "source": [
        "# Join population et cereal production et pays continents\n",
        "df_pop_cerealprod = population.join(cereal, on= \"Code Pays\",how=\"left\", lsuffix=\"_pop\", rsuffix=\"_cer\" )\n",
        "df_pop_cerealprod = df_pop_cerealprod.query(\"Produit_cer in ('Blé') and Élément_cer in ('Production')\")\n",
        "pays_continents= pays_continents.query(\"`Code Groupe de pays` in (5200,5100,5300,5500,5400) \")\n",
        "print(pays_continents)\n",
        "#df_pop_cerealprod = df_pop_cerealprod.join(pays_continents, on= \"Code Pays\" ,how=\"left\", lsuffix=\"_popcer\", rsuffix=\"_conti\" )\n",
        "#df_pop_cerealprod = df_pop_cerealprod[[\"Valeur_pop\",\"Valeur_cer\",\"Pays_pop\",\"Groupe de pays\"]]\n",
        "#print(df_pop_cerealprod)"
      ],
      "metadata": {
        "colab": {
          "base_uri": "https://localhost:8080/"
        },
        "id": "-wDHO_E0YctU",
        "outputId": "c8cc9cf3-6f94-41a3-c88f-f957b720307c"
      },
      "execution_count": 46,
      "outputs": [
        {
          "output_type": "stream",
          "name": "stdout",
          "text": [
            "              Code Groupe de pays Groupe de pays  Code Pays  \\\n",
            "Code_Pays_id                                                  \n",
            "616                          5100        Afrique        616   \n",
            "202                          5100        Afrique        202   \n",
            "4                            5100        Afrique          4   \n",
            "7                            5100        Afrique          7   \n",
            "24                           5100        Afrique         24   \n",
            "...                           ...            ...        ...   \n",
            "164                          5500        Océanie        164   \n",
            "218                          5500        Océanie        218   \n",
            "219                          5500        Océanie        219   \n",
            "227                          5500        Océanie        227   \n",
            "155                          5500        Océanie        155   \n",
            "\n",
            "                                          Pays  Code M49 Code ISO2 Code ISO3  \n",
            "Code_Pays_id                                                                  \n",
            "616           Afrique de l'Ouest, non spécifié     875.0      F616      F616  \n",
            "202                             Afrique du Sud     710.0        ZA       ZAF  \n",
            "4                                      Algérie      12.0        DZ       DZA  \n",
            "7                                       Angola      24.0        AO       AGO  \n",
            "24                         Archipel des Chagos      86.0        IO       IOT  \n",
            "...                                        ...       ...       ...       ...  \n",
            "164           Territoire des Îles du Pacifique     582.0      F164      F164  \n",
            "218                                   Tokélaou     772.0        TK       TKL  \n",
            "219                                      Tonga     776.0        TO       TON  \n",
            "227                                     Tuvalu     798.0        TV       TUV  \n",
            "155                                    Vanuatu     548.0        VU       VUT  \n",
            "\n",
            "[276 rows x 7 columns]\n"
          ]
        }
      ]
    },
    {
      "cell_type": "code",
      "source": [
        "# Graphiques scatter plot de la production de blé par rapport à la population par pays\n",
        "\n",
        "# Error divide by zero encountered in log prendre les valeurs supérieur\n",
        "\n",
        "\n",
        "# Avec plotly\n",
        "import plotly.express as px\n",
        "import plotly.io as io\n",
        "import numpy as np\n",
        "\n",
        "size_val= df[\"Valeur_cer\"]\n",
        "\n",
        "\n",
        "\n",
        "io.renderers.default='colab'\n",
        "df = df_pop_cerealprod\n",
        "fig = px.scatter(df, x=\"Valeur_pop\", y=\"Valeur_cer\",title=\"Production de Blé par Population par Pays\", hover_name=\"Pays_pop\" , color=\"Groupe de pays\", log_x=True, log_y=True)\n",
        "fig.show()"
      ],
      "metadata": {
        "colab": {
          "base_uri": "https://localhost:8080/",
          "height": 542
        },
        "id": "bQjdvUO-YpWr",
        "outputId": "743eddab-8432-4d96-aabd-9a29556279d9"
      },
      "execution_count": null,
      "outputs": [
        {
          "output_type": "display_data",
          "data": {
            "text/html": [
              "<html>\n",
              "<head><meta charset=\"utf-8\" /></head>\n",
              "<body>\n",
              "    <div>            <script src=\"https://cdnjs.cloudflare.com/ajax/libs/mathjax/2.7.5/MathJax.js?config=TeX-AMS-MML_SVG\"></script><script type=\"text/javascript\">if (window.MathJax) {MathJax.Hub.Config({SVG: {font: \"STIX-Web\"}});}</script>                <script type=\"text/javascript\">window.PlotlyConfig = {MathJaxConfig: 'local'};</script>\n",
              "        <script src=\"https://cdn.plot.ly/plotly-2.8.3.min.js\"></script>                <div id=\"f9eacb16-950d-45cb-aae2-75aa13df3a9d\" class=\"plotly-graph-div\" style=\"height:525px; width:100%;\"></div>            <script type=\"text/javascript\">                                    window.PLOTLYENV=window.PLOTLYENV || {};                                    if (document.getElementById(\"f9eacb16-950d-45cb-aae2-75aa13df3a9d\")) {                    Plotly.newPlot(                        \"f9eacb16-950d-45cb-aae2-75aa13df3a9d\",                        [{\"hovertemplate\":\"<b>%{hovertext}</b><br><br>Groupe de pays=Asie<br>Valeur_pop=%{x}<br>Valeur_cer=%{y}<extra></extra>\",\"hovertext\":[\"Afghanistan\",\"Armenia\",\"Azerbaijan\",\"Bangladesh\",\"China\",\"Cyprus\",\"Democratic People's Republic of Korea\",\"Georgia\",\"India\",\"Iran (Islamic Republic of)\",\"Iraq\",\"Israel\",\"Japan\",\"Jordan\",\"Kazakhstan\",\"Kuwait\",\"Kyrgyzstan\",\"Lebanon\",\"Mongolia\",\"Myanmar\",\"Nepal\",\"Oman\",\"Pakistan\",\"Republic of Korea\",\"Saudi Arabia\",\"Tajikistan\",\"Thailand\",\"Turkey\",\"Turkmenistan\",\"United Arab Emirates\",\"Uzbekistan\",\"Yemen\"],\"legendgroup\":\"Asie\",\"marker\":{\"color\":\"#636efa\",\"symbol\":\"circle\"},\"mode\":\"markers\",\"name\":\"Asie\",\"orientation\":\"v\",\"showlegend\":true,\"x\":[30552,2977,9413,156595,1416667,1141,24895,4341,1252140,77447,33765,7733,127144,7274,16441,3369,5548,4822,2839,53259,27797,3632,182143,49263,28829,8208,67011,74933,5240,9346,28934,24407],\"xaxis\":\"x\",\"y\":[5169.0,312.0,1893.0,1255.0,121931.0,15.0,75.0,81.0,93510.0,9304.0,4178.0,152.0,812.0,30.0,13941.0,0.0,819.0,140.0,368.0,188.0,1727.0,2.0,24231.0,19.0,660.0,947.0,2.0,22100.0,1300.0,0.0,6842.0,232.0],\"yaxis\":\"y\",\"type\":\"scatter\"},{\"hovertemplate\":\"<b>%{hovertext}</b><br><br>Groupe de pays=Asie centrale et Asie du Sud<br>Valeur_pop=%{x}<br>Valeur_cer=%{y}<extra></extra>\",\"hovertext\":[\"Afghanistan\",\"Bangladesh\",\"India\",\"Iran (Islamic Republic of)\",\"Kazakhstan\",\"Kyrgyzstan\",\"Nepal\",\"Pakistan\",\"Tajikistan\",\"Turkmenistan\",\"Uzbekistan\"],\"legendgroup\":\"Asie centrale et Asie du Sud\",\"marker\":{\"color\":\"#EF553B\",\"symbol\":\"circle\"},\"mode\":\"markers\",\"name\":\"Asie centrale et Asie du Sud\",\"orientation\":\"v\",\"showlegend\":true,\"x\":[30552,156595,1252140,77447,16441,5548,27797,182143,8208,5240,28934],\"xaxis\":\"x\",\"y\":[5169.0,1255.0,93510.0,9304.0,13941.0,819.0,1727.0,24231.0,947.0,1300.0,6842.0],\"yaxis\":\"y\",\"type\":\"scatter\"},{\"hovertemplate\":\"<b>%{hovertext}</b><br><br>Groupe de pays=Asie du Sud (Inde Excl)<br>Valeur_pop=%{x}<br>Valeur_cer=%{y}<extra></extra>\",\"hovertext\":[\"Afghanistan\",\"Bangladesh\",\"Iran (Islamic Republic of)\",\"Nepal\",\"Pakistan\"],\"legendgroup\":\"Asie du Sud (Inde Excl)\",\"marker\":{\"color\":\"#00cc96\",\"symbol\":\"circle\"},\"mode\":\"markers\",\"name\":\"Asie du Sud (Inde Excl)\",\"orientation\":\"v\",\"showlegend\":true,\"x\":[30552,156595,77447,27797,182143],\"xaxis\":\"x\",\"y\":[5169.0,1255.0,9304.0,1727.0,24231.0],\"yaxis\":\"y\",\"type\":\"scatter\"},{\"hovertemplate\":\"<b>%{hovertext}</b><br><br>Groupe de pays=Asie m\\u00e9ridionale<br>Valeur_pop=%{x}<br>Valeur_cer=%{y}<extra></extra>\",\"hovertext\":[\"Afghanistan\",\"Bangladesh\",\"India\",\"Iran (Islamic Republic of)\",\"Nepal\",\"Pakistan\"],\"legendgroup\":\"Asie m\\u00e9ridionale\",\"marker\":{\"color\":\"#ab63fa\",\"symbol\":\"circle\"},\"mode\":\"markers\",\"name\":\"Asie m\\u00e9ridionale\",\"orientation\":\"v\",\"showlegend\":true,\"x\":[30552,156595,1252140,77447,27797,182143],\"xaxis\":\"x\",\"y\":[5169.0,1255.0,93510.0,9304.0,1727.0,24231.0],\"yaxis\":\"y\",\"type\":\"scatter\"},{\"hovertemplate\":\"<b>%{hovertext}</b><br><br>Groupe de pays=Imp Nets Prod Alim Dvpm<br>Valeur_pop=%{x}<br>Valeur_cer=%{y}<extra></extra>\",\"hovertext\":[\"Afghanistan\",\"Angola\",\"Bangladesh\",\"Botswana\",\"Chad\",\"Egypt\",\"Ethiopia\",\"Honduras\",\"Jordan\",\"Kenya\",\"Lesotho\",\"Madagascar\",\"Malawi\",\"Mali\",\"Mauritania\",\"Mongolia\",\"Morocco\",\"Mozambique\",\"Myanmar\",\"Namibia\",\"Nepal\",\"Niger\",\"Pakistan\",\"Peru\",\"Rwanda\",\"Sudan\",\"Eswatini\",\"Tunisia\",\"Uganda\",\"United Republic of Tanzania\",\"Venezuela (Bolivarian Republic of)\",\"Yemen\",\"Zambia\"],\"legendgroup\":\"Imp Nets Prod Alim Dvpm\",\"marker\":{\"color\":\"#FFA15A\",\"symbol\":\"circle\"},\"mode\":\"markers\",\"name\":\"Imp Nets Prod Alim Dvpm\",\"orientation\":\"v\",\"showlegend\":true,\"x\":[30552,21472,156595,2021,12825,82056,94101,8096,7274,44354,2074,22925,16363,15302,3890,2839,33008,25834,53259,2303,27797,17831,182143,30376,11777,37964,1250,10997,37579,49253,30405,24407,14539],\"xaxis\":\"x\",\"y\":[5169.0,4.0,1255.0,0.0,32.0,9460.0,4039.0,1.0,30.0,486.0,13.0,5.0,2.0,27.0,7.0,368.0,6934.0,21.0,188.0,15.0,1727.0,7.0,24231.0,230.0,70.0,265.0,1.0,975.0,20.0,104.0,0.0,232.0,274.0],\"yaxis\":\"y\",\"type\":\"scatter\"},{\"hovertemplate\":\"<b>%{hovertext}</b><br><br>Groupe de pays=Monde<br>Valeur_pop=%{x}<br>Valeur_cer=%{y}<extra></extra>\",\"hovertext\":[\"Afghanistan\",\"Albania\",\"Algeria\",\"Angola\",\"Argentina\",\"Armenia\",\"Australia\",\"Austria\",\"Azerbaijan\",\"Bangladesh\",\"Belarus\",\"Belgium\",\"Bolivia\",\"Bosnia and Herzegovina\",\"Botswana\",\"Brazil\",\"Bulgaria\",\"Cameroon\",\"Canada\",\"Chad\",\"Chile\",\"China\",\"Colombia\",\"Croatia\",\"Cyprus\",\"Czechia\",\"Democratic People's Republic of Korea\",\"Denmark\",\"Ecuador\",\"Egypt\",\"Estonia\",\"Ethiopia\",\"Finland\",\"France\",\"Georgia\",\"Germany\",\"Greece\",\"Guatemala\",\"Honduras\",\"Hungary\",\"India\",\"Iran (Islamic Republic of)\",\"Iraq\",\"Ireland\",\"Israel\",\"Italy\",\"Japan\",\"Jordan\",\"Kazakhstan\",\"Kenya\",\"Kuwait\",\"Kyrgyzstan\",\"Latvia\",\"Lebanon\",\"Lesotho\",\"Lithuania\",\"Luxembourg\",\"Madagascar\",\"Malawi\",\"Mali\",\"Malta\",\"Mauritania\",\"Mexico\",\"Mongolia\",\"Montenegro\",\"Morocco\",\"Mozambique\",\"Myanmar\",\"Namibia\",\"Nepal\",\"Netherlands\",\"New Caledonia\",\"New Zealand\",\"Niger\",\"Nigeria\",\"Norway\",\"Oman\",\"Pakistan\",\"Paraguay\",\"Peru\",\"Poland\",\"Portugal\",\"Republic of Korea\",\"Republic of Moldova\",\"Romania\",\"Russian Federation\",\"Rwanda\",\"Saudi Arabia\",\"Serbia\",\"Slovakia\",\"Slovenia\",\"South Africa\",\"Spain\",\"Sudan\",\"Eswatini\",\"Sweden\",\"Switzerland\",\"Tajikistan\",\"Thailand\",\"The former Yugoslav Republic of Macedonia\",\"Tunisia\",\"Turkey\",\"Turkmenistan\",\"Uganda\",\"Ukraine\",\"United Arab Emirates\",\"United Kingdom\",\"United Republic of Tanzania\",\"United States of America\",\"Uruguay\",\"Uzbekistan\",\"Venezuela (Bolivarian Republic of)\",\"Yemen\",\"Zambia\",\"Zimbabwe\"],\"legendgroup\":\"Monde\",\"marker\":{\"color\":\"#19d3f3\",\"symbol\":\"circle\"},\"mode\":\"markers\",\"name\":\"Monde\",\"orientation\":\"v\",\"showlegend\":true,\"x\":[30552,3173,39208,21472,41446,2977,23343,8495,9413,156595,9357,11104,10671,3829,2021,200362,7223,22254,35182,12825,17620,1416667,48321,4290,1141,10702,24895,5619,15738,82056,1287,94101,5426,64291,4341,82727,11128,15468,8096,9955,1252140,77447,33765,4627,7733,60990,127144,7274,16441,44354,3369,5548,2050,4822,2074,3017,530,22925,16363,15302,429,3890,122332,2839,621,33008,25834,53259,2303,27797,16759,256,4506,17831,173615,5043,3632,182143,6802,30376,38217,10608,49263,3487,21699,142834,11777,28829,9511,5450,2072,52776,46927,37964,1250,9571,8078,8208,67011,2107,10997,74933,5240,37579,45239,9346,63384,49253,320051,3407,28934,30405,24407,14539,14150],\"xaxis\":\"x\",\"y\":[5169.0,294.0,3299.0,4.0,9315.0,312.0,22856.0,1598.0,1893.0,1255.0,2101.0,1804.0,209.0,265.0,0.0,5718.0,5505.0,1.0,37530.0,32.0,1475.0,121931.0,8.0,999.0,15.0,4701.0,75.0,4145.0,6.0,9460.0,407.0,4039.0,869.0,38614.0,81.0,25019.0,1857.0,2.0,1.0,5058.0,93510.0,9304.0,4178.0,545.0,152.0,7312.0,812.0,30.0,13941.0,486.0,0.0,819.0,1435.0,140.0,13.0,2871.0,91.0,5.0,2.0,27.0,10.0,7.0,3357.0,368.0,2.0,6934.0,21.0,188.0,15.0,1727.0,1335.0,0.0,448.0,7.0,80.0,213.0,2.0,24231.0,1430.0,230.0,9485.0,92.0,19.0,1009.0,7296.0,52091.0,70.0,660.0,2690.0,1684.0,138.0,1870.0,7745.0,265.0,1.0,1869.0,480.0,947.0,2.0,259.0,975.0,22100.0,1300.0,20.0,22279.0,0.0,11921.0,104.0,57967.0,1533.0,6842.0,0.0,232.0,274.0,25.0],\"yaxis\":\"y\",\"type\":\"scatter\"},{\"hovertemplate\":\"<b>%{hovertext}</b><br><br>Groupe de pays=Pays \\u00e0 faible revenu<br>Valeur_pop=%{x}<br>Valeur_cer=%{y}<extra></extra>\",\"hovertext\":[\"Afghanistan\",\"Chad\",\"Democratic People's Republic of Korea\",\"Ethiopia\",\"Madagascar\",\"Malawi\",\"Mali\",\"Mozambique\",\"Nepal\",\"Niger\",\"Rwanda\",\"Tajikistan\",\"Uganda\",\"United Republic of Tanzania\",\"Yemen\",\"Zimbabwe\"],\"legendgroup\":\"Pays \\u00e0 faible revenu\",\"marker\":{\"color\":\"#FF6692\",\"symbol\":\"circle\"},\"mode\":\"markers\",\"name\":\"Pays \\u00e0 faible revenu\",\"orientation\":\"v\",\"showlegend\":true,\"x\":[30552,12825,24895,94101,22925,16363,15302,25834,27797,17831,11777,8208,37579,49253,24407,14150],\"xaxis\":\"x\",\"y\":[5169.0,32.0,75.0,4039.0,5.0,2.0,27.0,21.0,1727.0,7.0,70.0,947.0,20.0,104.0,232.0,25.0],\"yaxis\":\"y\",\"type\":\"scatter\"},{\"hovertemplate\":\"<b>%{hovertext}</b><br><br>Groupe de pays=Pays \\u00e0 faible revenu et \\u00e0 d\\u00e9ficit vivrier<br>Valeur_pop=%{x}<br>Valeur_cer=%{y}<extra></extra>\",\"hovertext\":[\"Afghanistan\",\"Bangladesh\",\"Cameroon\",\"Chad\",\"Democratic People's Republic of Korea\",\"Ethiopia\",\"India\",\"Kenya\",\"Kyrgyzstan\",\"Lesotho\",\"Madagascar\",\"Malawi\",\"Mali\",\"Mauritania\",\"Mozambique\",\"Nepal\",\"Niger\",\"Rwanda\",\"Sudan\",\"Tajikistan\",\"Uganda\",\"United Republic of Tanzania\",\"Uzbekistan\",\"Yemen\",\"Zimbabwe\"],\"legendgroup\":\"Pays \\u00e0 faible revenu et \\u00e0 d\\u00e9ficit vivrier\",\"marker\":{\"color\":\"#B6E880\",\"symbol\":\"circle\"},\"mode\":\"markers\",\"name\":\"Pays \\u00e0 faible revenu et \\u00e0 d\\u00e9ficit vivrier\",\"orientation\":\"v\",\"showlegend\":true,\"x\":[30552,156595,22254,12825,24895,94101,1252140,44354,5548,2074,22925,16363,15302,3890,25834,27797,17831,11777,37964,8208,37579,49253,28934,24407,14150],\"xaxis\":\"x\",\"y\":[5169.0,1255.0,1.0,32.0,75.0,4039.0,93510.0,486.0,819.0,13.0,5.0,2.0,27.0,7.0,21.0,1727.0,7.0,70.0,265.0,947.0,20.0,104.0,6842.0,232.0,25.0],\"yaxis\":\"y\",\"type\":\"scatter\"},{\"hovertemplate\":\"<b>%{hovertext}</b><br><br>Groupe de pays=Pays les moins d\\u00e9velopp\\u00e9s<br>Valeur_pop=%{x}<br>Valeur_cer=%{y}<extra></extra>\",\"hovertext\":[\"Afghanistan\",\"Angola\",\"Bangladesh\",\"Chad\",\"Ethiopia\",\"Lesotho\",\"Madagascar\",\"Malawi\",\"Mali\",\"Mauritania\",\"Mozambique\",\"Myanmar\",\"Nepal\",\"Niger\",\"Rwanda\",\"Sudan\",\"Uganda\",\"United Republic of Tanzania\",\"Yemen\",\"Zambia\"],\"legendgroup\":\"Pays les moins d\\u00e9velopp\\u00e9s\",\"marker\":{\"color\":\"#FF97FF\",\"symbol\":\"circle\"},\"mode\":\"markers\",\"name\":\"Pays les moins d\\u00e9velopp\\u00e9s\",\"orientation\":\"v\",\"showlegend\":true,\"x\":[30552,21472,156595,12825,94101,2074,22925,16363,15302,3890,25834,53259,27797,17831,11777,37964,37579,49253,24407,14539],\"xaxis\":\"x\",\"y\":[5169.0,4.0,1255.0,32.0,4039.0,13.0,5.0,2.0,27.0,7.0,21.0,188.0,1727.0,7.0,70.0,265.0,20.0,104.0,232.0,274.0],\"yaxis\":\"y\",\"type\":\"scatter\"},{\"hovertemplate\":\"<b>%{hovertext}</b><br><br>Groupe de pays=Pays Non-Annexe I<br>Valeur_pop=%{x}<br>Valeur_cer=%{y}<extra></extra>\",\"hovertext\":[\"Afghanistan\",\"Albania\",\"Algeria\",\"Angola\",\"Argentina\",\"Armenia\",\"Azerbaijan\",\"Bangladesh\",\"Bolivia\",\"Bosnia and Herzegovina\",\"Botswana\",\"Brazil\",\"Cameroon\",\"Chad\",\"Chile\",\"China\",\"Colombia\",\"Democratic People's Republic of Korea\",\"Ecuador\",\"Egypt\",\"Ethiopia\",\"Georgia\",\"Guatemala\",\"Honduras\",\"India\",\"Iran (Islamic Republic of)\",\"Iraq\",\"Israel\",\"Jordan\",\"Kazakhstan\",\"Kenya\",\"Kuwait\",\"Kyrgyzstan\",\"Lebanon\",\"Lesotho\",\"Madagascar\",\"Malawi\",\"Mali\",\"Mauritania\",\"Mexico\",\"Mongolia\",\"Montenegro\",\"Morocco\",\"Mozambique\",\"Myanmar\",\"Namibia\",\"Nepal\",\"Niger\",\"Nigeria\",\"Oman\",\"Pakistan\",\"Paraguay\",\"Peru\",\"Republic of Korea\",\"Republic of Moldova\",\"Rwanda\",\"Saudi Arabia\",\"Serbia\",\"South Africa\",\"Sudan\",\"Eswatini\",\"Tajikistan\",\"Thailand\",\"The former Yugoslav Republic of Macedonia\",\"Tunisia\",\"Turkmenistan\",\"Uganda\",\"United Arab Emirates\",\"United Republic of Tanzania\",\"Uruguay\",\"Uzbekistan\",\"Venezuela (Bolivarian Republic of)\",\"Yemen\",\"Zambia\",\"Zimbabwe\"],\"legendgroup\":\"Pays Non-Annexe I\",\"marker\":{\"color\":\"#FECB52\",\"symbol\":\"circle\"},\"mode\":\"markers\",\"name\":\"Pays Non-Annexe I\",\"orientation\":\"v\",\"showlegend\":true,\"x\":[30552,3173,39208,21472,41446,2977,9413,156595,10671,3829,2021,200362,22254,12825,17620,1416667,48321,24895,15738,82056,94101,4341,15468,8096,1252140,77447,33765,7733,7274,16441,44354,3369,5548,4822,2074,22925,16363,15302,3890,122332,2839,621,33008,25834,53259,2303,27797,17831,173615,3632,182143,6802,30376,49263,3487,11777,28829,9511,52776,37964,1250,8208,67011,2107,10997,5240,37579,9346,49253,3407,28934,30405,24407,14539,14150],\"xaxis\":\"x\",\"y\":[5169.0,294.0,3299.0,4.0,9315.0,312.0,1893.0,1255.0,209.0,265.0,0.0,5718.0,1.0,32.0,1475.0,121931.0,8.0,75.0,6.0,9460.0,4039.0,81.0,2.0,1.0,93510.0,9304.0,4178.0,152.0,30.0,13941.0,486.0,0.0,819.0,140.0,13.0,5.0,2.0,27.0,7.0,3357.0,368.0,2.0,6934.0,21.0,188.0,15.0,1727.0,7.0,80.0,2.0,24231.0,1430.0,230.0,19.0,1009.0,70.0,660.0,2690.0,1870.0,265.0,1.0,947.0,2.0,259.0,975.0,1300.0,20.0,0.0,104.0,1533.0,6842.0,0.0,232.0,274.0,25.0],\"yaxis\":\"y\",\"type\":\"scatter\"},{\"hovertemplate\":\"<b>%{hovertext}</b><br><br>Groupe de pays=Pays sans littoral en voie de d\\u00e9veloppement<br>Valeur_pop=%{x}<br>Valeur_cer=%{y}<extra></extra>\",\"hovertext\":[\"Afghanistan\",\"Armenia\",\"Azerbaijan\",\"Bolivia\",\"Botswana\",\"Chad\",\"Ethiopia\",\"Kazakhstan\",\"Kyrgyzstan\",\"Lesotho\",\"Malawi\",\"Mali\",\"Mongolia\",\"Nepal\",\"Niger\",\"Paraguay\",\"Republic of Moldova\",\"Rwanda\",\"Eswatini\",\"Tajikistan\",\"The former Yugoslav Republic of Macedonia\",\"Turkmenistan\",\"Uganda\",\"Uzbekistan\",\"Zambia\",\"Zimbabwe\"],\"legendgroup\":\"Pays sans littoral en voie de d\\u00e9veloppement\",\"marker\":{\"color\":\"#636efa\",\"symbol\":\"circle\"},\"mode\":\"markers\",\"name\":\"Pays sans littoral en voie de d\\u00e9veloppement\",\"orientation\":\"v\",\"showlegend\":true,\"x\":[30552,2977,9413,10671,2021,12825,94101,16441,5548,2074,16363,15302,2839,27797,17831,6802,3487,11777,1250,8208,2107,5240,37579,28934,14539,14150],\"xaxis\":\"x\",\"y\":[5169.0,312.0,1893.0,209.0,0.0,32.0,4039.0,13941.0,819.0,13.0,2.0,27.0,368.0,1727.0,7.0,1430.0,1009.0,70.0,1.0,947.0,259.0,1300.0,20.0,6842.0,274.0,25.0],\"yaxis\":\"y\",\"type\":\"scatter\"},{\"hovertemplate\":\"<b>%{hovertext}</b><br><br>Groupe de pays=Am\\u00e9rique du Nord et Europe<br>Valeur_pop=%{x}<br>Valeur_cer=%{y}<extra></extra>\",\"hovertext\":[\"Albania\",\"Austria\",\"Belarus\",\"Belgium\",\"Bosnia and Herzegovina\",\"Bulgaria\",\"Canada\",\"Croatia\",\"Czechia\",\"Denmark\",\"Estonia\",\"Finland\",\"France\",\"Germany\",\"Greece\",\"Hungary\",\"Ireland\",\"Italy\",\"Latvia\",\"Lithuania\",\"Luxembourg\",\"Malta\",\"Montenegro\",\"Netherlands\",\"Norway\",\"Poland\",\"Portugal\",\"Republic of Moldova\",\"Romania\",\"Russian Federation\",\"Serbia\",\"Slovakia\",\"Slovenia\",\"Spain\",\"Sweden\",\"Switzerland\",\"The former Yugoslav Republic of Macedonia\",\"Ukraine\",\"United Kingdom\",\"United States of America\"],\"legendgroup\":\"Am\\u00e9rique du Nord et Europe\",\"marker\":{\"color\":\"#EF553B\",\"symbol\":\"circle\"},\"mode\":\"markers\",\"name\":\"Am\\u00e9rique du Nord et Europe\",\"orientation\":\"v\",\"showlegend\":true,\"x\":[3173,8495,9357,11104,3829,7223,35182,4290,10702,5619,1287,5426,64291,82727,11128,9955,4627,60990,2050,3017,530,429,621,16759,5043,38217,10608,3487,21699,142834,9511,5450,2072,46927,9571,8078,2107,45239,63384,320051],\"xaxis\":\"x\",\"y\":[294.0,1598.0,2101.0,1804.0,265.0,5505.0,37530.0,999.0,4701.0,4145.0,407.0,869.0,38614.0,25019.0,1857.0,5058.0,545.0,7312.0,1435.0,2871.0,91.0,10.0,2.0,1335.0,213.0,9485.0,92.0,1009.0,7296.0,52091.0,2690.0,1684.0,138.0,7745.0,1869.0,480.0,259.0,22279.0,11921.0,57967.0],\"yaxis\":\"y\",\"type\":\"scatter\"},{\"hovertemplate\":\"<b>%{hovertext}</b><br><br>Groupe de pays=Europe<br>Valeur_pop=%{x}<br>Valeur_cer=%{y}<extra></extra>\",\"hovertext\":[\"Albania\",\"Austria\",\"Belarus\",\"Belgium\",\"Bosnia and Herzegovina\",\"Bulgaria\",\"Croatia\",\"Czechia\",\"Denmark\",\"Estonia\",\"Finland\",\"France\",\"Germany\",\"Greece\",\"Hungary\",\"Ireland\",\"Italy\",\"Latvia\",\"Lithuania\",\"Luxembourg\",\"Malta\",\"Montenegro\",\"Netherlands\",\"Norway\",\"Poland\",\"Portugal\",\"Republic of Moldova\",\"Romania\",\"Russian Federation\",\"Serbia\",\"Slovakia\",\"Slovenia\",\"Spain\",\"Sweden\",\"Switzerland\",\"The former Yugoslav Republic of Macedonia\",\"Ukraine\",\"United Kingdom\"],\"legendgroup\":\"Europe\",\"marker\":{\"color\":\"#00cc96\",\"symbol\":\"circle\"},\"mode\":\"markers\",\"name\":\"Europe\",\"orientation\":\"v\",\"showlegend\":true,\"x\":[3173,8495,9357,11104,3829,7223,4290,10702,5619,1287,5426,64291,82727,11128,9955,4627,60990,2050,3017,530,429,621,16759,5043,38217,10608,3487,21699,142834,9511,5450,2072,46927,9571,8078,2107,45239,63384],\"xaxis\":\"x\",\"y\":[294.0,1598.0,2101.0,1804.0,265.0,5505.0,999.0,4701.0,4145.0,407.0,869.0,38614.0,25019.0,1857.0,5058.0,545.0,7312.0,1435.0,2871.0,91.0,10.0,2.0,1335.0,213.0,9485.0,92.0,1009.0,7296.0,52091.0,2690.0,1684.0,138.0,7745.0,1869.0,480.0,259.0,22279.0,11921.0],\"yaxis\":\"y\",\"type\":\"scatter\"},{\"hovertemplate\":\"<b>%{hovertext}</b><br><br>Groupe de pays=Europe m\\u00e9ridionale<br>Valeur_pop=%{x}<br>Valeur_cer=%{y}<extra></extra>\",\"hovertext\":[\"Albania\",\"Bosnia and Herzegovina\",\"Croatia\",\"Greece\",\"Italy\",\"Malta\",\"Montenegro\",\"Portugal\",\"Serbia\",\"Slovenia\",\"Spain\",\"The former Yugoslav Republic of Macedonia\"],\"legendgroup\":\"Europe m\\u00e9ridionale\",\"marker\":{\"color\":\"#ab63fa\",\"symbol\":\"circle\"},\"mode\":\"markers\",\"name\":\"Europe m\\u00e9ridionale\",\"orientation\":\"v\",\"showlegend\":true,\"x\":[3173,3829,4290,11128,60990,429,621,10608,9511,2072,46927,2107],\"xaxis\":\"x\",\"y\":[294.0,265.0,999.0,1857.0,7312.0,10.0,2.0,92.0,2690.0,138.0,7745.0,259.0],\"yaxis\":\"y\",\"type\":\"scatter\"},{\"hovertemplate\":\"<b>%{hovertext}</b><br><br>Groupe de pays=Upper-middle-income economies<br>Valeur_pop=%{x}<br>Valeur_cer=%{y}<extra></extra>\",\"hovertext\":[\"Albania\",\"Algeria\",\"Armenia\",\"Azerbaijan\",\"Belarus\",\"Bosnia and Herzegovina\",\"Botswana\",\"Brazil\",\"Bulgaria\",\"Colombia\",\"Ecuador\",\"Guatemala\",\"Iran (Islamic Republic of)\",\"Iraq\",\"Jordan\",\"Kazakhstan\",\"Lebanon\",\"Mexico\",\"Montenegro\",\"Namibia\",\"Paraguay\",\"Peru\",\"Romania\",\"Russian Federation\",\"Serbia\",\"South Africa\",\"Thailand\",\"The former Yugoslav Republic of Macedonia\",\"Turkey\",\"Turkmenistan\",\"Venezuela (Bolivarian Republic of)\"],\"legendgroup\":\"Upper-middle-income economies\",\"marker\":{\"color\":\"#FFA15A\",\"symbol\":\"circle\"},\"mode\":\"markers\",\"name\":\"Upper-middle-income economies\",\"orientation\":\"v\",\"showlegend\":true,\"x\":[3173,39208,2977,9413,9357,3829,2021,200362,7223,48321,15738,15468,77447,33765,7274,16441,4822,122332,621,2303,6802,30376,21699,142834,9511,52776,67011,2107,74933,5240,30405],\"xaxis\":\"x\",\"y\":[294.0,3299.0,312.0,1893.0,2101.0,265.0,0.0,5718.0,5505.0,8.0,6.0,2.0,9304.0,4178.0,30.0,13941.0,140.0,3357.0,2.0,15.0,1430.0,230.0,7296.0,52091.0,2690.0,1870.0,2.0,259.0,22100.0,1300.0,0.0],\"yaxis\":\"y\",\"type\":\"scatter\"},{\"hovertemplate\":\"<b>%{hovertext}</b><br><br>Groupe de pays=Afrique<br>Valeur_pop=%{x}<br>Valeur_cer=%{y}<extra></extra>\",\"hovertext\":[\"Algeria\",\"Angola\",\"Botswana\",\"Cameroon\",\"Chad\",\"Egypt\",\"Ethiopia\",\"Kenya\",\"Lesotho\",\"Madagascar\",\"Malawi\",\"Mali\",\"Mauritania\",\"Morocco\",\"Mozambique\",\"Namibia\",\"Niger\",\"Nigeria\",\"Rwanda\",\"South Africa\",\"Sudan\",\"Eswatini\",\"Tunisia\",\"Uganda\",\"United Republic of Tanzania\",\"Zambia\",\"Zimbabwe\"],\"legendgroup\":\"Afrique\",\"marker\":{\"color\":\"#19d3f3\",\"symbol\":\"circle\"},\"mode\":\"markers\",\"name\":\"Afrique\",\"orientation\":\"v\",\"showlegend\":true,\"x\":[39208,21472,2021,22254,12825,82056,94101,44354,2074,22925,16363,15302,3890,33008,25834,2303,17831,173615,11777,52776,37964,1250,10997,37579,49253,14539,14150],\"xaxis\":\"x\",\"y\":[3299.0,4.0,0.0,1.0,32.0,9460.0,4039.0,486.0,13.0,5.0,2.0,27.0,7.0,6934.0,21.0,15.0,7.0,80.0,70.0,1870.0,265.0,1.0,975.0,20.0,104.0,274.0,25.0],\"yaxis\":\"y\",\"type\":\"scatter\"},{\"hovertemplate\":\"<b>%{hovertext}</b><br><br>Groupe de pays=Afrique du Nord (Soudan Excl)<br>Valeur_pop=%{x}<br>Valeur_cer=%{y}<extra></extra>\",\"hovertext\":[\"Algeria\",\"Egypt\",\"Morocco\",\"Tunisia\"],\"legendgroup\":\"Afrique du Nord (Soudan Excl)\",\"marker\":{\"color\":\"#FF6692\",\"symbol\":\"circle\"},\"mode\":\"markers\",\"name\":\"Afrique du Nord (Soudan Excl)\",\"orientation\":\"v\",\"showlegend\":true,\"x\":[39208,82056,33008,10997],\"xaxis\":\"x\",\"y\":[3299.0,9460.0,6934.0,975.0],\"yaxis\":\"y\",\"type\":\"scatter\"},{\"hovertemplate\":\"<b>%{hovertext}</b><br><br>Groupe de pays=Afrique septentrionale<br>Valeur_pop=%{x}<br>Valeur_cer=%{y}<extra></extra>\",\"hovertext\":[\"Algeria\",\"Egypt\",\"Morocco\",\"Sudan\",\"Tunisia\"],\"legendgroup\":\"Afrique septentrionale\",\"marker\":{\"color\":\"#B6E880\",\"symbol\":\"circle\"},\"mode\":\"markers\",\"name\":\"Afrique septentrionale\",\"orientation\":\"v\",\"showlegend\":true,\"x\":[39208,82056,33008,37964,10997],\"xaxis\":\"x\",\"y\":[3299.0,9460.0,6934.0,265.0,975.0],\"yaxis\":\"y\",\"type\":\"scatter\"},{\"hovertemplate\":\"<b>%{hovertext}</b><br><br>Groupe de pays=Asie occidentale et Afrique du Nord<br>Valeur_pop=%{x}<br>Valeur_cer=%{y}<extra></extra>\",\"hovertext\":[\"Algeria\",\"Armenia\",\"Azerbaijan\",\"Cyprus\",\"Egypt\",\"Georgia\",\"Iraq\",\"Israel\",\"Jordan\",\"Kuwait\",\"Lebanon\",\"Morocco\",\"Oman\",\"Saudi Arabia\",\"Sudan\",\"Tunisia\",\"Turkey\",\"United Arab Emirates\",\"Yemen\"],\"legendgroup\":\"Asie occidentale et Afrique du Nord\",\"marker\":{\"color\":\"#FF97FF\",\"symbol\":\"circle\"},\"mode\":\"markers\",\"name\":\"Asie occidentale et Afrique du Nord\",\"orientation\":\"v\",\"showlegend\":true,\"x\":[39208,2977,9413,1141,82056,4341,33765,7733,7274,3369,4822,33008,3632,28829,37964,10997,74933,9346,24407],\"xaxis\":\"x\",\"y\":[3299.0,312.0,1893.0,15.0,9460.0,81.0,4178.0,152.0,30.0,0.0,140.0,6934.0,2.0,660.0,265.0,975.0,22100.0,0.0,232.0],\"yaxis\":\"y\",\"type\":\"scatter\"},{\"hovertemplate\":\"<b>%{hovertext}</b><br><br>Groupe de pays=Afrique centrale<br>Valeur_pop=%{x}<br>Valeur_cer=%{y}<extra></extra>\",\"hovertext\":[\"Angola\",\"Cameroon\",\"Chad\"],\"legendgroup\":\"Afrique centrale\",\"marker\":{\"color\":\"#FECB52\",\"symbol\":\"circle\"},\"mode\":\"markers\",\"name\":\"Afrique centrale\",\"orientation\":\"v\",\"showlegend\":true,\"x\":[21472,22254,12825],\"xaxis\":\"x\",\"y\":[4.0,1.0,32.0],\"yaxis\":\"y\",\"type\":\"scatter\"},{\"hovertemplate\":\"<b>%{hovertext}</b><br><br>Groupe de pays=Afrique subsaharienne<br>Valeur_pop=%{x}<br>Valeur_cer=%{y}<extra></extra>\",\"hovertext\":[\"Angola\",\"Botswana\",\"Cameroon\",\"Chad\",\"Ethiopia\",\"Kenya\",\"Lesotho\",\"Madagascar\",\"Malawi\",\"Mali\",\"Mauritania\",\"Mozambique\",\"Namibia\",\"Niger\",\"Nigeria\",\"Rwanda\",\"South Africa\",\"Eswatini\",\"Uganda\",\"United Republic of Tanzania\",\"Zambia\",\"Zimbabwe\"],\"legendgroup\":\"Afrique subsaharienne\",\"marker\":{\"color\":\"#636efa\",\"symbol\":\"circle\"},\"mode\":\"markers\",\"name\":\"Afrique subsaharienne\",\"orientation\":\"v\",\"showlegend\":true,\"x\":[21472,2021,22254,12825,94101,44354,2074,22925,16363,15302,3890,25834,2303,17831,173615,11777,52776,1250,37579,49253,14539,14150],\"xaxis\":\"x\",\"y\":[4.0,0.0,1.0,32.0,4039.0,486.0,13.0,5.0,2.0,27.0,7.0,21.0,15.0,7.0,80.0,70.0,1870.0,1.0,20.0,104.0,274.0,25.0],\"yaxis\":\"y\",\"type\":\"scatter\"},{\"hovertemplate\":\"<b>%{hovertext}</b><br><br>Groupe de pays=Afrique subsaharienne (y compris Soudan)<br>Valeur_pop=%{x}<br>Valeur_cer=%{y}<extra></extra>\",\"hovertext\":[\"Angola\",\"Botswana\",\"Cameroon\",\"Chad\",\"Ethiopia\",\"Kenya\",\"Lesotho\",\"Madagascar\",\"Malawi\",\"Mali\",\"Mauritania\",\"Mozambique\",\"Namibia\",\"Niger\",\"Nigeria\",\"Rwanda\",\"South Africa\",\"Sudan\",\"Eswatini\",\"Uganda\",\"United Republic of Tanzania\",\"Zambia\",\"Zimbabwe\"],\"legendgroup\":\"Afrique subsaharienne (y compris Soudan)\",\"marker\":{\"color\":\"#EF553B\",\"symbol\":\"circle\"},\"mode\":\"markers\",\"name\":\"Afrique subsaharienne (y compris Soudan)\",\"orientation\":\"v\",\"showlegend\":true,\"x\":[21472,2021,22254,12825,94101,44354,2074,22925,16363,15302,3890,25834,2303,17831,173615,11777,52776,37964,1250,37579,49253,14539,14150],\"xaxis\":\"x\",\"y\":[4.0,0.0,1.0,32.0,4039.0,486.0,13.0,5.0,2.0,27.0,7.0,21.0,15.0,7.0,80.0,70.0,1870.0,265.0,1.0,20.0,104.0,274.0,25.0],\"yaxis\":\"y\",\"type\":\"scatter\"},{\"hovertemplate\":\"<b>%{hovertext}</b><br><br>Groupe de pays=Pays \\u00e0 revenu moyen<br>Valeur_pop=%{x}<br>Valeur_cer=%{y}<extra></extra>\",\"hovertext\":[\"Angola\",\"Bangladesh\",\"Bolivia\",\"Cameroon\",\"Egypt\",\"Georgia\",\"Honduras\",\"India\",\"Kenya\",\"Kyrgyzstan\",\"Lesotho\",\"Mauritania\",\"Mongolia\",\"Morocco\",\"Myanmar\",\"Nigeria\",\"Pakistan\",\"Republic of Moldova\",\"Sudan\",\"Eswatini\",\"Tunisia\",\"Ukraine\",\"Uzbekistan\",\"Zambia\"],\"legendgroup\":\"Pays \\u00e0 revenu moyen\",\"marker\":{\"color\":\"#00cc96\",\"symbol\":\"circle\"},\"mode\":\"markers\",\"name\":\"Pays \\u00e0 revenu moyen\",\"orientation\":\"v\",\"showlegend\":true,\"x\":[21472,156595,10671,22254,82056,4341,8096,1252140,44354,5548,2074,3890,2839,33008,53259,173615,182143,3487,37964,1250,10997,45239,28934,14539],\"xaxis\":\"x\",\"y\":[4.0,1255.0,209.0,1.0,9460.0,81.0,1.0,93510.0,486.0,819.0,13.0,7.0,368.0,6934.0,188.0,80.0,24231.0,1009.0,265.0,1.0,975.0,22279.0,6842.0,274.0],\"yaxis\":\"y\",\"type\":\"scatter\"},{\"hovertemplate\":\"<b>%{hovertext}</b><br><br>Groupe de pays=Am\\u00e9rique du Sud<br>Valeur_pop=%{x}<br>Valeur_cer=%{y}<extra></extra>\",\"hovertext\":[\"Argentina\",\"Bolivia\",\"Brazil\",\"Chile\",\"Colombia\",\"Ecuador\",\"Paraguay\",\"Peru\",\"Uruguay\",\"Venezuela (Bolivarian Republic of)\"],\"legendgroup\":\"Am\\u00e9rique du Sud\",\"marker\":{\"color\":\"#ab63fa\",\"symbol\":\"circle\"},\"mode\":\"markers\",\"name\":\"Am\\u00e9rique du Sud\",\"orientation\":\"v\",\"showlegend\":true,\"x\":[41446,10671,200362,17620,48321,15738,6802,30376,3407,30405],\"xaxis\":\"x\",\"y\":[9315.0,209.0,5718.0,1475.0,8.0,6.0,1430.0,230.0,1533.0,0.0],\"yaxis\":\"y\",\"type\":\"scatter\"},{\"hovertemplate\":\"<b>%{hovertext}</b><br><br>Groupe de pays=Am\\u00e9rique latine et Cara\\u00efbes<br>Valeur_pop=%{x}<br>Valeur_cer=%{y}<extra></extra>\",\"hovertext\":[\"Argentina\",\"Bolivia\",\"Brazil\",\"Chile\",\"Colombia\",\"Ecuador\",\"Guatemala\",\"Honduras\",\"Mexico\",\"Paraguay\",\"Peru\",\"Uruguay\",\"Venezuela (Bolivarian Republic of)\"],\"legendgroup\":\"Am\\u00e9rique latine et Cara\\u00efbes\",\"marker\":{\"color\":\"#FFA15A\",\"symbol\":\"circle\"},\"mode\":\"markers\",\"name\":\"Am\\u00e9rique latine et Cara\\u00efbes\",\"orientation\":\"v\",\"showlegend\":true,\"x\":[41446,10671,200362,17620,48321,15738,15468,8096,122332,6802,30376,3407,30405],\"xaxis\":\"x\",\"y\":[9315.0,209.0,5718.0,1475.0,8.0,6.0,2.0,1.0,3357.0,1430.0,230.0,1533.0,0.0],\"yaxis\":\"y\",\"type\":\"scatter\"},{\"hovertemplate\":\"<b>%{hovertext}</b><br><br>Groupe de pays=Am\\u00e9riques<br>Valeur_pop=%{x}<br>Valeur_cer=%{y}<extra></extra>\",\"hovertext\":[\"Argentina\",\"Bolivia\",\"Brazil\",\"Canada\",\"Chile\",\"Colombia\",\"Ecuador\",\"Guatemala\",\"Honduras\",\"Mexico\",\"Paraguay\",\"Peru\",\"United States of America\",\"Uruguay\",\"Venezuela (Bolivarian Republic of)\"],\"legendgroup\":\"Am\\u00e9riques\",\"marker\":{\"color\":\"#19d3f3\",\"symbol\":\"circle\"},\"mode\":\"markers\",\"name\":\"Am\\u00e9riques\",\"orientation\":\"v\",\"showlegend\":true,\"x\":[41446,10671,200362,35182,17620,48321,15738,15468,8096,122332,6802,30376,320051,3407,30405],\"xaxis\":\"x\",\"y\":[9315.0,209.0,5718.0,37530.0,1475.0,8.0,6.0,2.0,1.0,3357.0,1430.0,230.0,57967.0,1533.0,0.0],\"yaxis\":\"y\",\"type\":\"scatter\"},{\"hovertemplate\":\"<b>%{hovertext}</b><br><br>Groupe de pays=High-income economies<br>Valeur_pop=%{x}<br>Valeur_cer=%{y}<extra></extra>\",\"hovertext\":[\"Argentina\",\"Australia\",\"Austria\",\"Belgium\",\"Canada\",\"Chile\",\"Croatia\",\"Cyprus\",\"Czechia\",\"Denmark\",\"Estonia\",\"Finland\",\"France\",\"Germany\",\"Greece\",\"Hungary\",\"Ireland\",\"Israel\",\"Italy\",\"Japan\",\"Kuwait\",\"Latvia\",\"Lithuania\",\"Luxembourg\",\"Malta\",\"Netherlands\",\"New Caledonia\",\"New Zealand\",\"Norway\",\"Oman\",\"Poland\",\"Portugal\",\"Republic of Korea\",\"Saudi Arabia\",\"Slovakia\",\"Slovenia\",\"Spain\",\"Sweden\",\"Switzerland\",\"United Arab Emirates\",\"United Kingdom\",\"United States of America\",\"Uruguay\"],\"legendgroup\":\"High-income economies\",\"marker\":{\"color\":\"#FF6692\",\"symbol\":\"circle\"},\"mode\":\"markers\",\"name\":\"High-income economies\",\"orientation\":\"v\",\"showlegend\":true,\"x\":[41446,23343,8495,11104,35182,17620,4290,1141,10702,5619,1287,5426,64291,82727,11128,9955,4627,7733,60990,127144,3369,2050,3017,530,429,16759,256,4506,5043,3632,38217,10608,49263,28829,5450,2072,46927,9571,8078,9346,63384,320051,3407],\"xaxis\":\"x\",\"y\":[9315.0,22856.0,1598.0,1804.0,37530.0,1475.0,999.0,15.0,4701.0,4145.0,407.0,869.0,38614.0,25019.0,1857.0,5058.0,545.0,152.0,7312.0,812.0,0.0,1435.0,2871.0,91.0,10.0,1335.0,0.0,448.0,213.0,2.0,9485.0,92.0,19.0,660.0,1684.0,138.0,7745.0,1869.0,480.0,0.0,11921.0,57967.0,1533.0],\"yaxis\":\"y\",\"type\":\"scatter\"},{\"hovertemplate\":\"<b>%{hovertext}</b><br><br>Groupe de pays=Asie occidentale<br>Valeur_pop=%{x}<br>Valeur_cer=%{y}<extra></extra>\",\"hovertext\":[\"Armenia\",\"Azerbaijan\",\"Cyprus\",\"Georgia\",\"Iraq\",\"Israel\",\"Jordan\",\"Kuwait\",\"Lebanon\",\"Oman\",\"Saudi Arabia\",\"Turkey\",\"United Arab Emirates\",\"Yemen\"],\"legendgroup\":\"Asie occidentale\",\"marker\":{\"color\":\"#B6E880\",\"symbol\":\"circle\"},\"mode\":\"markers\",\"name\":\"Asie occidentale\",\"orientation\":\"v\",\"showlegend\":true,\"x\":[2977,9413,1141,4341,33765,7733,7274,3369,4822,3632,28829,74933,9346,24407],\"xaxis\":\"x\",\"y\":[312.0,1893.0,15.0,81.0,4178.0,152.0,30.0,0.0,140.0,2.0,660.0,22100.0,0.0,232.0],\"yaxis\":\"y\",\"type\":\"scatter\"},{\"hovertemplate\":\"<b>%{hovertext}</b><br><br>Groupe de pays=Caucase et Asie Centrale<br>Valeur_pop=%{x}<br>Valeur_cer=%{y}<extra></extra>\",\"hovertext\":[\"Armenia\",\"Azerbaijan\",\"Georgia\",\"Kazakhstan\",\"Kyrgyzstan\",\"Tajikistan\",\"Turkmenistan\",\"Uzbekistan\"],\"legendgroup\":\"Caucase et Asie Centrale\",\"marker\":{\"color\":\"#FF97FF\",\"symbol\":\"circle\"},\"mode\":\"markers\",\"name\":\"Caucase et Asie Centrale\",\"orientation\":\"v\",\"showlegend\":true,\"x\":[2977,9413,4341,16441,5548,8208,5240,28934],\"xaxis\":\"x\",\"y\":[312.0,1893.0,81.0,13941.0,819.0,947.0,1300.0,6842.0],\"yaxis\":\"y\",\"type\":\"scatter\"},{\"hovertemplate\":\"<b>%{hovertext}</b><br><br>Groupe de pays=Australie et Nouvelle-Z\\u00e9lande<br>Valeur_pop=%{x}<br>Valeur_cer=%{y}<extra></extra>\",\"hovertext\":[\"Australia\",\"New Zealand\"],\"legendgroup\":\"Australie et Nouvelle-Z\\u00e9lande\",\"marker\":{\"color\":\"#FECB52\",\"symbol\":\"circle\"},\"mode\":\"markers\",\"name\":\"Australie et Nouvelle-Z\\u00e9lande\",\"orientation\":\"v\",\"showlegend\":true,\"x\":[23343,4506],\"xaxis\":\"x\",\"y\":[22856.0,448.0],\"yaxis\":\"y\",\"type\":\"scatter\"},{\"hovertemplate\":\"<b>%{hovertext}</b><br><br>Groupe de pays=Oc\\u00e9anie<br>Valeur_pop=%{x}<br>Valeur_cer=%{y}<extra></extra>\",\"hovertext\":[\"Australia\",\"New Caledonia\",\"New Zealand\"],\"legendgroup\":\"Oc\\u00e9anie\",\"marker\":{\"color\":\"#636efa\",\"symbol\":\"circle\"},\"mode\":\"markers\",\"name\":\"Oc\\u00e9anie\",\"orientation\":\"v\",\"showlegend\":true,\"x\":[23343,256,4506],\"xaxis\":\"x\",\"y\":[22856.0,0.0,448.0],\"yaxis\":\"y\",\"type\":\"scatter\"},{\"hovertemplate\":\"<b>%{hovertext}</b><br><br>Groupe de pays=OECD<br>Valeur_pop=%{x}<br>Valeur_cer=%{y}<extra></extra>\",\"hovertext\":[\"Australia\",\"Austria\",\"Belgium\",\"Canada\",\"Chile\",\"Czechia\",\"Denmark\",\"Estonia\",\"Finland\",\"France\",\"Germany\",\"Greece\",\"Hungary\",\"Ireland\",\"Israel\",\"Italy\",\"Japan\",\"Latvia\",\"Luxembourg\",\"Mexico\",\"Netherlands\",\"New Zealand\",\"Norway\",\"Poland\",\"Portugal\",\"Republic of Korea\",\"Slovakia\",\"Slovenia\",\"Spain\",\"Sweden\",\"Switzerland\",\"Turkey\",\"United Kingdom\",\"United States of America\"],\"legendgroup\":\"OECD\",\"marker\":{\"color\":\"#EF553B\",\"symbol\":\"circle\"},\"mode\":\"markers\",\"name\":\"OECD\",\"orientation\":\"v\",\"showlegend\":true,\"x\":[23343,8495,11104,35182,17620,10702,5619,1287,5426,64291,82727,11128,9955,4627,7733,60990,127144,2050,530,122332,16759,4506,5043,38217,10608,49263,5450,2072,46927,9571,8078,74933,63384,320051],\"xaxis\":\"x\",\"y\":[22856.0,1598.0,1804.0,37530.0,1475.0,4701.0,4145.0,407.0,869.0,38614.0,25019.0,1857.0,5058.0,545.0,152.0,7312.0,812.0,1435.0,91.0,3357.0,1335.0,448.0,213.0,9485.0,92.0,19.0,1684.0,138.0,7745.0,1869.0,480.0,22100.0,11921.0,57967.0],\"yaxis\":\"y\",\"type\":\"scatter\"},{\"hovertemplate\":\"<b>%{hovertext}</b><br><br>Groupe de pays=Pays Annexe I<br>Valeur_pop=%{x}<br>Valeur_cer=%{y}<extra></extra>\",\"hovertext\":[\"Australia\",\"Austria\",\"Belarus\",\"Belgium\",\"Bulgaria\",\"Canada\",\"Croatia\",\"Cyprus\",\"Czechia\",\"Denmark\",\"Estonia\",\"Finland\",\"France\",\"Germany\",\"Greece\",\"Hungary\",\"Ireland\",\"Italy\",\"Japan\",\"Latvia\",\"Lithuania\",\"Luxembourg\",\"Malta\",\"Netherlands\",\"New Caledonia\",\"New Zealand\",\"Norway\",\"Poland\",\"Portugal\",\"Romania\",\"Russian Federation\",\"Slovakia\",\"Slovenia\",\"Spain\",\"Sweden\",\"Switzerland\",\"Turkey\",\"Ukraine\",\"United Kingdom\",\"United States of America\"],\"legendgroup\":\"Pays Annexe I\",\"marker\":{\"color\":\"#00cc96\",\"symbol\":\"circle\"},\"mode\":\"markers\",\"name\":\"Pays Annexe I\",\"orientation\":\"v\",\"showlegend\":true,\"x\":[23343,8495,9357,11104,7223,35182,4290,1141,10702,5619,1287,5426,64291,82727,11128,9955,4627,60990,127144,2050,3017,530,429,16759,256,4506,5043,38217,10608,21699,142834,5450,2072,46927,9571,8078,74933,45239,63384,320051],\"xaxis\":\"x\",\"y\":[22856.0,1598.0,2101.0,1804.0,5505.0,37530.0,999.0,15.0,4701.0,4145.0,407.0,869.0,38614.0,25019.0,1857.0,5058.0,545.0,7312.0,812.0,1435.0,2871.0,91.0,10.0,1335.0,0.0,448.0,213.0,9485.0,92.0,7296.0,52091.0,1684.0,138.0,7745.0,1869.0,480.0,22100.0,22279.0,11921.0,57967.0],\"yaxis\":\"y\",\"type\":\"scatter\"},{\"hovertemplate\":\"<b>%{hovertext}</b><br><br>Groupe de pays=Europe occidentale<br>Valeur_pop=%{x}<br>Valeur_cer=%{y}<extra></extra>\",\"hovertext\":[\"Austria\",\"Belgium\",\"France\",\"Germany\",\"Luxembourg\",\"Netherlands\",\"Switzerland\"],\"legendgroup\":\"Europe occidentale\",\"marker\":{\"color\":\"#ab63fa\",\"symbol\":\"circle\"},\"mode\":\"markers\",\"name\":\"Europe occidentale\",\"orientation\":\"v\",\"showlegend\":true,\"x\":[8495,11104,64291,82727,530,16759,8078],\"xaxis\":\"x\",\"y\":[1598.0,1804.0,38614.0,25019.0,91.0,1335.0,480.0],\"yaxis\":\"y\",\"type\":\"scatter\"},{\"hovertemplate\":\"<b>%{hovertext}</b><br><br>Groupe de pays=Union Europ\\u00e9enne (27)<br>Valeur_pop=%{x}<br>Valeur_cer=%{y}<extra></extra>\",\"hovertext\":[\"Austria\",\"Belgium\",\"Bulgaria\",\"Croatia\",\"Cyprus\",\"Czechia\",\"Denmark\",\"Estonia\",\"Finland\",\"France\",\"Germany\",\"Greece\",\"Hungary\",\"Ireland\",\"Italy\",\"Latvia\",\"Lithuania\",\"Luxembourg\",\"Malta\",\"Netherlands\",\"Poland\",\"Portugal\",\"Romania\",\"Slovakia\",\"Slovenia\",\"Spain\",\"Sweden\"],\"legendgroup\":\"Union Europ\\u00e9enne (27)\",\"marker\":{\"color\":\"#FFA15A\",\"symbol\":\"circle\"},\"mode\":\"markers\",\"name\":\"Union Europ\\u00e9enne (27)\",\"orientation\":\"v\",\"showlegend\":true,\"x\":[8495,11104,7223,4290,1141,10702,5619,1287,5426,64291,82727,11128,9955,4627,60990,2050,3017,530,429,16759,38217,10608,21699,5450,2072,46927,9571],\"xaxis\":\"x\",\"y\":[1598.0,1804.0,5505.0,999.0,15.0,4701.0,4145.0,407.0,869.0,38614.0,25019.0,1857.0,5058.0,545.0,7312.0,1435.0,2871.0,91.0,10.0,1335.0,9485.0,92.0,7296.0,1684.0,138.0,7745.0,1869.0],\"yaxis\":\"y\",\"type\":\"scatter\"},{\"hovertemplate\":\"<b>%{hovertext}</b><br><br>Groupe de pays=Europe orientale<br>Valeur_pop=%{x}<br>Valeur_cer=%{y}<extra></extra>\",\"hovertext\":[\"Belarus\",\"Bulgaria\",\"Czechia\",\"Hungary\",\"Poland\",\"Republic of Moldova\",\"Romania\",\"Russian Federation\",\"Slovakia\",\"Ukraine\"],\"legendgroup\":\"Europe orientale\",\"marker\":{\"color\":\"#19d3f3\",\"symbol\":\"circle\"},\"mode\":\"markers\",\"name\":\"Europe orientale\",\"orientation\":\"v\",\"showlegend\":true,\"x\":[9357,7223,10702,9955,38217,3487,21699,142834,5450,45239],\"xaxis\":\"x\",\"y\":[2101.0,5505.0,4701.0,5058.0,9485.0,1009.0,7296.0,52091.0,1684.0,22279.0],\"yaxis\":\"y\",\"type\":\"scatter\"},{\"hovertemplate\":\"<b>%{hovertext}</b><br><br>Groupe de pays=Afrique australe<br>Valeur_pop=%{x}<br>Valeur_cer=%{y}<extra></extra>\",\"hovertext\":[\"Botswana\",\"Lesotho\",\"Namibia\",\"South Africa\",\"Eswatini\"],\"legendgroup\":\"Afrique australe\",\"marker\":{\"color\":\"#FF6692\",\"symbol\":\"circle\"},\"mode\":\"markers\",\"name\":\"Afrique australe\",\"orientation\":\"v\",\"showlegend\":true,\"x\":[2021,2074,2303,52776,1250],\"xaxis\":\"x\",\"y\":[0.0,13.0,15.0,1870.0,1.0],\"yaxis\":\"y\",\"type\":\"scatter\"},{\"hovertemplate\":\"<b>%{hovertext}</b><br><br>Groupe de pays=Am\\u00e9rique Nord et Centrale<br>Valeur_pop=%{x}<br>Valeur_cer=%{y}<extra></extra>\",\"hovertext\":[\"Canada\",\"Guatemala\",\"United States of America\"],\"legendgroup\":\"Am\\u00e9rique Nord et Centrale\",\"marker\":{\"color\":\"#B6E880\",\"symbol\":\"circle\"},\"mode\":\"markers\",\"name\":\"Am\\u00e9rique Nord et Centrale\",\"orientation\":\"v\",\"showlegend\":true,\"x\":[35182,15468,320051],\"xaxis\":\"x\",\"y\":[37530.0,2.0,57967.0],\"yaxis\":\"y\",\"type\":\"scatter\"},{\"hovertemplate\":\"<b>%{hovertext}</b><br><br>Groupe de pays=Am\\u00e9rique septentrionale<br>Valeur_pop=%{x}<br>Valeur_cer=%{y}<extra></extra>\",\"hovertext\":[\"Canada\",\"United States of America\"],\"legendgroup\":\"Am\\u00e9rique septentrionale\",\"marker\":{\"color\":\"#FF97FF\",\"symbol\":\"circle\"},\"mode\":\"markers\",\"name\":\"Am\\u00e9rique septentrionale\",\"orientation\":\"v\",\"showlegend\":true,\"x\":[35182,320051],\"xaxis\":\"x\",\"y\":[37530.0,57967.0],\"yaxis\":\"y\",\"type\":\"scatter\"},{\"hovertemplate\":\"<b>%{hovertext}</b><br><br>Groupe de pays=Asie orientale<br>Valeur_pop=%{x}<br>Valeur_cer=%{y}<extra></extra>\",\"hovertext\":[\"China\",\"Democratic People's Republic of Korea\",\"Japan\",\"Mongolia\",\"Republic of Korea\"],\"legendgroup\":\"Asie orientale\",\"marker\":{\"color\":\"#FECB52\",\"symbol\":\"circle\"},\"mode\":\"markers\",\"name\":\"Asie orientale\",\"orientation\":\"v\",\"showlegend\":true,\"x\":[1416667,24895,127144,2839,49263],\"xaxis\":\"x\",\"y\":[121931.0,75.0,812.0,368.0,19.0],\"yaxis\":\"y\",\"type\":\"scatter\"},{\"hovertemplate\":\"<b>%{hovertext}</b><br><br>Groupe de pays=Asie orientale et Asie du Sud-Est<br>Valeur_pop=%{x}<br>Valeur_cer=%{y}<extra></extra>\",\"hovertext\":[\"China\",\"Democratic People's Republic of Korea\",\"Japan\",\"Mongolia\",\"Myanmar\",\"Republic of Korea\",\"Thailand\"],\"legendgroup\":\"Asie orientale et Asie du Sud-Est\",\"marker\":{\"color\":\"#636efa\",\"symbol\":\"circle\"},\"mode\":\"markers\",\"name\":\"Asie orientale et Asie du Sud-Est\",\"orientation\":\"v\",\"showlegend\":true,\"x\":[1416667,24895,127144,2839,53259,49263,67011],\"xaxis\":\"x\",\"y\":[121931.0,75.0,812.0,368.0,188.0,19.0,2.0],\"yaxis\":\"y\",\"type\":\"scatter\"},{\"hovertemplate\":\"<b>%{hovertext}</b><br><br>Groupe de pays=Eastern Asia (excluding Japan and China)<br>Valeur_pop=%{x}<br>Valeur_cer=%{y}<extra></extra>\",\"hovertext\":[\"Democratic People's Republic of Korea\",\"Mongolia\",\"Republic of Korea\"],\"legendgroup\":\"Eastern Asia (excluding Japan and China)\",\"marker\":{\"color\":\"#EF553B\",\"symbol\":\"circle\"},\"mode\":\"markers\",\"name\":\"Eastern Asia (excluding Japan and China)\",\"orientation\":\"v\",\"showlegend\":true,\"x\":[24895,2839,49263],\"xaxis\":\"x\",\"y\":[75.0,368.0,19.0],\"yaxis\":\"y\",\"type\":\"scatter\"},{\"hovertemplate\":\"<b>%{hovertext}</b><br><br>Groupe de pays=Eastern Asia (excluding Japan)<br>Valeur_pop=%{x}<br>Valeur_cer=%{y}<extra></extra>\",\"hovertext\":[\"Democratic People's Republic of Korea\",\"Mongolia\",\"Republic of Korea\"],\"legendgroup\":\"Eastern Asia (excluding Japan)\",\"marker\":{\"color\":\"#00cc96\",\"symbol\":\"circle\"},\"mode\":\"markers\",\"name\":\"Eastern Asia (excluding Japan)\",\"orientation\":\"v\",\"showlegend\":true,\"x\":[24895,2839,49263],\"xaxis\":\"x\",\"y\":[75.0,368.0,19.0],\"yaxis\":\"y\",\"type\":\"scatter\"},{\"hovertemplate\":\"<b>%{hovertext}</b><br><br>Groupe de pays=Europe septentrionale<br>Valeur_pop=%{x}<br>Valeur_cer=%{y}<extra></extra>\",\"hovertext\":[\"Denmark\",\"Estonia\",\"Finland\",\"Ireland\",\"Latvia\",\"Lithuania\",\"Norway\",\"Sweden\",\"United Kingdom\"],\"legendgroup\":\"Europe septentrionale\",\"marker\":{\"color\":\"#ab63fa\",\"symbol\":\"circle\"},\"mode\":\"markers\",\"name\":\"Europe septentrionale\",\"orientation\":\"v\",\"showlegend\":true,\"x\":[5619,1287,5426,4627,2050,3017,5043,9571,63384],\"xaxis\":\"x\",\"y\":[4145.0,407.0,869.0,545.0,1435.0,2871.0,213.0,1869.0,11921.0],\"yaxis\":\"y\",\"type\":\"scatter\"},{\"hovertemplate\":\"<b>%{hovertext}</b><br><br>Groupe de pays=Afrique orientale<br>Valeur_pop=%{x}<br>Valeur_cer=%{y}<extra></extra>\",\"hovertext\":[\"Ethiopia\",\"Kenya\",\"Madagascar\",\"Malawi\",\"Mozambique\",\"Rwanda\",\"Uganda\",\"United Republic of Tanzania\",\"Zambia\",\"Zimbabwe\"],\"legendgroup\":\"Afrique orientale\",\"marker\":{\"color\":\"#FFA15A\",\"symbol\":\"circle\"},\"mode\":\"markers\",\"name\":\"Afrique orientale\",\"orientation\":\"v\",\"showlegend\":true,\"x\":[94101,44354,22925,16363,25834,11777,37579,49253,14539,14150],\"xaxis\":\"x\",\"y\":[4039.0,486.0,5.0,2.0,21.0,70.0,20.0,104.0,274.0,25.0],\"yaxis\":\"y\",\"type\":\"scatter\"},{\"hovertemplate\":\"<b>%{hovertext}</b><br><br>Groupe de pays=Am\\u00e9rique centrale<br>Valeur_pop=%{x}<br>Valeur_cer=%{y}<extra></extra>\",\"hovertext\":[\"Guatemala\",\"Honduras\",\"Mexico\"],\"legendgroup\":\"Am\\u00e9rique centrale\",\"marker\":{\"color\":\"#19d3f3\",\"symbol\":\"circle\"},\"mode\":\"markers\",\"name\":\"Am\\u00e9rique centrale\",\"orientation\":\"v\",\"showlegend\":true,\"x\":[15468,8096,122332],\"xaxis\":\"x\",\"y\":[2.0,1.0,3357.0],\"yaxis\":\"y\",\"type\":\"scatter\"},{\"hovertemplate\":\"<b>%{hovertext}</b><br><br>Groupe de pays=Western Asia (exc. Armenia, Azerbaijan, Cyprus, Israel and Georgia)<br>Valeur_pop=%{x}<br>Valeur_cer=%{y}<extra></extra>\",\"hovertext\":[\"Iraq\",\"Jordan\",\"Kuwait\",\"Lebanon\",\"Oman\",\"Saudi Arabia\",\"Turkey\",\"United Arab Emirates\",\"Yemen\"],\"legendgroup\":\"Western Asia (exc. Armenia, Azerbaijan, Cyprus, Israel and Georgia)\",\"marker\":{\"color\":\"#FF6692\",\"symbol\":\"circle\"},\"mode\":\"markers\",\"name\":\"Western Asia (exc. Armenia, Azerbaijan, Cyprus, Israel and Georgia)\",\"orientation\":\"v\",\"showlegend\":true,\"x\":[33765,7274,3369,4822,3632,28829,74933,9346,24407],\"xaxis\":\"x\",\"y\":[4178.0,30.0,0.0,140.0,2.0,660.0,22100.0,0.0,232.0],\"yaxis\":\"y\",\"type\":\"scatter\"},{\"hovertemplate\":\"<b>%{hovertext}</b><br><br>Groupe de pays=Asie centrale<br>Valeur_pop=%{x}<br>Valeur_cer=%{y}<extra></extra>\",\"hovertext\":[\"Kazakhstan\",\"Kyrgyzstan\",\"Tajikistan\",\"Turkmenistan\",\"Uzbekistan\"],\"legendgroup\":\"Asie centrale\",\"marker\":{\"color\":\"#B6E880\",\"symbol\":\"circle\"},\"mode\":\"markers\",\"name\":\"Asie centrale\",\"orientation\":\"v\",\"showlegend\":true,\"x\":[16441,5548,8208,5240,28934],\"xaxis\":\"x\",\"y\":[13941.0,819.0,947.0,1300.0,6842.0],\"yaxis\":\"y\",\"type\":\"scatter\"},{\"hovertemplate\":\"<b>%{hovertext}</b><br><br>Groupe de pays=Afrique occidentale<br>Valeur_pop=%{x}<br>Valeur_cer=%{y}<extra></extra>\",\"hovertext\":[\"Mali\",\"Mauritania\",\"Niger\",\"Nigeria\"],\"legendgroup\":\"Afrique occidentale\",\"marker\":{\"color\":\"#FF97FF\",\"symbol\":\"circle\"},\"mode\":\"markers\",\"name\":\"Afrique occidentale\",\"orientation\":\"v\",\"showlegend\":true,\"x\":[15302,3890,17831,173615],\"xaxis\":\"x\",\"y\":[27.0,7.0,7.0,80.0],\"yaxis\":\"y\",\"type\":\"scatter\"},{\"hovertemplate\":\"<b>%{hovertext}</b><br><br>Groupe de pays=Asie du Sud-Est<br>Valeur_pop=%{x}<br>Valeur_cer=%{y}<extra></extra>\",\"hovertext\":[\"Myanmar\",\"Thailand\"],\"legendgroup\":\"Asie du Sud-Est\",\"marker\":{\"color\":\"#FECB52\",\"symbol\":\"circle\"},\"mode\":\"markers\",\"name\":\"Asie du Sud-Est\",\"orientation\":\"v\",\"showlegend\":true,\"x\":[53259,67011],\"xaxis\":\"x\",\"y\":[188.0,2.0],\"yaxis\":\"y\",\"type\":\"scatter\"},{\"hovertemplate\":\"<b>%{hovertext}</b><br><br>Groupe de pays=M\\u00e9lan\\u00e9sie<br>Valeur_pop=%{x}<br>Valeur_cer=%{y}<extra></extra>\",\"hovertext\":[\"New Caledonia\"],\"legendgroup\":\"M\\u00e9lan\\u00e9sie\",\"marker\":{\"color\":\"#636efa\",\"symbol\":\"circle\"},\"mode\":\"markers\",\"name\":\"M\\u00e9lan\\u00e9sie\",\"orientation\":\"v\",\"showlegend\":true,\"x\":[256],\"xaxis\":\"x\",\"y\":[0.0],\"yaxis\":\"y\",\"type\":\"scatter\"},{\"hovertemplate\":\"<b>%{hovertext}</b><br><br>Groupe de pays=Oc\\u00e9anie, hors Australie et Nouvelle-Z\\u00e9lande<br>Valeur_pop=%{x}<br>Valeur_cer=%{y}<extra></extra>\",\"hovertext\":[\"New Caledonia\"],\"legendgroup\":\"Oc\\u00e9anie, hors Australie et Nouvelle-Z\\u00e9lande\",\"marker\":{\"color\":\"#EF553B\",\"symbol\":\"circle\"},\"mode\":\"markers\",\"name\":\"Oc\\u00e9anie, hors Australie et Nouvelle-Z\\u00e9lande\",\"orientation\":\"v\",\"showlegend\":true,\"x\":[256],\"xaxis\":\"x\",\"y\":[0.0],\"yaxis\":\"y\",\"type\":\"scatter\"},{\"hovertemplate\":\"<b>%{hovertext}</b><br><br>Groupe de pays=Petites \\u00eeles en voie de D\\u00e9veloppement<br>Valeur_pop=%{x}<br>Valeur_cer=%{y}<extra></extra>\",\"hovertext\":[\"New Caledonia\"],\"legendgroup\":\"Petites \\u00eeles en voie de D\\u00e9veloppement\",\"marker\":{\"color\":\"#00cc96\",\"symbol\":\"circle\"},\"mode\":\"markers\",\"name\":\"Petites \\u00eeles en voie de D\\u00e9veloppement\",\"orientation\":\"v\",\"showlegend\":true,\"x\":[256],\"xaxis\":\"x\",\"y\":[0.0],\"yaxis\":\"y\",\"type\":\"scatter\"}],                        {\"template\":{\"data\":{\"bar\":[{\"error_x\":{\"color\":\"#2a3f5f\"},\"error_y\":{\"color\":\"#2a3f5f\"},\"marker\":{\"line\":{\"color\":\"#E5ECF6\",\"width\":0.5},\"pattern\":{\"fillmode\":\"overlay\",\"size\":10,\"solidity\":0.2}},\"type\":\"bar\"}],\"barpolar\":[{\"marker\":{\"line\":{\"color\":\"#E5ECF6\",\"width\":0.5},\"pattern\":{\"fillmode\":\"overlay\",\"size\":10,\"solidity\":0.2}},\"type\":\"barpolar\"}],\"carpet\":[{\"aaxis\":{\"endlinecolor\":\"#2a3f5f\",\"gridcolor\":\"white\",\"linecolor\":\"white\",\"minorgridcolor\":\"white\",\"startlinecolor\":\"#2a3f5f\"},\"baxis\":{\"endlinecolor\":\"#2a3f5f\",\"gridcolor\":\"white\",\"linecolor\":\"white\",\"minorgridcolor\":\"white\",\"startlinecolor\":\"#2a3f5f\"},\"type\":\"carpet\"}],\"choropleth\":[{\"colorbar\":{\"outlinewidth\":0,\"ticks\":\"\"},\"type\":\"choropleth\"}],\"contour\":[{\"colorbar\":{\"outlinewidth\":0,\"ticks\":\"\"},\"colorscale\":[[0.0,\"#0d0887\"],[0.1111111111111111,\"#46039f\"],[0.2222222222222222,\"#7201a8\"],[0.3333333333333333,\"#9c179e\"],[0.4444444444444444,\"#bd3786\"],[0.5555555555555556,\"#d8576b\"],[0.6666666666666666,\"#ed7953\"],[0.7777777777777778,\"#fb9f3a\"],[0.8888888888888888,\"#fdca26\"],[1.0,\"#f0f921\"]],\"type\":\"contour\"}],\"contourcarpet\":[{\"colorbar\":{\"outlinewidth\":0,\"ticks\":\"\"},\"type\":\"contourcarpet\"}],\"heatmap\":[{\"colorbar\":{\"outlinewidth\":0,\"ticks\":\"\"},\"colorscale\":[[0.0,\"#0d0887\"],[0.1111111111111111,\"#46039f\"],[0.2222222222222222,\"#7201a8\"],[0.3333333333333333,\"#9c179e\"],[0.4444444444444444,\"#bd3786\"],[0.5555555555555556,\"#d8576b\"],[0.6666666666666666,\"#ed7953\"],[0.7777777777777778,\"#fb9f3a\"],[0.8888888888888888,\"#fdca26\"],[1.0,\"#f0f921\"]],\"type\":\"heatmap\"}],\"heatmapgl\":[{\"colorbar\":{\"outlinewidth\":0,\"ticks\":\"\"},\"colorscale\":[[0.0,\"#0d0887\"],[0.1111111111111111,\"#46039f\"],[0.2222222222222222,\"#7201a8\"],[0.3333333333333333,\"#9c179e\"],[0.4444444444444444,\"#bd3786\"],[0.5555555555555556,\"#d8576b\"],[0.6666666666666666,\"#ed7953\"],[0.7777777777777778,\"#fb9f3a\"],[0.8888888888888888,\"#fdca26\"],[1.0,\"#f0f921\"]],\"type\":\"heatmapgl\"}],\"histogram\":[{\"marker\":{\"pattern\":{\"fillmode\":\"overlay\",\"size\":10,\"solidity\":0.2}},\"type\":\"histogram\"}],\"histogram2d\":[{\"colorbar\":{\"outlinewidth\":0,\"ticks\":\"\"},\"colorscale\":[[0.0,\"#0d0887\"],[0.1111111111111111,\"#46039f\"],[0.2222222222222222,\"#7201a8\"],[0.3333333333333333,\"#9c179e\"],[0.4444444444444444,\"#bd3786\"],[0.5555555555555556,\"#d8576b\"],[0.6666666666666666,\"#ed7953\"],[0.7777777777777778,\"#fb9f3a\"],[0.8888888888888888,\"#fdca26\"],[1.0,\"#f0f921\"]],\"type\":\"histogram2d\"}],\"histogram2dcontour\":[{\"colorbar\":{\"outlinewidth\":0,\"ticks\":\"\"},\"colorscale\":[[0.0,\"#0d0887\"],[0.1111111111111111,\"#46039f\"],[0.2222222222222222,\"#7201a8\"],[0.3333333333333333,\"#9c179e\"],[0.4444444444444444,\"#bd3786\"],[0.5555555555555556,\"#d8576b\"],[0.6666666666666666,\"#ed7953\"],[0.7777777777777778,\"#fb9f3a\"],[0.8888888888888888,\"#fdca26\"],[1.0,\"#f0f921\"]],\"type\":\"histogram2dcontour\"}],\"mesh3d\":[{\"colorbar\":{\"outlinewidth\":0,\"ticks\":\"\"},\"type\":\"mesh3d\"}],\"parcoords\":[{\"line\":{\"colorbar\":{\"outlinewidth\":0,\"ticks\":\"\"}},\"type\":\"parcoords\"}],\"pie\":[{\"automargin\":true,\"type\":\"pie\"}],\"scatter\":[{\"marker\":{\"colorbar\":{\"outlinewidth\":0,\"ticks\":\"\"}},\"type\":\"scatter\"}],\"scatter3d\":[{\"line\":{\"colorbar\":{\"outlinewidth\":0,\"ticks\":\"\"}},\"marker\":{\"colorbar\":{\"outlinewidth\":0,\"ticks\":\"\"}},\"type\":\"scatter3d\"}],\"scattercarpet\":[{\"marker\":{\"colorbar\":{\"outlinewidth\":0,\"ticks\":\"\"}},\"type\":\"scattercarpet\"}],\"scattergeo\":[{\"marker\":{\"colorbar\":{\"outlinewidth\":0,\"ticks\":\"\"}},\"type\":\"scattergeo\"}],\"scattergl\":[{\"marker\":{\"colorbar\":{\"outlinewidth\":0,\"ticks\":\"\"}},\"type\":\"scattergl\"}],\"scattermapbox\":[{\"marker\":{\"colorbar\":{\"outlinewidth\":0,\"ticks\":\"\"}},\"type\":\"scattermapbox\"}],\"scatterpolar\":[{\"marker\":{\"colorbar\":{\"outlinewidth\":0,\"ticks\":\"\"}},\"type\":\"scatterpolar\"}],\"scatterpolargl\":[{\"marker\":{\"colorbar\":{\"outlinewidth\":0,\"ticks\":\"\"}},\"type\":\"scatterpolargl\"}],\"scatterternary\":[{\"marker\":{\"colorbar\":{\"outlinewidth\":0,\"ticks\":\"\"}},\"type\":\"scatterternary\"}],\"surface\":[{\"colorbar\":{\"outlinewidth\":0,\"ticks\":\"\"},\"colorscale\":[[0.0,\"#0d0887\"],[0.1111111111111111,\"#46039f\"],[0.2222222222222222,\"#7201a8\"],[0.3333333333333333,\"#9c179e\"],[0.4444444444444444,\"#bd3786\"],[0.5555555555555556,\"#d8576b\"],[0.6666666666666666,\"#ed7953\"],[0.7777777777777778,\"#fb9f3a\"],[0.8888888888888888,\"#fdca26\"],[1.0,\"#f0f921\"]],\"type\":\"surface\"}],\"table\":[{\"cells\":{\"fill\":{\"color\":\"#EBF0F8\"},\"line\":{\"color\":\"white\"}},\"header\":{\"fill\":{\"color\":\"#C8D4E3\"},\"line\":{\"color\":\"white\"}},\"type\":\"table\"}]},\"layout\":{\"annotationdefaults\":{\"arrowcolor\":\"#2a3f5f\",\"arrowhead\":0,\"arrowwidth\":1},\"autotypenumbers\":\"strict\",\"coloraxis\":{\"colorbar\":{\"outlinewidth\":0,\"ticks\":\"\"}},\"colorscale\":{\"diverging\":[[0,\"#8e0152\"],[0.1,\"#c51b7d\"],[0.2,\"#de77ae\"],[0.3,\"#f1b6da\"],[0.4,\"#fde0ef\"],[0.5,\"#f7f7f7\"],[0.6,\"#e6f5d0\"],[0.7,\"#b8e186\"],[0.8,\"#7fbc41\"],[0.9,\"#4d9221\"],[1,\"#276419\"]],\"sequential\":[[0.0,\"#0d0887\"],[0.1111111111111111,\"#46039f\"],[0.2222222222222222,\"#7201a8\"],[0.3333333333333333,\"#9c179e\"],[0.4444444444444444,\"#bd3786\"],[0.5555555555555556,\"#d8576b\"],[0.6666666666666666,\"#ed7953\"],[0.7777777777777778,\"#fb9f3a\"],[0.8888888888888888,\"#fdca26\"],[1.0,\"#f0f921\"]],\"sequentialminus\":[[0.0,\"#0d0887\"],[0.1111111111111111,\"#46039f\"],[0.2222222222222222,\"#7201a8\"],[0.3333333333333333,\"#9c179e\"],[0.4444444444444444,\"#bd3786\"],[0.5555555555555556,\"#d8576b\"],[0.6666666666666666,\"#ed7953\"],[0.7777777777777778,\"#fb9f3a\"],[0.8888888888888888,\"#fdca26\"],[1.0,\"#f0f921\"]]},\"colorway\":[\"#636efa\",\"#EF553B\",\"#00cc96\",\"#ab63fa\",\"#FFA15A\",\"#19d3f3\",\"#FF6692\",\"#B6E880\",\"#FF97FF\",\"#FECB52\"],\"font\":{\"color\":\"#2a3f5f\"},\"geo\":{\"bgcolor\":\"white\",\"lakecolor\":\"white\",\"landcolor\":\"#E5ECF6\",\"showlakes\":true,\"showland\":true,\"subunitcolor\":\"white\"},\"hoverlabel\":{\"align\":\"left\"},\"hovermode\":\"closest\",\"mapbox\":{\"style\":\"light\"},\"paper_bgcolor\":\"white\",\"plot_bgcolor\":\"#E5ECF6\",\"polar\":{\"angularaxis\":{\"gridcolor\":\"white\",\"linecolor\":\"white\",\"ticks\":\"\"},\"bgcolor\":\"#E5ECF6\",\"radialaxis\":{\"gridcolor\":\"white\",\"linecolor\":\"white\",\"ticks\":\"\"}},\"scene\":{\"xaxis\":{\"backgroundcolor\":\"#E5ECF6\",\"gridcolor\":\"white\",\"gridwidth\":2,\"linecolor\":\"white\",\"showbackground\":true,\"ticks\":\"\",\"zerolinecolor\":\"white\"},\"yaxis\":{\"backgroundcolor\":\"#E5ECF6\",\"gridcolor\":\"white\",\"gridwidth\":2,\"linecolor\":\"white\",\"showbackground\":true,\"ticks\":\"\",\"zerolinecolor\":\"white\"},\"zaxis\":{\"backgroundcolor\":\"#E5ECF6\",\"gridcolor\":\"white\",\"gridwidth\":2,\"linecolor\":\"white\",\"showbackground\":true,\"ticks\":\"\",\"zerolinecolor\":\"white\"}},\"shapedefaults\":{\"line\":{\"color\":\"#2a3f5f\"}},\"ternary\":{\"aaxis\":{\"gridcolor\":\"white\",\"linecolor\":\"white\",\"ticks\":\"\"},\"baxis\":{\"gridcolor\":\"white\",\"linecolor\":\"white\",\"ticks\":\"\"},\"bgcolor\":\"#E5ECF6\",\"caxis\":{\"gridcolor\":\"white\",\"linecolor\":\"white\",\"ticks\":\"\"}},\"title\":{\"x\":0.05},\"xaxis\":{\"automargin\":true,\"gridcolor\":\"white\",\"linecolor\":\"white\",\"ticks\":\"\",\"title\":{\"standoff\":15},\"zerolinecolor\":\"white\",\"zerolinewidth\":2},\"yaxis\":{\"automargin\":true,\"gridcolor\":\"white\",\"linecolor\":\"white\",\"ticks\":\"\",\"title\":{\"standoff\":15},\"zerolinecolor\":\"white\",\"zerolinewidth\":2}}},\"xaxis\":{\"anchor\":\"y\",\"domain\":[0.0,1.0],\"title\":{\"text\":\"Valeur_pop\"},\"type\":\"log\"},\"yaxis\":{\"anchor\":\"x\",\"domain\":[0.0,1.0],\"title\":{\"text\":\"Valeur_cer\"},\"type\":\"log\"},\"legend\":{\"title\":{\"text\":\"Groupe de pays\"},\"tracegroupgap\":0},\"title\":{\"text\":\"Production de Bl\\u00e9 par Population par Pays\"}},                        {\"responsive\": true}                    ).then(function(){\n",
              "                            \n",
              "var gd = document.getElementById('f9eacb16-950d-45cb-aae2-75aa13df3a9d');\n",
              "var x = new MutationObserver(function (mutations, observer) {{\n",
              "        var display = window.getComputedStyle(gd).display;\n",
              "        if (!display || display === 'none') {{\n",
              "            console.log([gd, 'removed!']);\n",
              "            Plotly.purge(gd);\n",
              "            observer.disconnect();\n",
              "        }}\n",
              "}});\n",
              "\n",
              "// Listen for the removal of the full notebook cells\n",
              "var notebookContainer = gd.closest('#notebook-container');\n",
              "if (notebookContainer) {{\n",
              "    x.observe(notebookContainer, {childList: true});\n",
              "}}\n",
              "\n",
              "// Listen for the clearing of the current output cell\n",
              "var outputEl = gd.closest('.output');\n",
              "if (outputEl) {{\n",
              "    x.observe(outputEl, {childList: true});\n",
              "}}\n",
              "\n",
              "                        })                };                            </script>        </div>\n",
              "</body>\n",
              "</html>"
            ]
          },
          "metadata": {}
        }
      ]
    },
    {
      "cell_type": "code",
      "source": [
        "# Creation data frame pour pareto population\n",
        "# Join population et cereal production et pays continents\n",
        "\n",
        "df_pop_cerealprod = population.join(cereal, on= \"Code Pays\",how=\"left\", lsuffix=\"_pop\", rsuffix=\"_cer\" )\n",
        "df_pop_cerealprod = df_pop_cerealprod.join(pays_continents, on= \"Code Pays\",how=\"left\", lsuffix=\"_popcer\", rsuffix=\"_conti\" )\n",
        "df_pop_cerealprod = df_pop_cerealprod.query(\"Élément_cer in ('Production')\")\n",
        "df_pop_cerealprod = df_pop_cerealprod[[\"Valeur_pop\",\"Valeur_cer\",\"Groupe de pays\"]]\n",
        "#print(df_pop_cerealprod)\n",
        "df_pop_cerealprod[\"sum_val_cer\"]=df_pop_cerealprod.groupby(by=\"Groupe de pays\")[\"Valeur_cer\"].sum()\n",
        "\n",
        "print(df_pop_cerealprod.groupby(by=\"Groupe de pays\")[\"Valeur_cer\"].sum())"
      ],
      "metadata": {
        "colab": {
          "base_uri": "https://localhost:8080/"
        },
        "id": "-5EYoOVH_wRu",
        "outputId": "f75508e4-0873-4bcc-93ea-1060bd648195"
      },
      "execution_count": null,
      "outputs": [
        {
          "output_type": "stream",
          "name": "stdout",
          "text": [
            "Groupe de pays\n",
            "Afrique                                                                 170048.0\n",
            "Afrique australe                                                         14501.0\n",
            "Afrique centrale                                                          7445.0\n",
            "Afrique du Nord (Soudan Excl)                                            38321.0\n",
            "Afrique occidentale                                                      52460.0\n",
            "Afrique orientale                                                        52113.0\n",
            "Afrique septentrionale                                                   43529.0\n",
            "Afrique subsaharienne                                                   126519.0\n",
            "Afrique subsaharienne (y compris Soudan)                                131727.0\n",
            "Amérique Nord et Centrale                                               503115.0\n",
            "Amérique centrale                                                        38138.0\n",
            "Amérique du Nord et Europe                                              984874.0\n",
            "Amérique du Sud                                                         178336.0\n",
            "Amérique latine et Caraïbes                                             218522.0\n",
            "Amérique septentrionale                                                 500092.0\n",
            "Amériques                                                               718614.0\n",
            "Asie                                                                   1113571.0\n",
            "Asie centrale                                                            30111.0\n",
            "Asie centrale et Asie du Sud                                            376493.0\n",
            "Asie du Sud (Inde Excl)                                                 105456.0\n",
            "Asie du Sud-Est                                                         183979.0\n",
            "Asie méridionale                                                        346382.0\n",
            "Asie occidentale                                                         50026.0\n",
            "Asie occidentale et Afrique du Nord                                      93555.0\n",
            "Asie orientale                                                          503073.0\n",
            "Asie orientale et Asie du Sud-Est                                       687052.0\n",
            "Australie et Nouvelle-Zélande                                            36319.0\n",
            "Caraïbes                                                                  2048.0\n",
            "Caucase et Asie Centrale                                                 34050.0\n",
            "Eastern Asia (excluding Japan and China)                                  8587.0\n",
            "Eastern Asia (excluding Japan)                                            8587.0\n",
            "Europe                                                                  484782.0\n",
            "Europe méridionale                                                       64185.0\n",
            "Europe occidentale                                                      125964.0\n",
            "Europe orientale                                                        245610.0\n",
            "Europe septentrionale                                                    49023.0\n",
            "High-income economies                                                   889766.0\n",
            "Imp Nets Prod Alim Dvpm                                                 253489.0\n",
            "Monde                                                                  2523347.0\n",
            "Mélanésie                                                                   13.0\n",
            "OECD                                                                    896076.0\n",
            "Océanie                                                                  36332.0\n",
            "Océanie, hors Australie et Nouvelle-Zélande                                 13.0\n",
            "Pays Annexe I                                                          1052415.0\n",
            "Pays Non-Annexe I                                                      1470932.0\n",
            "Pays les moins développés                                               163227.0\n",
            "Pays sans littoral en voie de développement                             114277.0\n",
            "Pays à faible revenu                                                     90248.0\n",
            "Pays à faible revenu et à déficit vivrier                               430554.0\n",
            "Pays à revenu moyen                                                     631394.0\n",
            "Petites îles en voie de Développement                                     3256.0\n",
            "Union Européenne (27)                                                   288741.0\n",
            "Upper-middle-income economies                                           425657.0\n",
            "Western Asia (exc. Armenia, Azerbaijan, Cyprus, Israel and Georgia)      45725.0\n",
            "Name: Valeur_cer, dtype: float64\n"
          ]
        }
      ]
    }
  ]
}