{
  "nbformat": 4,
  "nbformat_minor": 0,
  "metadata": {
    "colab": {
      "provenance": [],
      "mount_file_id": "https://github.com/data-IA-2022/FAO_Project_Tarik_FengFeng/blob/main/FAO_project_Fengfeng_Tarik.ipynb",
      "authorship_tag": "ABX9TyMZWA+8/68EEelI26f/nSgL",
      "include_colab_link": true
    },
    "kernelspec": {
      "name": "python3",
      "display_name": "Python 3"
    },
    "language_info": {
      "name": "python"
    }
  },
  "cells": [
    {
      "cell_type": "markdown",
      "metadata": {
        "id": "view-in-github",
        "colab_type": "text"
      },
      "source": [
        "<a href=\"https://colab.research.google.com/github/data-IA-2022/FAO_Project_Tarik_FengFeng/blob/main/Copie_de_FAO_project_Fengfeng_Tarik.ipynb\" target=\"_parent\"><img src=\"https://colab.research.google.com/assets/colab-badge.svg\" alt=\"Open In Colab\"/></a>"
      ]
    },
    {
      "cell_type": "markdown",
      "source": [
        "<h1><center>Data Analyse au sein de la FAO (Food and Agriculture Organization</h1>"
      ],
      "metadata": {
        "id": "bXxGBL_LKxCS"
      }
    },
    {
      "cell_type": "markdown",
      "source": [
        "<h2>Contexte du projet</h2>\n",
        "\n",
        "Au sein du service Data Analytics and Prospective de la FAO, vous êtes en charge d'analyser les données produites par les Nations Unies.\n",
        "\n",
        "Ces analyses conduisent à des rapports de synthèse à destination des décideurs.\n",
        "\n",
        "Pour êtes également en charge de la partie Prospective, c'est à dire donner des tendances et des évolutions probables quant à la production agricole, à l'alimentation et la nutrition mondiales."
      ],
      "metadata": {
        "id": "9PcdQCjlNHwc"
      }
    },
    {
      "cell_type": "code",
      "execution_count": 83,
      "metadata": {
        "id": "IXUCNgylP5AZ",
        "colab": {
          "base_uri": "https://localhost:8080/"
        },
        "outputId": "3d2917bb-5c4f-486b-ee2b-8e270c947363"
      },
      "outputs": [
        {
          "output_type": "stream",
          "name": "stdout",
          "text": [
            "Cloning into 'FAO_Project_Tarik_FengFeng'...\n",
            "remote: Enumerating objects: 73, done.\u001b[K\n",
            "remote: Counting objects: 100% (73/73), done.\u001b[K\n",
            "remote: Compressing objects: 100% (73/73), done.\u001b[K\n",
            "remote: Total 73 (delta 37), reused 0 (delta 0), pack-reused 0\u001b[K\n",
            "Unpacking objects: 100% (73/73), done.\n"
          ]
        }
      ],
      "source": [
        "# Copie des fichiers csv du repertoire github et suppréssions des ancien en cas de mise à jour\n",
        "\n",
        "!rm -r /content/FAO_Project_Tarik_FengFeng\n",
        "!git clone https://github.com/data-IA-2022/FAO_Project_Tarik_FengFeng.git"
      ]
    },
    {
      "cell_type": "code",
      "source": [
        "#importation des librairies python\n",
        "import os\n",
        "import pandas as pd\n",
        "import glob"
      ],
      "metadata": {
        "id": "pZSiveZmKUIJ"
      },
      "execution_count": 84,
      "outputs": []
    },
    {
      "cell_type": "code",
      "source": [
        "# Récupération des chemin vers les fichiers csv\n",
        "csv_path = '/content/FAO_Project_Tarik_FengFeng/fao_2013'\n",
        "def find_csv_filenames(path_to_dir=os.getcwd(), extension=\"csv\"):\n",
        "    filenames = []\n",
        "    for name in glob.glob(f'{path_to_dir}/*.{extension}'):\n",
        "      filenames.append(name)\n",
        "    return filenames\n",
        "all_csv_files= find_csv_filenames(path_to_dir=csv_path)\n",
        "print(all_csv_files)"
      ],
      "metadata": {
        "colab": {
          "base_uri": "https://localhost:8080/"
        },
        "id": "a1aCfsEfQD0t",
        "outputId": "3259cfbf-1103-484e-c34a-9064580e15c8"
      },
      "execution_count": 85,
      "outputs": [
        {
          "output_type": "stream",
          "name": "stdout",
          "text": [
            "['/content/FAO_Project_Tarik_FengFeng/fao_2013/FAOSTAT_2013_cereal.csv', '/content/FAO_Project_Tarik_FengFeng/fao_2013/FAOSTAT_2013_population.csv', '/content/FAO_Project_Tarik_FengFeng/fao_2013/FAOSTAT_2013_vegetal.csv', '/content/FAO_Project_Tarik_FengFeng/fao_2013/FAOSTAT_2013_animal.csv', '/content/FAO_Project_Tarik_FengFeng/fao_2013/pays-continents.csv', '/content/FAO_Project_Tarik_FengFeng/fao_2013/FAOSTAT_2013_sous_alimentation.csv']\n"
          ]
        }
      ]
    },
    {
      "cell_type": "code",
      "source": [
        "# Création d'un dictionaire avec nom des fichiers csv comme Key et dataframe comme value\n",
        "\n",
        "col_names= ['Code Domaine', 'Domaine', 'Code Pays', 'Pays', 'Code Élément',\n",
        "       'Élément', 'Code Produit', 'Produit', 'Code année', 'Année', 'Unité',\n",
        "       'Valeur', 'Symbole', 'Description du Symbole']\n",
        "df_dict = {}\n",
        "for f in all_csv_files:\n",
        "  df_name= f.split(\"/\")[-1].replace(\".csv\", \"\").split(\"_\")[-1]\n",
        "  if \"FAOSTAT_2013\" in f:\n",
        "    df_dict[f'{df_name}'] = pd.read_csv(f, encoding='utf-8', quotechar='\"', delimiter=',', names= col_names, header=0)\n",
        "  else:\n",
        "    df_dict[f'{df_name}'] = pd.read_csv(f, encoding='utf-8', quotechar='\"', delimiter=',')\n",
        "\n",
        "print(df_dict.keys())"
      ],
      "metadata": {
        "colab": {
          "base_uri": "https://localhost:8080/"
        },
        "id": "7aQUHyd2T5wD",
        "outputId": "4deb30ce-77dc-485f-9174-4d138e5d174a"
      },
      "execution_count": 86,
      "outputs": [
        {
          "output_type": "stream",
          "name": "stdout",
          "text": [
            "dict_keys(['cereal', 'population', 'vegetal', 'animal', 'pays-continents', 'alimentation'])\n"
          ]
        }
      ]
    },
    {
      "cell_type": "code",
      "source": [
        "# Définition des Dataframes\n",
        "\n",
        "animal= df_dict[\"animal\"]\n",
        "cereal= df_dict[\"cereal\"]\n",
        "population= df_dict[\"population\"]\n",
        "alimentation= df_dict[\"alimentation\"]\n",
        "vegetal= df_dict[\"vegetal\"]\n",
        "pays_continents= df_dict[\"pays-continents\"]"
      ],
      "metadata": {
        "id": "-1l-VcasW3A7"
      },
      "execution_count": 88,
      "outputs": []
    },
    {
      "cell_type": "code",
      "source": [
        "# Définir les codes pays comme index des Df\n",
        "animal.index= animal[\"Code Pays\"]\n",
        "animal.index.name= \"Code_Pays_id\"\n",
        "cereal.index= cereal[\"Code Pays\"]\n",
        "cereal.index.name= \"Code_Pays_id\"\n",
        "population.index= population[\"Code Pays\"]\n",
        "population.index.name= \"Code_Pays_id\"\n",
        "alimentation.index= alimentation[\"Code Pays\"]\n",
        "alimentation.index.name= \"Code_Pays_id\"\n",
        "vegetal.index= vegetal[\"Code Pays\"]\n",
        "vegetal.index.name= \"Code_Pays_id\"\n",
        "pays_continents.index= pays_continents[\"Code Pays\"]\n",
        "pays_continents.index.name= \"Code_Pays_id\""
      ],
      "metadata": {
        "id": "Rk2of00iXUNj"
      },
      "execution_count": 89,
      "outputs": []
    },
    {
      "cell_type": "markdown",
      "source": [
        "# Nouvelle section"
      ],
      "metadata": {
        "id": "PFGgi3gqOTzh"
      }
    },
    {
      "cell_type": "code",
      "source": [
        "# nb lignes et nb colonnes de nos df\n",
        "print(animal.shape)\n",
        "print(cereal.shape)\n",
        "print(population.shape)\n",
        "print(alimentation.shape)\n",
        "print(vegetal.shape)\n",
        "print(pays_continents.shape)"
      ],
      "metadata": {
        "id": "qdSgOR_ZYGoU"
      },
      "execution_count": null,
      "outputs": []
    },
    {
      "cell_type": "code",
      "source": [
        "# Join population et cereal production et pays continents\n",
        "\n",
        "df_pop_cerealprod = population.join(cereal, on= \"Code Pays\",how=\"left\", lsuffix=\"_pop\", rsuffix=\"_cer\" )\n",
        "df_pop_cerealprod = df_pop_cerealprod.join(pays_continents, on= \"Code Pays\",how=\"left\", lsuffix=\"_popcer\", rsuffix=\"_conti\" )\n",
        "df_pop_cerealprod = df_pop_cerealprod.query(\"Produit_cer in ('Blé') and Élément_cer in ('Production')\")\n",
        "df_pop_cerealprod = df_pop_cerealprod[[\"Valeur_pop\",\"Valeur_cer\",\"Pays_pop\",\"Groupe de pays\"]]\n",
        "print(df_pop_cerealprod)"
      ],
      "metadata": {
        "id": "-wDHO_E0YctU"
      },
      "execution_count": null,
      "outputs": []
    },
    {
      "cell_type": "code",
      "source": [
        "# Graphiques scatter plot de la production de blé par rapport à la population par pays\n",
        "\n",
        "# Error divide by zero encountered in log prendre les valeurs supérieur\n",
        "\n",
        "\n",
        "# Avec plotly\n",
        "import plotly.express as px\n",
        "import plotly.io as io\n",
        "io.renderers.default='colab'\n",
        "df = df_pop_cerealprod\n",
        "fig = px.scatter(df, x=\"Valeur_pop\", y=\"Valeur_cer\", color=\"Groupe de pays\", log_x=True, log_y=True)\n",
        "fig.show()"
      ],
      "metadata": {
        "colab": {
          "base_uri": "https://localhost:8080/",
          "height": 542
        },
        "id": "bQjdvUO-YpWr",
        "outputId": "b36cc7b5-e55c-4c2a-a8b1-d2a738f431a5"
      },
      "execution_count": 92,
      "outputs": [
        {
          "output_type": "display_data",
          "data": {
            "text/html": [
              "<html>\n",
              "<head><meta charset=\"utf-8\" /></head>\n",
              "<body>\n",
              "    <div>            <script src=\"https://cdnjs.cloudflare.com/ajax/libs/mathjax/2.7.5/MathJax.js?config=TeX-AMS-MML_SVG\"></script><script type=\"text/javascript\">if (window.MathJax) {MathJax.Hub.Config({SVG: {font: \"STIX-Web\"}});}</script>                <script type=\"text/javascript\">window.PlotlyConfig = {MathJaxConfig: 'local'};</script>\n",
              "        <script src=\"https://cdn.plot.ly/plotly-2.8.3.min.js\"></script>                <div id=\"2a9eb85c-8ad5-4a78-a88a-71036aa2ad73\" class=\"plotly-graph-div\" style=\"height:525px; width:100%;\"></div>            <script type=\"text/javascript\">                                    window.PLOTLYENV=window.PLOTLYENV || {};                                    if (document.getElementById(\"2a9eb85c-8ad5-4a78-a88a-71036aa2ad73\")) {                    Plotly.newPlot(                        \"2a9eb85c-8ad5-4a78-a88a-71036aa2ad73\",                        [{\"hovertemplate\":\"Groupe de pays=Asie<br>Valeur_pop=%{x}<br>Valeur_cer=%{y}<extra></extra>\",\"legendgroup\":\"Asie\",\"marker\":{\"color\":\"#636efa\",\"symbol\":\"circle\"},\"mode\":\"markers\",\"name\":\"Asie\",\"orientation\":\"v\",\"showlegend\":true,\"x\":[30552,2977,9413,156595,1385567,23330,1141,24895,4341,1252140,77447,33765,7733,127144,7274,16441,3369,5548,4822,2839,53259,27797,3632,182143,49263,28829,8208,67011,74933,5240,9346,28934,24407,1416667],\"xaxis\":\"x\",\"y\":[5169.0,312.0,1893.0,1255.0,121926.0,4.0,15.0,75.0,81.0,93510.0,9304.0,4178.0,152.0,812.0,30.0,13941.0,0.0,819.0,140.0,368.0,188.0,1727.0,2.0,24231.0,19.0,660.0,947.0,2.0,22100.0,1300.0,0.0,6842.0,232.0,121931.0],\"yaxis\":\"y\",\"type\":\"scatter\"},{\"hovertemplate\":\"Groupe de pays=Asie centrale et Asie du Sud<br>Valeur_pop=%{x}<br>Valeur_cer=%{y}<extra></extra>\",\"legendgroup\":\"Asie centrale et Asie du Sud\",\"marker\":{\"color\":\"#EF553B\",\"symbol\":\"circle\"},\"mode\":\"markers\",\"name\":\"Asie centrale et Asie du Sud\",\"orientation\":\"v\",\"showlegend\":true,\"x\":[30552,156595,1252140,77447,16441,5548,27797,182143,8208,5240,28934],\"xaxis\":\"x\",\"y\":[5169.0,1255.0,93510.0,9304.0,13941.0,819.0,1727.0,24231.0,947.0,1300.0,6842.0],\"yaxis\":\"y\",\"type\":\"scatter\"},{\"hovertemplate\":\"Groupe de pays=Asie du Sud (Inde Excl)<br>Valeur_pop=%{x}<br>Valeur_cer=%{y}<extra></extra>\",\"legendgroup\":\"Asie du Sud (Inde Excl)\",\"marker\":{\"color\":\"#00cc96\",\"symbol\":\"circle\"},\"mode\":\"markers\",\"name\":\"Asie du Sud (Inde Excl)\",\"orientation\":\"v\",\"showlegend\":true,\"x\":[30552,156595,77447,27797,182143],\"xaxis\":\"x\",\"y\":[5169.0,1255.0,9304.0,1727.0,24231.0],\"yaxis\":\"y\",\"type\":\"scatter\"},{\"hovertemplate\":\"Groupe de pays=Asie m\\u00e9ridionale<br>Valeur_pop=%{x}<br>Valeur_cer=%{y}<extra></extra>\",\"legendgroup\":\"Asie m\\u00e9ridionale\",\"marker\":{\"color\":\"#ab63fa\",\"symbol\":\"circle\"},\"mode\":\"markers\",\"name\":\"Asie m\\u00e9ridionale\",\"orientation\":\"v\",\"showlegend\":true,\"x\":[30552,156595,1252140,77447,27797,182143],\"xaxis\":\"x\",\"y\":[5169.0,1255.0,93510.0,9304.0,1727.0,24231.0],\"yaxis\":\"y\",\"type\":\"scatter\"},{\"hovertemplate\":\"Groupe de pays=Imp Nets Prod Alim Dvpm<br>Valeur_pop=%{x}<br>Valeur_cer=%{y}<extra></extra>\",\"legendgroup\":\"Imp Nets Prod Alim Dvpm\",\"marker\":{\"color\":\"#FFA15A\",\"symbol\":\"circle\"},\"mode\":\"markers\",\"name\":\"Imp Nets Prod Alim Dvpm\",\"orientation\":\"v\",\"showlegend\":true,\"x\":[30552,21472,156595,2021,12825,82056,94101,8096,7274,44354,2074,22925,16363,15302,3890,2839,33008,25834,53259,2303,27797,17831,182143,30376,11777,37964,1250,10997,37579,49253,30405,24407,14539],\"xaxis\":\"x\",\"y\":[5169.0,4.0,1255.0,0.0,32.0,9460.0,4039.0,1.0,30.0,486.0,13.0,5.0,2.0,27.0,7.0,368.0,6934.0,21.0,188.0,15.0,1727.0,7.0,24231.0,230.0,70.0,265.0,1.0,975.0,20.0,104.0,0.0,232.0,274.0],\"yaxis\":\"y\",\"type\":\"scatter\"},{\"hovertemplate\":\"Groupe de pays=Monde<br>Valeur_pop=%{x}<br>Valeur_cer=%{y}<extra></extra>\",\"legendgroup\":\"Monde\",\"marker\":{\"color\":\"#19d3f3\",\"symbol\":\"circle\"},\"mode\":\"markers\",\"name\":\"Monde\",\"orientation\":\"v\",\"showlegend\":true,\"x\":[30552,3173,39208,21472,41446,2977,23343,8495,9413,156595,9357,11104,10671,3829,2021,200362,7223,22254,35182,12825,17620,1385567,23330,48321,4290,1141,10702,24895,5619,15738,82056,1287,94101,5426,64291,4341,82727,11128,15468,8096,9955,1252140,77447,33765,4627,7733,60990,127144,7274,16441,44354,3369,5548,2050,4822,2074,3017,530,22925,16363,15302,429,3890,122332,2839,621,33008,25834,53259,2303,27797,16759,256,4506,17831,173615,5043,3632,182143,6802,30376,38217,10608,49263,3487,21699,142834,11777,28829,9511,5450,2072,52776,46927,37964,1250,9571,8078,8208,67011,2107,10997,74933,5240,37579,45239,9346,63384,49253,320051,3407,28934,30405,24407,14539,14150,1416667],\"xaxis\":\"x\",\"y\":[5169.0,294.0,3299.0,4.0,9315.0,312.0,22856.0,1598.0,1893.0,1255.0,2101.0,1804.0,209.0,265.0,0.0,5718.0,5505.0,1.0,37530.0,32.0,1475.0,121926.0,4.0,8.0,999.0,15.0,4701.0,75.0,4145.0,6.0,9460.0,407.0,4039.0,869.0,38614.0,81.0,25019.0,1857.0,2.0,1.0,5058.0,93510.0,9304.0,4178.0,545.0,152.0,7312.0,812.0,30.0,13941.0,486.0,0.0,819.0,1435.0,140.0,13.0,2871.0,91.0,5.0,2.0,27.0,10.0,7.0,3357.0,368.0,2.0,6934.0,21.0,188.0,15.0,1727.0,1335.0,0.0,448.0,7.0,80.0,213.0,2.0,24231.0,1430.0,230.0,9485.0,92.0,19.0,1009.0,7296.0,52091.0,70.0,660.0,2690.0,1684.0,138.0,1870.0,7745.0,265.0,1.0,1869.0,480.0,947.0,2.0,259.0,975.0,22100.0,1300.0,20.0,22279.0,0.0,11921.0,104.0,57967.0,1533.0,6842.0,0.0,232.0,274.0,25.0,121931.0],\"yaxis\":\"y\",\"type\":\"scatter\"},{\"hovertemplate\":\"Groupe de pays=Pays \\u00e0 faible revenu<br>Valeur_pop=%{x}<br>Valeur_cer=%{y}<extra></extra>\",\"legendgroup\":\"Pays \\u00e0 faible revenu\",\"marker\":{\"color\":\"#FF6692\",\"symbol\":\"circle\"},\"mode\":\"markers\",\"name\":\"Pays \\u00e0 faible revenu\",\"orientation\":\"v\",\"showlegend\":true,\"x\":[30552,12825,24895,94101,22925,16363,15302,25834,27797,17831,11777,8208,37579,49253,24407,14150],\"xaxis\":\"x\",\"y\":[5169.0,32.0,75.0,4039.0,5.0,2.0,27.0,21.0,1727.0,7.0,70.0,947.0,20.0,104.0,232.0,25.0],\"yaxis\":\"y\",\"type\":\"scatter\"},{\"hovertemplate\":\"Groupe de pays=Pays \\u00e0 faible revenu et \\u00e0 d\\u00e9ficit vivrier<br>Valeur_pop=%{x}<br>Valeur_cer=%{y}<extra></extra>\",\"legendgroup\":\"Pays \\u00e0 faible revenu et \\u00e0 d\\u00e9ficit vivrier\",\"marker\":{\"color\":\"#B6E880\",\"symbol\":\"circle\"},\"mode\":\"markers\",\"name\":\"Pays \\u00e0 faible revenu et \\u00e0 d\\u00e9ficit vivrier\",\"orientation\":\"v\",\"showlegend\":true,\"x\":[30552,156595,22254,12825,24895,94101,1252140,44354,5548,2074,22925,16363,15302,3890,25834,27797,17831,11777,37964,8208,37579,49253,28934,24407,14150],\"xaxis\":\"x\",\"y\":[5169.0,1255.0,1.0,32.0,75.0,4039.0,93510.0,486.0,819.0,13.0,5.0,2.0,27.0,7.0,21.0,1727.0,7.0,70.0,265.0,947.0,20.0,104.0,6842.0,232.0,25.0],\"yaxis\":\"y\",\"type\":\"scatter\"},{\"hovertemplate\":\"Groupe de pays=Pays les moins d\\u00e9velopp\\u00e9s<br>Valeur_pop=%{x}<br>Valeur_cer=%{y}<extra></extra>\",\"legendgroup\":\"Pays les moins d\\u00e9velopp\\u00e9s\",\"marker\":{\"color\":\"#FF97FF\",\"symbol\":\"circle\"},\"mode\":\"markers\",\"name\":\"Pays les moins d\\u00e9velopp\\u00e9s\",\"orientation\":\"v\",\"showlegend\":true,\"x\":[30552,21472,156595,12825,94101,2074,22925,16363,15302,3890,25834,53259,27797,17831,11777,37964,37579,49253,24407,14539],\"xaxis\":\"x\",\"y\":[5169.0,4.0,1255.0,32.0,4039.0,13.0,5.0,2.0,27.0,7.0,21.0,188.0,1727.0,7.0,70.0,265.0,20.0,104.0,232.0,274.0],\"yaxis\":\"y\",\"type\":\"scatter\"},{\"hovertemplate\":\"Groupe de pays=Pays Non-Annexe I<br>Valeur_pop=%{x}<br>Valeur_cer=%{y}<extra></extra>\",\"legendgroup\":\"Pays Non-Annexe I\",\"marker\":{\"color\":\"#FECB52\",\"symbol\":\"circle\"},\"mode\":\"markers\",\"name\":\"Pays Non-Annexe I\",\"orientation\":\"v\",\"showlegend\":true,\"x\":[30552,3173,39208,21472,41446,2977,9413,156595,10671,3829,2021,200362,22254,12825,17620,1385567,23330,48321,24895,15738,82056,94101,4341,15468,8096,1252140,77447,33765,7733,7274,16441,44354,3369,5548,4822,2074,22925,16363,15302,3890,122332,2839,621,33008,25834,53259,2303,27797,17831,173615,3632,182143,6802,30376,49263,3487,11777,28829,9511,52776,37964,1250,8208,67011,2107,10997,5240,37579,9346,49253,3407,28934,30405,24407,14539,14150,1416667],\"xaxis\":\"x\",\"y\":[5169.0,294.0,3299.0,4.0,9315.0,312.0,1893.0,1255.0,209.0,265.0,0.0,5718.0,1.0,32.0,1475.0,121926.0,4.0,8.0,75.0,6.0,9460.0,4039.0,81.0,2.0,1.0,93510.0,9304.0,4178.0,152.0,30.0,13941.0,486.0,0.0,819.0,140.0,13.0,5.0,2.0,27.0,7.0,3357.0,368.0,2.0,6934.0,21.0,188.0,15.0,1727.0,7.0,80.0,2.0,24231.0,1430.0,230.0,19.0,1009.0,70.0,660.0,2690.0,1870.0,265.0,1.0,947.0,2.0,259.0,975.0,1300.0,20.0,0.0,104.0,1533.0,6842.0,0.0,232.0,274.0,25.0,121931.0],\"yaxis\":\"y\",\"type\":\"scatter\"},{\"hovertemplate\":\"Groupe de pays=Pays sans littoral en voie de d\\u00e9veloppement<br>Valeur_pop=%{x}<br>Valeur_cer=%{y}<extra></extra>\",\"legendgroup\":\"Pays sans littoral en voie de d\\u00e9veloppement\",\"marker\":{\"color\":\"#636efa\",\"symbol\":\"circle\"},\"mode\":\"markers\",\"name\":\"Pays sans littoral en voie de d\\u00e9veloppement\",\"orientation\":\"v\",\"showlegend\":true,\"x\":[30552,2977,9413,10671,2021,12825,94101,16441,5548,2074,16363,15302,2839,27797,17831,6802,3487,11777,1250,8208,2107,5240,37579,28934,14539,14150],\"xaxis\":\"x\",\"y\":[5169.0,312.0,1893.0,209.0,0.0,32.0,4039.0,13941.0,819.0,13.0,2.0,27.0,368.0,1727.0,7.0,1430.0,1009.0,70.0,1.0,947.0,259.0,1300.0,20.0,6842.0,274.0,25.0],\"yaxis\":\"y\",\"type\":\"scatter\"},{\"hovertemplate\":\"Groupe de pays=Am\\u00e9rique du Nord et Europe<br>Valeur_pop=%{x}<br>Valeur_cer=%{y}<extra></extra>\",\"legendgroup\":\"Am\\u00e9rique du Nord et Europe\",\"marker\":{\"color\":\"#EF553B\",\"symbol\":\"circle\"},\"mode\":\"markers\",\"name\":\"Am\\u00e9rique du Nord et Europe\",\"orientation\":\"v\",\"showlegend\":true,\"x\":[3173,8495,9357,11104,3829,7223,35182,4290,10702,5619,1287,5426,64291,82727,11128,9955,4627,60990,2050,3017,530,429,621,16759,5043,38217,10608,3487,21699,142834,9511,5450,2072,46927,9571,8078,2107,45239,63384,320051],\"xaxis\":\"x\",\"y\":[294.0,1598.0,2101.0,1804.0,265.0,5505.0,37530.0,999.0,4701.0,4145.0,407.0,869.0,38614.0,25019.0,1857.0,5058.0,545.0,7312.0,1435.0,2871.0,91.0,10.0,2.0,1335.0,213.0,9485.0,92.0,1009.0,7296.0,52091.0,2690.0,1684.0,138.0,7745.0,1869.0,480.0,259.0,22279.0,11921.0,57967.0],\"yaxis\":\"y\",\"type\":\"scatter\"},{\"hovertemplate\":\"Groupe de pays=Europe<br>Valeur_pop=%{x}<br>Valeur_cer=%{y}<extra></extra>\",\"legendgroup\":\"Europe\",\"marker\":{\"color\":\"#00cc96\",\"symbol\":\"circle\"},\"mode\":\"markers\",\"name\":\"Europe\",\"orientation\":\"v\",\"showlegend\":true,\"x\":[3173,8495,9357,11104,3829,7223,4290,10702,5619,1287,5426,64291,82727,11128,9955,4627,60990,2050,3017,530,429,621,16759,5043,38217,10608,3487,21699,142834,9511,5450,2072,46927,9571,8078,2107,45239,63384],\"xaxis\":\"x\",\"y\":[294.0,1598.0,2101.0,1804.0,265.0,5505.0,999.0,4701.0,4145.0,407.0,869.0,38614.0,25019.0,1857.0,5058.0,545.0,7312.0,1435.0,2871.0,91.0,10.0,2.0,1335.0,213.0,9485.0,92.0,1009.0,7296.0,52091.0,2690.0,1684.0,138.0,7745.0,1869.0,480.0,259.0,22279.0,11921.0],\"yaxis\":\"y\",\"type\":\"scatter\"},{\"hovertemplate\":\"Groupe de pays=Europe m\\u00e9ridionale<br>Valeur_pop=%{x}<br>Valeur_cer=%{y}<extra></extra>\",\"legendgroup\":\"Europe m\\u00e9ridionale\",\"marker\":{\"color\":\"#ab63fa\",\"symbol\":\"circle\"},\"mode\":\"markers\",\"name\":\"Europe m\\u00e9ridionale\",\"orientation\":\"v\",\"showlegend\":true,\"x\":[3173,3829,4290,11128,60990,429,621,10608,9511,2072,46927,2107],\"xaxis\":\"x\",\"y\":[294.0,265.0,999.0,1857.0,7312.0,10.0,2.0,92.0,2690.0,138.0,7745.0,259.0],\"yaxis\":\"y\",\"type\":\"scatter\"},{\"hovertemplate\":\"Groupe de pays=Upper-middle-income economies<br>Valeur_pop=%{x}<br>Valeur_cer=%{y}<extra></extra>\",\"legendgroup\":\"Upper-middle-income economies\",\"marker\":{\"color\":\"#FFA15A\",\"symbol\":\"circle\"},\"mode\":\"markers\",\"name\":\"Upper-middle-income economies\",\"orientation\":\"v\",\"showlegend\":true,\"x\":[3173,39208,2977,9413,9357,3829,2021,200362,7223,1385567,48321,15738,15468,77447,33765,7274,16441,4822,122332,621,2303,6802,30376,21699,142834,9511,52776,67011,2107,74933,5240,30405],\"xaxis\":\"x\",\"y\":[294.0,3299.0,312.0,1893.0,2101.0,265.0,0.0,5718.0,5505.0,121926.0,8.0,6.0,2.0,9304.0,4178.0,30.0,13941.0,140.0,3357.0,2.0,15.0,1430.0,230.0,7296.0,52091.0,2690.0,1870.0,2.0,259.0,22100.0,1300.0,0.0],\"yaxis\":\"y\",\"type\":\"scatter\"},{\"hovertemplate\":\"Groupe de pays=Afrique<br>Valeur_pop=%{x}<br>Valeur_cer=%{y}<extra></extra>\",\"legendgroup\":\"Afrique\",\"marker\":{\"color\":\"#19d3f3\",\"symbol\":\"circle\"},\"mode\":\"markers\",\"name\":\"Afrique\",\"orientation\":\"v\",\"showlegend\":true,\"x\":[39208,21472,2021,22254,12825,82056,94101,44354,2074,22925,16363,15302,3890,33008,25834,2303,17831,173615,11777,52776,37964,1250,10997,37579,49253,14539,14150],\"xaxis\":\"x\",\"y\":[3299.0,4.0,0.0,1.0,32.0,9460.0,4039.0,486.0,13.0,5.0,2.0,27.0,7.0,6934.0,21.0,15.0,7.0,80.0,70.0,1870.0,265.0,1.0,975.0,20.0,104.0,274.0,25.0],\"yaxis\":\"y\",\"type\":\"scatter\"},{\"hovertemplate\":\"Groupe de pays=Afrique du Nord (Soudan Excl)<br>Valeur_pop=%{x}<br>Valeur_cer=%{y}<extra></extra>\",\"legendgroup\":\"Afrique du Nord (Soudan Excl)\",\"marker\":{\"color\":\"#FF6692\",\"symbol\":\"circle\"},\"mode\":\"markers\",\"name\":\"Afrique du Nord (Soudan Excl)\",\"orientation\":\"v\",\"showlegend\":true,\"x\":[39208,82056,33008,10997],\"xaxis\":\"x\",\"y\":[3299.0,9460.0,6934.0,975.0],\"yaxis\":\"y\",\"type\":\"scatter\"},{\"hovertemplate\":\"Groupe de pays=Afrique septentrionale<br>Valeur_pop=%{x}<br>Valeur_cer=%{y}<extra></extra>\",\"legendgroup\":\"Afrique septentrionale\",\"marker\":{\"color\":\"#B6E880\",\"symbol\":\"circle\"},\"mode\":\"markers\",\"name\":\"Afrique septentrionale\",\"orientation\":\"v\",\"showlegend\":true,\"x\":[39208,82056,33008,37964,10997],\"xaxis\":\"x\",\"y\":[3299.0,9460.0,6934.0,265.0,975.0],\"yaxis\":\"y\",\"type\":\"scatter\"},{\"hovertemplate\":\"Groupe de pays=Asie occidentale et Afrique du Nord<br>Valeur_pop=%{x}<br>Valeur_cer=%{y}<extra></extra>\",\"legendgroup\":\"Asie occidentale et Afrique du Nord\",\"marker\":{\"color\":\"#FF97FF\",\"symbol\":\"circle\"},\"mode\":\"markers\",\"name\":\"Asie occidentale et Afrique du Nord\",\"orientation\":\"v\",\"showlegend\":true,\"x\":[39208,2977,9413,1141,82056,4341,33765,7733,7274,3369,4822,33008,3632,28829,37964,10997,74933,9346,24407],\"xaxis\":\"x\",\"y\":[3299.0,312.0,1893.0,15.0,9460.0,81.0,4178.0,152.0,30.0,0.0,140.0,6934.0,2.0,660.0,265.0,975.0,22100.0,0.0,232.0],\"yaxis\":\"y\",\"type\":\"scatter\"},{\"hovertemplate\":\"Groupe de pays=Afrique centrale<br>Valeur_pop=%{x}<br>Valeur_cer=%{y}<extra></extra>\",\"legendgroup\":\"Afrique centrale\",\"marker\":{\"color\":\"#FECB52\",\"symbol\":\"circle\"},\"mode\":\"markers\",\"name\":\"Afrique centrale\",\"orientation\":\"v\",\"showlegend\":true,\"x\":[21472,22254,12825],\"xaxis\":\"x\",\"y\":[4.0,1.0,32.0],\"yaxis\":\"y\",\"type\":\"scatter\"},{\"hovertemplate\":\"Groupe de pays=Afrique subsaharienne<br>Valeur_pop=%{x}<br>Valeur_cer=%{y}<extra></extra>\",\"legendgroup\":\"Afrique subsaharienne\",\"marker\":{\"color\":\"#636efa\",\"symbol\":\"circle\"},\"mode\":\"markers\",\"name\":\"Afrique subsaharienne\",\"orientation\":\"v\",\"showlegend\":true,\"x\":[21472,2021,22254,12825,94101,44354,2074,22925,16363,15302,3890,25834,2303,17831,173615,11777,52776,1250,37579,49253,14539,14150],\"xaxis\":\"x\",\"y\":[4.0,0.0,1.0,32.0,4039.0,486.0,13.0,5.0,2.0,27.0,7.0,21.0,15.0,7.0,80.0,70.0,1870.0,1.0,20.0,104.0,274.0,25.0],\"yaxis\":\"y\",\"type\":\"scatter\"},{\"hovertemplate\":\"Groupe de pays=Afrique subsaharienne (y compris Soudan)<br>Valeur_pop=%{x}<br>Valeur_cer=%{y}<extra></extra>\",\"legendgroup\":\"Afrique subsaharienne (y compris Soudan)\",\"marker\":{\"color\":\"#EF553B\",\"symbol\":\"circle\"},\"mode\":\"markers\",\"name\":\"Afrique subsaharienne (y compris Soudan)\",\"orientation\":\"v\",\"showlegend\":true,\"x\":[21472,2021,22254,12825,94101,44354,2074,22925,16363,15302,3890,25834,2303,17831,173615,11777,52776,37964,1250,37579,49253,14539,14150],\"xaxis\":\"x\",\"y\":[4.0,0.0,1.0,32.0,4039.0,486.0,13.0,5.0,2.0,27.0,7.0,21.0,15.0,7.0,80.0,70.0,1870.0,265.0,1.0,20.0,104.0,274.0,25.0],\"yaxis\":\"y\",\"type\":\"scatter\"},{\"hovertemplate\":\"Groupe de pays=Pays \\u00e0 revenu moyen<br>Valeur_pop=%{x}<br>Valeur_cer=%{y}<extra></extra>\",\"legendgroup\":\"Pays \\u00e0 revenu moyen\",\"marker\":{\"color\":\"#00cc96\",\"symbol\":\"circle\"},\"mode\":\"markers\",\"name\":\"Pays \\u00e0 revenu moyen\",\"orientation\":\"v\",\"showlegend\":true,\"x\":[21472,156595,10671,22254,82056,4341,8096,1252140,44354,5548,2074,3890,2839,33008,53259,173615,182143,3487,37964,1250,10997,45239,28934,14539],\"xaxis\":\"x\",\"y\":[4.0,1255.0,209.0,1.0,9460.0,81.0,1.0,93510.0,486.0,819.0,13.0,7.0,368.0,6934.0,188.0,80.0,24231.0,1009.0,265.0,1.0,975.0,22279.0,6842.0,274.0],\"yaxis\":\"y\",\"type\":\"scatter\"},{\"hovertemplate\":\"Groupe de pays=Am\\u00e9rique du Sud<br>Valeur_pop=%{x}<br>Valeur_cer=%{y}<extra></extra>\",\"legendgroup\":\"Am\\u00e9rique du Sud\",\"marker\":{\"color\":\"#ab63fa\",\"symbol\":\"circle\"},\"mode\":\"markers\",\"name\":\"Am\\u00e9rique du Sud\",\"orientation\":\"v\",\"showlegend\":true,\"x\":[41446,10671,200362,17620,48321,15738,6802,30376,3407,30405],\"xaxis\":\"x\",\"y\":[9315.0,209.0,5718.0,1475.0,8.0,6.0,1430.0,230.0,1533.0,0.0],\"yaxis\":\"y\",\"type\":\"scatter\"},{\"hovertemplate\":\"Groupe de pays=Am\\u00e9rique latine et Cara\\u00efbes<br>Valeur_pop=%{x}<br>Valeur_cer=%{y}<extra></extra>\",\"legendgroup\":\"Am\\u00e9rique latine et Cara\\u00efbes\",\"marker\":{\"color\":\"#FFA15A\",\"symbol\":\"circle\"},\"mode\":\"markers\",\"name\":\"Am\\u00e9rique latine et Cara\\u00efbes\",\"orientation\":\"v\",\"showlegend\":true,\"x\":[41446,10671,200362,17620,48321,15738,15468,8096,122332,6802,30376,3407,30405],\"xaxis\":\"x\",\"y\":[9315.0,209.0,5718.0,1475.0,8.0,6.0,2.0,1.0,3357.0,1430.0,230.0,1533.0,0.0],\"yaxis\":\"y\",\"type\":\"scatter\"},{\"hovertemplate\":\"Groupe de pays=Am\\u00e9riques<br>Valeur_pop=%{x}<br>Valeur_cer=%{y}<extra></extra>\",\"legendgroup\":\"Am\\u00e9riques\",\"marker\":{\"color\":\"#19d3f3\",\"symbol\":\"circle\"},\"mode\":\"markers\",\"name\":\"Am\\u00e9riques\",\"orientation\":\"v\",\"showlegend\":true,\"x\":[41446,10671,200362,35182,17620,48321,15738,15468,8096,122332,6802,30376,320051,3407,30405],\"xaxis\":\"x\",\"y\":[9315.0,209.0,5718.0,37530.0,1475.0,8.0,6.0,2.0,1.0,3357.0,1430.0,230.0,57967.0,1533.0,0.0],\"yaxis\":\"y\",\"type\":\"scatter\"},{\"hovertemplate\":\"Groupe de pays=High-income economies<br>Valeur_pop=%{x}<br>Valeur_cer=%{y}<extra></extra>\",\"legendgroup\":\"High-income economies\",\"marker\":{\"color\":\"#FF6692\",\"symbol\":\"circle\"},\"mode\":\"markers\",\"name\":\"High-income economies\",\"orientation\":\"v\",\"showlegend\":true,\"x\":[41446,23343,8495,11104,35182,17620,23330,4290,1141,10702,5619,1287,5426,64291,82727,11128,9955,4627,7733,60990,127144,3369,2050,3017,530,429,16759,256,4506,5043,3632,38217,10608,49263,28829,5450,2072,46927,9571,8078,9346,63384,320051,3407],\"xaxis\":\"x\",\"y\":[9315.0,22856.0,1598.0,1804.0,37530.0,1475.0,4.0,999.0,15.0,4701.0,4145.0,407.0,869.0,38614.0,25019.0,1857.0,5058.0,545.0,152.0,7312.0,812.0,0.0,1435.0,2871.0,91.0,10.0,1335.0,0.0,448.0,213.0,2.0,9485.0,92.0,19.0,660.0,1684.0,138.0,7745.0,1869.0,480.0,0.0,11921.0,57967.0,1533.0],\"yaxis\":\"y\",\"type\":\"scatter\"},{\"hovertemplate\":\"Groupe de pays=Asie occidentale<br>Valeur_pop=%{x}<br>Valeur_cer=%{y}<extra></extra>\",\"legendgroup\":\"Asie occidentale\",\"marker\":{\"color\":\"#B6E880\",\"symbol\":\"circle\"},\"mode\":\"markers\",\"name\":\"Asie occidentale\",\"orientation\":\"v\",\"showlegend\":true,\"x\":[2977,9413,1141,4341,33765,7733,7274,3369,4822,3632,28829,74933,9346,24407],\"xaxis\":\"x\",\"y\":[312.0,1893.0,15.0,81.0,4178.0,152.0,30.0,0.0,140.0,2.0,660.0,22100.0,0.0,232.0],\"yaxis\":\"y\",\"type\":\"scatter\"},{\"hovertemplate\":\"Groupe de pays=Caucase et Asie Centrale<br>Valeur_pop=%{x}<br>Valeur_cer=%{y}<extra></extra>\",\"legendgroup\":\"Caucase et Asie Centrale\",\"marker\":{\"color\":\"#FF97FF\",\"symbol\":\"circle\"},\"mode\":\"markers\",\"name\":\"Caucase et Asie Centrale\",\"orientation\":\"v\",\"showlegend\":true,\"x\":[2977,9413,4341,16441,5548,8208,5240,28934],\"xaxis\":\"x\",\"y\":[312.0,1893.0,81.0,13941.0,819.0,947.0,1300.0,6842.0],\"yaxis\":\"y\",\"type\":\"scatter\"},{\"hovertemplate\":\"Groupe de pays=Australie et Nouvelle-Z\\u00e9lande<br>Valeur_pop=%{x}<br>Valeur_cer=%{y}<extra></extra>\",\"legendgroup\":\"Australie et Nouvelle-Z\\u00e9lande\",\"marker\":{\"color\":\"#FECB52\",\"symbol\":\"circle\"},\"mode\":\"markers\",\"name\":\"Australie et Nouvelle-Z\\u00e9lande\",\"orientation\":\"v\",\"showlegend\":true,\"x\":[23343,4506],\"xaxis\":\"x\",\"y\":[22856.0,448.0],\"yaxis\":\"y\",\"type\":\"scatter\"},{\"hovertemplate\":\"Groupe de pays=Oc\\u00e9anie<br>Valeur_pop=%{x}<br>Valeur_cer=%{y}<extra></extra>\",\"legendgroup\":\"Oc\\u00e9anie\",\"marker\":{\"color\":\"#636efa\",\"symbol\":\"circle\"},\"mode\":\"markers\",\"name\":\"Oc\\u00e9anie\",\"orientation\":\"v\",\"showlegend\":true,\"x\":[23343,256,4506],\"xaxis\":\"x\",\"y\":[22856.0,0.0,448.0],\"yaxis\":\"y\",\"type\":\"scatter\"},{\"hovertemplate\":\"Groupe de pays=OECD<br>Valeur_pop=%{x}<br>Valeur_cer=%{y}<extra></extra>\",\"legendgroup\":\"OECD\",\"marker\":{\"color\":\"#EF553B\",\"symbol\":\"circle\"},\"mode\":\"markers\",\"name\":\"OECD\",\"orientation\":\"v\",\"showlegend\":true,\"x\":[23343,8495,11104,35182,17620,10702,5619,1287,5426,64291,82727,11128,9955,4627,7733,60990,127144,2050,530,122332,16759,4506,5043,38217,10608,49263,5450,2072,46927,9571,8078,74933,63384,320051],\"xaxis\":\"x\",\"y\":[22856.0,1598.0,1804.0,37530.0,1475.0,4701.0,4145.0,407.0,869.0,38614.0,25019.0,1857.0,5058.0,545.0,152.0,7312.0,812.0,1435.0,91.0,3357.0,1335.0,448.0,213.0,9485.0,92.0,19.0,1684.0,138.0,7745.0,1869.0,480.0,22100.0,11921.0,57967.0],\"yaxis\":\"y\",\"type\":\"scatter\"},{\"hovertemplate\":\"Groupe de pays=Pays Annexe I<br>Valeur_pop=%{x}<br>Valeur_cer=%{y}<extra></extra>\",\"legendgroup\":\"Pays Annexe I\",\"marker\":{\"color\":\"#00cc96\",\"symbol\":\"circle\"},\"mode\":\"markers\",\"name\":\"Pays Annexe I\",\"orientation\":\"v\",\"showlegend\":true,\"x\":[23343,8495,9357,11104,7223,35182,4290,1141,10702,5619,1287,5426,64291,82727,11128,9955,4627,60990,127144,2050,3017,530,429,16759,256,4506,5043,38217,10608,21699,142834,5450,2072,46927,9571,8078,74933,45239,63384,320051],\"xaxis\":\"x\",\"y\":[22856.0,1598.0,2101.0,1804.0,5505.0,37530.0,999.0,15.0,4701.0,4145.0,407.0,869.0,38614.0,25019.0,1857.0,5058.0,545.0,7312.0,812.0,1435.0,2871.0,91.0,10.0,1335.0,0.0,448.0,213.0,9485.0,92.0,7296.0,52091.0,1684.0,138.0,7745.0,1869.0,480.0,22100.0,22279.0,11921.0,57967.0],\"yaxis\":\"y\",\"type\":\"scatter\"},{\"hovertemplate\":\"Groupe de pays=Europe occidentale<br>Valeur_pop=%{x}<br>Valeur_cer=%{y}<extra></extra>\",\"legendgroup\":\"Europe occidentale\",\"marker\":{\"color\":\"#ab63fa\",\"symbol\":\"circle\"},\"mode\":\"markers\",\"name\":\"Europe occidentale\",\"orientation\":\"v\",\"showlegend\":true,\"x\":[8495,11104,64291,82727,530,16759,8078],\"xaxis\":\"x\",\"y\":[1598.0,1804.0,38614.0,25019.0,91.0,1335.0,480.0],\"yaxis\":\"y\",\"type\":\"scatter\"},{\"hovertemplate\":\"Groupe de pays=Union Europ\\u00e9enne (27)<br>Valeur_pop=%{x}<br>Valeur_cer=%{y}<extra></extra>\",\"legendgroup\":\"Union Europ\\u00e9enne (27)\",\"marker\":{\"color\":\"#FFA15A\",\"symbol\":\"circle\"},\"mode\":\"markers\",\"name\":\"Union Europ\\u00e9enne (27)\",\"orientation\":\"v\",\"showlegend\":true,\"x\":[8495,11104,7223,4290,1141,10702,5619,1287,5426,64291,82727,11128,9955,4627,60990,2050,3017,530,429,16759,38217,10608,21699,5450,2072,46927,9571],\"xaxis\":\"x\",\"y\":[1598.0,1804.0,5505.0,999.0,15.0,4701.0,4145.0,407.0,869.0,38614.0,25019.0,1857.0,5058.0,545.0,7312.0,1435.0,2871.0,91.0,10.0,1335.0,9485.0,92.0,7296.0,1684.0,138.0,7745.0,1869.0],\"yaxis\":\"y\",\"type\":\"scatter\"},{\"hovertemplate\":\"Groupe de pays=Europe orientale<br>Valeur_pop=%{x}<br>Valeur_cer=%{y}<extra></extra>\",\"legendgroup\":\"Europe orientale\",\"marker\":{\"color\":\"#19d3f3\",\"symbol\":\"circle\"},\"mode\":\"markers\",\"name\":\"Europe orientale\",\"orientation\":\"v\",\"showlegend\":true,\"x\":[9357,7223,10702,9955,38217,3487,21699,142834,5450,45239],\"xaxis\":\"x\",\"y\":[2101.0,5505.0,4701.0,5058.0,9485.0,1009.0,7296.0,52091.0,1684.0,22279.0],\"yaxis\":\"y\",\"type\":\"scatter\"},{\"hovertemplate\":\"Groupe de pays=Afrique australe<br>Valeur_pop=%{x}<br>Valeur_cer=%{y}<extra></extra>\",\"legendgroup\":\"Afrique australe\",\"marker\":{\"color\":\"#FF6692\",\"symbol\":\"circle\"},\"mode\":\"markers\",\"name\":\"Afrique australe\",\"orientation\":\"v\",\"showlegend\":true,\"x\":[2021,2074,2303,52776,1250],\"xaxis\":\"x\",\"y\":[0.0,13.0,15.0,1870.0,1.0],\"yaxis\":\"y\",\"type\":\"scatter\"},{\"hovertemplate\":\"Groupe de pays=Am\\u00e9rique Nord et Centrale<br>Valeur_pop=%{x}<br>Valeur_cer=%{y}<extra></extra>\",\"legendgroup\":\"Am\\u00e9rique Nord et Centrale\",\"marker\":{\"color\":\"#B6E880\",\"symbol\":\"circle\"},\"mode\":\"markers\",\"name\":\"Am\\u00e9rique Nord et Centrale\",\"orientation\":\"v\",\"showlegend\":true,\"x\":[35182,15468,320051],\"xaxis\":\"x\",\"y\":[37530.0,2.0,57967.0],\"yaxis\":\"y\",\"type\":\"scatter\"},{\"hovertemplate\":\"Groupe de pays=Am\\u00e9rique septentrionale<br>Valeur_pop=%{x}<br>Valeur_cer=%{y}<extra></extra>\",\"legendgroup\":\"Am\\u00e9rique septentrionale\",\"marker\":{\"color\":\"#FF97FF\",\"symbol\":\"circle\"},\"mode\":\"markers\",\"name\":\"Am\\u00e9rique septentrionale\",\"orientation\":\"v\",\"showlegend\":true,\"x\":[35182,320051],\"xaxis\":\"x\",\"y\":[37530.0,57967.0],\"yaxis\":\"y\",\"type\":\"scatter\"},{\"hovertemplate\":\"Groupe de pays=Asie orientale<br>Valeur_pop=%{x}<br>Valeur_cer=%{y}<extra></extra>\",\"legendgroup\":\"Asie orientale\",\"marker\":{\"color\":\"#FECB52\",\"symbol\":\"circle\"},\"mode\":\"markers\",\"name\":\"Asie orientale\",\"orientation\":\"v\",\"showlegend\":true,\"x\":[1385567,23330,24895,127144,2839,49263,1416667],\"xaxis\":\"x\",\"y\":[121926.0,4.0,75.0,812.0,368.0,19.0,121931.0],\"yaxis\":\"y\",\"type\":\"scatter\"},{\"hovertemplate\":\"Groupe de pays=Asie orientale et Asie du Sud-Est<br>Valeur_pop=%{x}<br>Valeur_cer=%{y}<extra></extra>\",\"legendgroup\":\"Asie orientale et Asie du Sud-Est\",\"marker\":{\"color\":\"#636efa\",\"symbol\":\"circle\"},\"mode\":\"markers\",\"name\":\"Asie orientale et Asie du Sud-Est\",\"orientation\":\"v\",\"showlegend\":true,\"x\":[1385567,23330,24895,127144,2839,53259,49263,67011,1416667],\"xaxis\":\"x\",\"y\":[121926.0,4.0,75.0,812.0,368.0,188.0,19.0,2.0,121931.0],\"yaxis\":\"y\",\"type\":\"scatter\"},{\"hovertemplate\":\"Groupe de pays=Eastern Asia (excluding Japan)<br>Valeur_pop=%{x}<br>Valeur_cer=%{y}<extra></extra>\",\"legendgroup\":\"Eastern Asia (excluding Japan)\",\"marker\":{\"color\":\"#EF553B\",\"symbol\":\"circle\"},\"mode\":\"markers\",\"name\":\"Eastern Asia (excluding Japan)\",\"orientation\":\"v\",\"showlegend\":true,\"x\":[1385567,24895,2839,49263],\"xaxis\":\"x\",\"y\":[121926.0,75.0,368.0,19.0],\"yaxis\":\"y\",\"type\":\"scatter\"},{\"hovertemplate\":\"Groupe de pays=Eastern Asia (excluding Japan and China)<br>Valeur_pop=%{x}<br>Valeur_cer=%{y}<extra></extra>\",\"legendgroup\":\"Eastern Asia (excluding Japan and China)\",\"marker\":{\"color\":\"#00cc96\",\"symbol\":\"circle\"},\"mode\":\"markers\",\"name\":\"Eastern Asia (excluding Japan and China)\",\"orientation\":\"v\",\"showlegend\":true,\"x\":[24895,2839,49263],\"xaxis\":\"x\",\"y\":[75.0,368.0,19.0],\"yaxis\":\"y\",\"type\":\"scatter\"},{\"hovertemplate\":\"Groupe de pays=Europe septentrionale<br>Valeur_pop=%{x}<br>Valeur_cer=%{y}<extra></extra>\",\"legendgroup\":\"Europe septentrionale\",\"marker\":{\"color\":\"#ab63fa\",\"symbol\":\"circle\"},\"mode\":\"markers\",\"name\":\"Europe septentrionale\",\"orientation\":\"v\",\"showlegend\":true,\"x\":[5619,1287,5426,4627,2050,3017,5043,9571,63384],\"xaxis\":\"x\",\"y\":[4145.0,407.0,869.0,545.0,1435.0,2871.0,213.0,1869.0,11921.0],\"yaxis\":\"y\",\"type\":\"scatter\"},{\"hovertemplate\":\"Groupe de pays=Afrique orientale<br>Valeur_pop=%{x}<br>Valeur_cer=%{y}<extra></extra>\",\"legendgroup\":\"Afrique orientale\",\"marker\":{\"color\":\"#FFA15A\",\"symbol\":\"circle\"},\"mode\":\"markers\",\"name\":\"Afrique orientale\",\"orientation\":\"v\",\"showlegend\":true,\"x\":[94101,44354,22925,16363,25834,11777,37579,49253,14539,14150],\"xaxis\":\"x\",\"y\":[4039.0,486.0,5.0,2.0,21.0,70.0,20.0,104.0,274.0,25.0],\"yaxis\":\"y\",\"type\":\"scatter\"},{\"hovertemplate\":\"Groupe de pays=Am\\u00e9rique centrale<br>Valeur_pop=%{x}<br>Valeur_cer=%{y}<extra></extra>\",\"legendgroup\":\"Am\\u00e9rique centrale\",\"marker\":{\"color\":\"#19d3f3\",\"symbol\":\"circle\"},\"mode\":\"markers\",\"name\":\"Am\\u00e9rique centrale\",\"orientation\":\"v\",\"showlegend\":true,\"x\":[15468,8096,122332],\"xaxis\":\"x\",\"y\":[2.0,1.0,3357.0],\"yaxis\":\"y\",\"type\":\"scatter\"},{\"hovertemplate\":\"Groupe de pays=Western Asia (exc. Armenia, Azerbaijan, Cyprus, Israel and Georgia)<br>Valeur_pop=%{x}<br>Valeur_cer=%{y}<extra></extra>\",\"legendgroup\":\"Western Asia (exc. Armenia, Azerbaijan, Cyprus, Israel and Georgia)\",\"marker\":{\"color\":\"#FF6692\",\"symbol\":\"circle\"},\"mode\":\"markers\",\"name\":\"Western Asia (exc. Armenia, Azerbaijan, Cyprus, Israel and Georgia)\",\"orientation\":\"v\",\"showlegend\":true,\"x\":[33765,7274,3369,4822,3632,28829,74933,9346,24407],\"xaxis\":\"x\",\"y\":[4178.0,30.0,0.0,140.0,2.0,660.0,22100.0,0.0,232.0],\"yaxis\":\"y\",\"type\":\"scatter\"},{\"hovertemplate\":\"Groupe de pays=Asie centrale<br>Valeur_pop=%{x}<br>Valeur_cer=%{y}<extra></extra>\",\"legendgroup\":\"Asie centrale\",\"marker\":{\"color\":\"#B6E880\",\"symbol\":\"circle\"},\"mode\":\"markers\",\"name\":\"Asie centrale\",\"orientation\":\"v\",\"showlegend\":true,\"x\":[16441,5548,8208,5240,28934],\"xaxis\":\"x\",\"y\":[13941.0,819.0,947.0,1300.0,6842.0],\"yaxis\":\"y\",\"type\":\"scatter\"},{\"hovertemplate\":\"Groupe de pays=Afrique occidentale<br>Valeur_pop=%{x}<br>Valeur_cer=%{y}<extra></extra>\",\"legendgroup\":\"Afrique occidentale\",\"marker\":{\"color\":\"#FF97FF\",\"symbol\":\"circle\"},\"mode\":\"markers\",\"name\":\"Afrique occidentale\",\"orientation\":\"v\",\"showlegend\":true,\"x\":[15302,3890,17831,173615],\"xaxis\":\"x\",\"y\":[27.0,7.0,7.0,80.0],\"yaxis\":\"y\",\"type\":\"scatter\"},{\"hovertemplate\":\"Groupe de pays=Asie du Sud-Est<br>Valeur_pop=%{x}<br>Valeur_cer=%{y}<extra></extra>\",\"legendgroup\":\"Asie du Sud-Est\",\"marker\":{\"color\":\"#FECB52\",\"symbol\":\"circle\"},\"mode\":\"markers\",\"name\":\"Asie du Sud-Est\",\"orientation\":\"v\",\"showlegend\":true,\"x\":[53259,67011],\"xaxis\":\"x\",\"y\":[188.0,2.0],\"yaxis\":\"y\",\"type\":\"scatter\"},{\"hovertemplate\":\"Groupe de pays=M\\u00e9lan\\u00e9sie<br>Valeur_pop=%{x}<br>Valeur_cer=%{y}<extra></extra>\",\"legendgroup\":\"M\\u00e9lan\\u00e9sie\",\"marker\":{\"color\":\"#636efa\",\"symbol\":\"circle\"},\"mode\":\"markers\",\"name\":\"M\\u00e9lan\\u00e9sie\",\"orientation\":\"v\",\"showlegend\":true,\"x\":[256],\"xaxis\":\"x\",\"y\":[0.0],\"yaxis\":\"y\",\"type\":\"scatter\"},{\"hovertemplate\":\"Groupe de pays=Oc\\u00e9anie, hors Australie et Nouvelle-Z\\u00e9lande<br>Valeur_pop=%{x}<br>Valeur_cer=%{y}<extra></extra>\",\"legendgroup\":\"Oc\\u00e9anie, hors Australie et Nouvelle-Z\\u00e9lande\",\"marker\":{\"color\":\"#EF553B\",\"symbol\":\"circle\"},\"mode\":\"markers\",\"name\":\"Oc\\u00e9anie, hors Australie et Nouvelle-Z\\u00e9lande\",\"orientation\":\"v\",\"showlegend\":true,\"x\":[256],\"xaxis\":\"x\",\"y\":[0.0],\"yaxis\":\"y\",\"type\":\"scatter\"},{\"hovertemplate\":\"Groupe de pays=Petites \\u00eeles en voie de D\\u00e9veloppement<br>Valeur_pop=%{x}<br>Valeur_cer=%{y}<extra></extra>\",\"legendgroup\":\"Petites \\u00eeles en voie de D\\u00e9veloppement\",\"marker\":{\"color\":\"#00cc96\",\"symbol\":\"circle\"},\"mode\":\"markers\",\"name\":\"Petites \\u00eeles en voie de D\\u00e9veloppement\",\"orientation\":\"v\",\"showlegend\":true,\"x\":[256],\"xaxis\":\"x\",\"y\":[0.0],\"yaxis\":\"y\",\"type\":\"scatter\"}],                        {\"template\":{\"data\":{\"bar\":[{\"error_x\":{\"color\":\"#2a3f5f\"},\"error_y\":{\"color\":\"#2a3f5f\"},\"marker\":{\"line\":{\"color\":\"#E5ECF6\",\"width\":0.5},\"pattern\":{\"fillmode\":\"overlay\",\"size\":10,\"solidity\":0.2}},\"type\":\"bar\"}],\"barpolar\":[{\"marker\":{\"line\":{\"color\":\"#E5ECF6\",\"width\":0.5},\"pattern\":{\"fillmode\":\"overlay\",\"size\":10,\"solidity\":0.2}},\"type\":\"barpolar\"}],\"carpet\":[{\"aaxis\":{\"endlinecolor\":\"#2a3f5f\",\"gridcolor\":\"white\",\"linecolor\":\"white\",\"minorgridcolor\":\"white\",\"startlinecolor\":\"#2a3f5f\"},\"baxis\":{\"endlinecolor\":\"#2a3f5f\",\"gridcolor\":\"white\",\"linecolor\":\"white\",\"minorgridcolor\":\"white\",\"startlinecolor\":\"#2a3f5f\"},\"type\":\"carpet\"}],\"choropleth\":[{\"colorbar\":{\"outlinewidth\":0,\"ticks\":\"\"},\"type\":\"choropleth\"}],\"contour\":[{\"colorbar\":{\"outlinewidth\":0,\"ticks\":\"\"},\"colorscale\":[[0.0,\"#0d0887\"],[0.1111111111111111,\"#46039f\"],[0.2222222222222222,\"#7201a8\"],[0.3333333333333333,\"#9c179e\"],[0.4444444444444444,\"#bd3786\"],[0.5555555555555556,\"#d8576b\"],[0.6666666666666666,\"#ed7953\"],[0.7777777777777778,\"#fb9f3a\"],[0.8888888888888888,\"#fdca26\"],[1.0,\"#f0f921\"]],\"type\":\"contour\"}],\"contourcarpet\":[{\"colorbar\":{\"outlinewidth\":0,\"ticks\":\"\"},\"type\":\"contourcarpet\"}],\"heatmap\":[{\"colorbar\":{\"outlinewidth\":0,\"ticks\":\"\"},\"colorscale\":[[0.0,\"#0d0887\"],[0.1111111111111111,\"#46039f\"],[0.2222222222222222,\"#7201a8\"],[0.3333333333333333,\"#9c179e\"],[0.4444444444444444,\"#bd3786\"],[0.5555555555555556,\"#d8576b\"],[0.6666666666666666,\"#ed7953\"],[0.7777777777777778,\"#fb9f3a\"],[0.8888888888888888,\"#fdca26\"],[1.0,\"#f0f921\"]],\"type\":\"heatmap\"}],\"heatmapgl\":[{\"colorbar\":{\"outlinewidth\":0,\"ticks\":\"\"},\"colorscale\":[[0.0,\"#0d0887\"],[0.1111111111111111,\"#46039f\"],[0.2222222222222222,\"#7201a8\"],[0.3333333333333333,\"#9c179e\"],[0.4444444444444444,\"#bd3786\"],[0.5555555555555556,\"#d8576b\"],[0.6666666666666666,\"#ed7953\"],[0.7777777777777778,\"#fb9f3a\"],[0.8888888888888888,\"#fdca26\"],[1.0,\"#f0f921\"]],\"type\":\"heatmapgl\"}],\"histogram\":[{\"marker\":{\"pattern\":{\"fillmode\":\"overlay\",\"size\":10,\"solidity\":0.2}},\"type\":\"histogram\"}],\"histogram2d\":[{\"colorbar\":{\"outlinewidth\":0,\"ticks\":\"\"},\"colorscale\":[[0.0,\"#0d0887\"],[0.1111111111111111,\"#46039f\"],[0.2222222222222222,\"#7201a8\"],[0.3333333333333333,\"#9c179e\"],[0.4444444444444444,\"#bd3786\"],[0.5555555555555556,\"#d8576b\"],[0.6666666666666666,\"#ed7953\"],[0.7777777777777778,\"#fb9f3a\"],[0.8888888888888888,\"#fdca26\"],[1.0,\"#f0f921\"]],\"type\":\"histogram2d\"}],\"histogram2dcontour\":[{\"colorbar\":{\"outlinewidth\":0,\"ticks\":\"\"},\"colorscale\":[[0.0,\"#0d0887\"],[0.1111111111111111,\"#46039f\"],[0.2222222222222222,\"#7201a8\"],[0.3333333333333333,\"#9c179e\"],[0.4444444444444444,\"#bd3786\"],[0.5555555555555556,\"#d8576b\"],[0.6666666666666666,\"#ed7953\"],[0.7777777777777778,\"#fb9f3a\"],[0.8888888888888888,\"#fdca26\"],[1.0,\"#f0f921\"]],\"type\":\"histogram2dcontour\"}],\"mesh3d\":[{\"colorbar\":{\"outlinewidth\":0,\"ticks\":\"\"},\"type\":\"mesh3d\"}],\"parcoords\":[{\"line\":{\"colorbar\":{\"outlinewidth\":0,\"ticks\":\"\"}},\"type\":\"parcoords\"}],\"pie\":[{\"automargin\":true,\"type\":\"pie\"}],\"scatter\":[{\"marker\":{\"colorbar\":{\"outlinewidth\":0,\"ticks\":\"\"}},\"type\":\"scatter\"}],\"scatter3d\":[{\"line\":{\"colorbar\":{\"outlinewidth\":0,\"ticks\":\"\"}},\"marker\":{\"colorbar\":{\"outlinewidth\":0,\"ticks\":\"\"}},\"type\":\"scatter3d\"}],\"scattercarpet\":[{\"marker\":{\"colorbar\":{\"outlinewidth\":0,\"ticks\":\"\"}},\"type\":\"scattercarpet\"}],\"scattergeo\":[{\"marker\":{\"colorbar\":{\"outlinewidth\":0,\"ticks\":\"\"}},\"type\":\"scattergeo\"}],\"scattergl\":[{\"marker\":{\"colorbar\":{\"outlinewidth\":0,\"ticks\":\"\"}},\"type\":\"scattergl\"}],\"scattermapbox\":[{\"marker\":{\"colorbar\":{\"outlinewidth\":0,\"ticks\":\"\"}},\"type\":\"scattermapbox\"}],\"scatterpolar\":[{\"marker\":{\"colorbar\":{\"outlinewidth\":0,\"ticks\":\"\"}},\"type\":\"scatterpolar\"}],\"scatterpolargl\":[{\"marker\":{\"colorbar\":{\"outlinewidth\":0,\"ticks\":\"\"}},\"type\":\"scatterpolargl\"}],\"scatterternary\":[{\"marker\":{\"colorbar\":{\"outlinewidth\":0,\"ticks\":\"\"}},\"type\":\"scatterternary\"}],\"surface\":[{\"colorbar\":{\"outlinewidth\":0,\"ticks\":\"\"},\"colorscale\":[[0.0,\"#0d0887\"],[0.1111111111111111,\"#46039f\"],[0.2222222222222222,\"#7201a8\"],[0.3333333333333333,\"#9c179e\"],[0.4444444444444444,\"#bd3786\"],[0.5555555555555556,\"#d8576b\"],[0.6666666666666666,\"#ed7953\"],[0.7777777777777778,\"#fb9f3a\"],[0.8888888888888888,\"#fdca26\"],[1.0,\"#f0f921\"]],\"type\":\"surface\"}],\"table\":[{\"cells\":{\"fill\":{\"color\":\"#EBF0F8\"},\"line\":{\"color\":\"white\"}},\"header\":{\"fill\":{\"color\":\"#C8D4E3\"},\"line\":{\"color\":\"white\"}},\"type\":\"table\"}]},\"layout\":{\"annotationdefaults\":{\"arrowcolor\":\"#2a3f5f\",\"arrowhead\":0,\"arrowwidth\":1},\"autotypenumbers\":\"strict\",\"coloraxis\":{\"colorbar\":{\"outlinewidth\":0,\"ticks\":\"\"}},\"colorscale\":{\"diverging\":[[0,\"#8e0152\"],[0.1,\"#c51b7d\"],[0.2,\"#de77ae\"],[0.3,\"#f1b6da\"],[0.4,\"#fde0ef\"],[0.5,\"#f7f7f7\"],[0.6,\"#e6f5d0\"],[0.7,\"#b8e186\"],[0.8,\"#7fbc41\"],[0.9,\"#4d9221\"],[1,\"#276419\"]],\"sequential\":[[0.0,\"#0d0887\"],[0.1111111111111111,\"#46039f\"],[0.2222222222222222,\"#7201a8\"],[0.3333333333333333,\"#9c179e\"],[0.4444444444444444,\"#bd3786\"],[0.5555555555555556,\"#d8576b\"],[0.6666666666666666,\"#ed7953\"],[0.7777777777777778,\"#fb9f3a\"],[0.8888888888888888,\"#fdca26\"],[1.0,\"#f0f921\"]],\"sequentialminus\":[[0.0,\"#0d0887\"],[0.1111111111111111,\"#46039f\"],[0.2222222222222222,\"#7201a8\"],[0.3333333333333333,\"#9c179e\"],[0.4444444444444444,\"#bd3786\"],[0.5555555555555556,\"#d8576b\"],[0.6666666666666666,\"#ed7953\"],[0.7777777777777778,\"#fb9f3a\"],[0.8888888888888888,\"#fdca26\"],[1.0,\"#f0f921\"]]},\"colorway\":[\"#636efa\",\"#EF553B\",\"#00cc96\",\"#ab63fa\",\"#FFA15A\",\"#19d3f3\",\"#FF6692\",\"#B6E880\",\"#FF97FF\",\"#FECB52\"],\"font\":{\"color\":\"#2a3f5f\"},\"geo\":{\"bgcolor\":\"white\",\"lakecolor\":\"white\",\"landcolor\":\"#E5ECF6\",\"showlakes\":true,\"showland\":true,\"subunitcolor\":\"white\"},\"hoverlabel\":{\"align\":\"left\"},\"hovermode\":\"closest\",\"mapbox\":{\"style\":\"light\"},\"paper_bgcolor\":\"white\",\"plot_bgcolor\":\"#E5ECF6\",\"polar\":{\"angularaxis\":{\"gridcolor\":\"white\",\"linecolor\":\"white\",\"ticks\":\"\"},\"bgcolor\":\"#E5ECF6\",\"radialaxis\":{\"gridcolor\":\"white\",\"linecolor\":\"white\",\"ticks\":\"\"}},\"scene\":{\"xaxis\":{\"backgroundcolor\":\"#E5ECF6\",\"gridcolor\":\"white\",\"gridwidth\":2,\"linecolor\":\"white\",\"showbackground\":true,\"ticks\":\"\",\"zerolinecolor\":\"white\"},\"yaxis\":{\"backgroundcolor\":\"#E5ECF6\",\"gridcolor\":\"white\",\"gridwidth\":2,\"linecolor\":\"white\",\"showbackground\":true,\"ticks\":\"\",\"zerolinecolor\":\"white\"},\"zaxis\":{\"backgroundcolor\":\"#E5ECF6\",\"gridcolor\":\"white\",\"gridwidth\":2,\"linecolor\":\"white\",\"showbackground\":true,\"ticks\":\"\",\"zerolinecolor\":\"white\"}},\"shapedefaults\":{\"line\":{\"color\":\"#2a3f5f\"}},\"ternary\":{\"aaxis\":{\"gridcolor\":\"white\",\"linecolor\":\"white\",\"ticks\":\"\"},\"baxis\":{\"gridcolor\":\"white\",\"linecolor\":\"white\",\"ticks\":\"\"},\"bgcolor\":\"#E5ECF6\",\"caxis\":{\"gridcolor\":\"white\",\"linecolor\":\"white\",\"ticks\":\"\"}},\"title\":{\"x\":0.05},\"xaxis\":{\"automargin\":true,\"gridcolor\":\"white\",\"linecolor\":\"white\",\"ticks\":\"\",\"title\":{\"standoff\":15},\"zerolinecolor\":\"white\",\"zerolinewidth\":2},\"yaxis\":{\"automargin\":true,\"gridcolor\":\"white\",\"linecolor\":\"white\",\"ticks\":\"\",\"title\":{\"standoff\":15},\"zerolinecolor\":\"white\",\"zerolinewidth\":2}}},\"xaxis\":{\"anchor\":\"y\",\"domain\":[0.0,1.0],\"title\":{\"text\":\"Valeur_pop\"},\"type\":\"log\"},\"yaxis\":{\"anchor\":\"x\",\"domain\":[0.0,1.0],\"title\":{\"text\":\"Valeur_cer\"},\"type\":\"log\"},\"legend\":{\"title\":{\"text\":\"Groupe de pays\"},\"tracegroupgap\":0},\"margin\":{\"t\":60}},                        {\"responsive\": true}                    ).then(function(){\n",
              "                            \n",
              "var gd = document.getElementById('2a9eb85c-8ad5-4a78-a88a-71036aa2ad73');\n",
              "var x = new MutationObserver(function (mutations, observer) {{\n",
              "        var display = window.getComputedStyle(gd).display;\n",
              "        if (!display || display === 'none') {{\n",
              "            console.log([gd, 'removed!']);\n",
              "            Plotly.purge(gd);\n",
              "            observer.disconnect();\n",
              "        }}\n",
              "}});\n",
              "\n",
              "// Listen for the removal of the full notebook cells\n",
              "var notebookContainer = gd.closest('#notebook-container');\n",
              "if (notebookContainer) {{\n",
              "    x.observe(notebookContainer, {childList: true});\n",
              "}}\n",
              "\n",
              "// Listen for the clearing of the current output cell\n",
              "var outputEl = gd.closest('.output');\n",
              "if (outputEl) {{\n",
              "    x.observe(outputEl, {childList: true});\n",
              "}}\n",
              "\n",
              "                        })                };                            </script>        </div>\n",
              "</body>\n",
              "</html>"
            ]
          },
          "metadata": {}
        }
      ]
    }
  ]
}