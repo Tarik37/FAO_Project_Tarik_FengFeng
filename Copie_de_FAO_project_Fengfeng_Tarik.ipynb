{
  "nbformat": 4,
  "nbformat_minor": 0,
  "metadata": {
    "colab": {
      "provenance": [],
      "mount_file_id": "https://github.com/data-IA-2022/FAO_Project_Tarik_FengFeng/blob/main/FAO_project_Fengfeng_Tarik.ipynb",
      "authorship_tag": "ABX9TyOX3VilS8+U6eqePrrxQBmc",
      "include_colab_link": true
    },
    "kernelspec": {
      "name": "python3",
      "display_name": "Python 3"
    },
    "language_info": {
      "name": "python"
    }
  },
  "cells": [
    {
      "cell_type": "markdown",
      "metadata": {
        "id": "view-in-github",
        "colab_type": "text"
      },
      "source": [
        "<a href=\"https://colab.research.google.com/github/data-IA-2022/FAO_Project_Tarik_FengFeng/blob/main/Copie_de_FAO_project_Fengfeng_Tarik.ipynb\" target=\"_parent\"><img src=\"https://colab.research.google.com/assets/colab-badge.svg\" alt=\"Open In Colab\"/></a>"
      ]
    },
    {
      "cell_type": "markdown",
      "source": [
        "<h1><center>Data Analyse au sein de la FAO (Food and Agriculture Organization)</h1>"
      ],
      "metadata": {
        "id": "bXxGBL_LKxCS"
      }
    },
    {
      "cell_type": "markdown",
      "source": [
        "<h2>Contexte du projet</h2>\n",
        "\n",
        "Au sein du service Data Analytics and Prospective de la FAO, vous êtes en charge d'analyser les données produites par les Nations Unies.\n",
        "\n",
        "Ces analyses conduisent à des rapports de synthèse à destination des décideurs.\n",
        "\n",
        "Pour êtes également en charge de la partie Prospective, c'est à dire donner des tendances et des évolutions probables quant à la production agricole, à l'alimentation et la nutrition mondiales."
      ],
      "metadata": {
        "id": "9PcdQCjlNHwc"
      }
    },
    {
      "cell_type": "code",
      "execution_count": 11,
      "metadata": {
        "id": "IXUCNgylP5AZ",
        "colab": {
          "base_uri": "https://localhost:8080/"
        },
        "outputId": "833c4b18-ff48-4da7-abd0-d24af882af76"
      },
      "outputs": [
        {
          "output_type": "stream",
          "name": "stdout",
          "text": [
            "Cloning into 'FAO_Project_Tarik_FengFeng'...\n",
            "remote: Enumerating objects: 125, done.\u001b[K\n",
            "remote: Counting objects: 100% (30/30), done.\u001b[K\n",
            "remote: Compressing objects: 100% (30/30), done.\u001b[K\n",
            "remote: Total 125 (delta 14), reused 0 (delta 0), pack-reused 95\u001b[K\n",
            "Receiving objects: 100% (125/125), 1.18 MiB | 4.40 MiB/s, done.\n",
            "Resolving deltas: 100% (68/68), done.\n"
          ]
        }
      ],
      "source": [
        "# Copie des fichiers csv du repertoire github et suppréssions des ancien en cas de mise à jour\n",
        "\n",
        "!rm -r /content/FAO_Project_Tarik_FengFeng\n",
        "!git clone https://github.com/data-IA-2022/FAO_Project_Tarik_FengFeng.git"
      ]
    },
    {
      "cell_type": "code",
      "source": [
        "#importation des librairies python\n",
        "import os\n",
        "import pandas as pd\n",
        "import glob\n",
        "import itertools "
      ],
      "metadata": {
        "id": "pZSiveZmKUIJ"
      },
      "execution_count": 173,
      "outputs": []
    },
    {
      "cell_type": "code",
      "source": [
        "# Récupération des chemin vers les fichiers csv\n",
        "csv_path = '/content/FAO_Project_Tarik_FengFeng/fao_2013'\n",
        "def find_csv_filenames(path_to_dir=os.getcwd(), extension=\"csv\"):\n",
        "    filenames = []\n",
        "    for name in glob.glob(f'{path_to_dir}/*.{extension}'):\n",
        "      filenames.append(name)\n",
        "    return filenames\n",
        "all_csv_files= find_csv_filenames(path_to_dir=csv_path)\n",
        "print(all_csv_files)"
      ],
      "metadata": {
        "colab": {
          "base_uri": "https://localhost:8080/"
        },
        "id": "a1aCfsEfQD0t",
        "outputId": "58d20314-7750-40b8-ce75-3b81d89bc2c4"
      },
      "execution_count": 13,
      "outputs": [
        {
          "output_type": "stream",
          "name": "stdout",
          "text": [
            "['/content/FAO_Project_Tarik_FengFeng/fao_2013/FAOSTAT_pays-continents.csv', '/content/FAO_Project_Tarik_FengFeng/fao_2013/FAOSTAT_2013_cereal.csv', '/content/FAO_Project_Tarik_FengFeng/fao_2013/FAOSTAT_2013_population.csv', '/content/FAO_Project_Tarik_FengFeng/fao_2013/FAOSTAT_2013_vegetal.csv', '/content/FAO_Project_Tarik_FengFeng/fao_2013/FAOSTAT_2013_animal.csv', '/content/FAO_Project_Tarik_FengFeng/fao_2013/FAOSTAT_2013_sous_alimentation.csv']\n"
          ]
        }
      ]
    },
    {
      "cell_type": "code",
      "source": [
        "# Création d'un dictionaire avec nom des fichiers csv comme Key et dataframe comme value\n",
        "\n",
        "col_names= ['Code Domaine', 'Domaine', 'Code Pays', 'Pays', 'Code Élément',\n",
        "       'Élément', 'Code Produit', 'Produit', 'Code année', 'Année', 'Unité',\n",
        "       'Valeur', 'Symbole', 'Description du Symbole']\n",
        "df_dict = {}\n",
        "for f in all_csv_files:\n",
        "  df_name= f.split(\"/\")[-1].replace(\".csv\", \"\").split(\"_\")[-1]\n",
        "  if \"FAOSTAT_2013\" in f:\n",
        "    df_dict[f'{df_name}'] = pd.read_csv(f, encoding='utf-8', quotechar='\"', delimiter=',', names= col_names, header=0)\n",
        "  else:\n",
        "    df_dict[f'{df_name}'] = pd.read_csv(f, encoding='utf-8', quotechar='\"', delimiter=',')\n",
        "\n",
        "print(df_dict.keys())"
      ],
      "metadata": {
        "colab": {
          "base_uri": "https://localhost:8080/"
        },
        "id": "7aQUHyd2T5wD",
        "outputId": "fcf5f1f6-c923-4933-8eca-f5b2754cee16"
      },
      "execution_count": 33,
      "outputs": [
        {
          "output_type": "stream",
          "name": "stdout",
          "text": [
            "dict_keys(['pays-continents', 'cereal', 'population', 'vegetal', 'animal', 'alimentation'])\n"
          ]
        }
      ]
    },
    {
      "cell_type": "code",
      "source": [
        "# Définition des Dataframes\n",
        "\n",
        "animal= df_dict[\"animal\"]\n",
        "cereal= df_dict[\"cereal\"]\n",
        "population= df_dict[\"population\"]\n",
        "alimentation= df_dict[\"alimentation\"]\n",
        "vegetal= df_dict[\"vegetal\"]\n",
        "pays_continents= df_dict[\"pays-continents\"]"
      ],
      "metadata": {
        "id": "-1l-VcasW3A7"
      },
      "execution_count": 34,
      "outputs": []
    },
    {
      "cell_type": "code",
      "source": [
        "# Définir les codes pays comme index des Df\n",
        "animal.index= animal[\"Code Pays\"]\n",
        "animal.index.name= \"Code_Pays_id\"\n",
        "cereal.index= cereal[\"Code Pays\"]\n",
        "cereal.index.name= \"Code_Pays_id\"\n",
        "population.index= population[\"Code Pays\"]\n",
        "population.index.name= \"Code_Pays_id\"\n",
        "alimentation.index= alimentation[\"Code Pays\"]\n",
        "alimentation.index.name= \"Code_Pays_id\"\n",
        "vegetal.index= vegetal[\"Code Pays\"]\n",
        "vegetal.index.name= \"Code_Pays_id\"\n",
        "pays_continents.index= pays_continents[\"Code Pays\"]\n",
        "pays_continents.index.name= \"Code_Pays_id\""
      ],
      "metadata": {
        "id": "Rk2of00iXUNj"
      },
      "execution_count": 35,
      "outputs": []
    },
    {
      "cell_type": "markdown",
      "source": [
        "# Nouvelle section"
      ],
      "metadata": {
        "id": "PFGgi3gqOTzh"
      }
    },
    {
      "cell_type": "code",
      "source": [
        "# nb lignes et nb colonnes de nos df\n",
        "print(animal.shape)\n",
        "print(cereal.shape)\n",
        "print(population.shape)\n",
        "print(alimentation.shape)\n",
        "print(vegetal.shape)\n",
        "print(pays_continents.shape)"
      ],
      "metadata": {
        "colab": {
          "base_uri": "https://localhost:8080/"
        },
        "id": "qdSgOR_ZYGoU",
        "outputId": "9a3ecee5-007f-463c-9256-3d5fdd9c7978"
      },
      "execution_count": 36,
      "outputs": [
        {
          "output_type": "stream",
          "name": "stdout",
          "text": [
            "(37166, 14)\n",
            "(16057, 14)\n",
            "(171, 14)\n",
            "(204, 14)\n",
            "(104871, 14)\n",
            "(1941, 7)\n"
          ]
        }
      ]
    },
    {
      "cell_type": "code",
      "source": [],
      "metadata": {
        "id": "_pkd1JcZUzMy"
      },
      "execution_count": null,
      "outputs": []
    },
    {
      "cell_type": "code",
      "source": [
        "# Join population et cereal production et pays continents\n",
        "df_pop_cerealprod = population.join(cereal, on= \"Code Pays\",how=\"left\", lsuffix=\"_pop\", rsuffix=\"_cer\" )\n",
        "df_pop_cerealprodblé = df_pop_cerealprod.query(\"Produit_cer in ('Blé') and Élément_cer in ('Production')\")\n",
        "pays_continents= pays_continents.query(\"`Code Groupe de pays` in (5200,5100,5300,5500,5400) \")\n",
        "#print(pays_continents)\n",
        "df_pop_cerealprodblé = df_pop_cerealprodblé.join(pays_continents, on= \"Code Pays\" ,how=\"left\", lsuffix=\"_popcer\", rsuffix=\"_conti\" )\n",
        "df_pop_cerealprodblé = df_pop_cerealprodblé[[\"Valeur_pop\",\"Valeur_cer\",\"Pays_pop\",\"Groupe de pays\",\"Code ISO2\"]]\n",
        "print(df_pop_cerealprodblé)"
      ],
      "metadata": {
        "colab": {
          "base_uri": "https://localhost:8080/"
        },
        "id": "-wDHO_E0YctU",
        "outputId": "601bc545-9de5-4c0f-cfca-a13e635e4bd0"
      },
      "execution_count": 89,
      "outputs": [
        {
          "output_type": "stream",
          "name": "stdout",
          "text": [
            "              Valeur_pop  Valeur_cer                            Pays_pop  \\\n",
            "Code_Pays_id                                                               \n",
            "2                  30552      5169.0                         Afghanistan   \n",
            "3                   3173       294.0                             Albania   \n",
            "4                  39208      3299.0                             Algeria   \n",
            "7                  21472         4.0                              Angola   \n",
            "9                  41446      9315.0                           Argentina   \n",
            "...                  ...         ...                                 ...   \n",
            "235                28934      6842.0                          Uzbekistan   \n",
            "236                30405         0.0  Venezuela (Bolivarian Republic of)   \n",
            "249                24407       232.0                               Yemen   \n",
            "251                14539       274.0                              Zambia   \n",
            "181                14150        25.0                            Zimbabwe   \n",
            "\n",
            "             Groupe de pays Code ISO2  \n",
            "Code_Pays_id                           \n",
            "2                      Asie        AF  \n",
            "3                    Europe        AL  \n",
            "4                   Afrique        DZ  \n",
            "7                   Afrique        AO  \n",
            "9                 Amériques        AR  \n",
            "...                     ...       ...  \n",
            "235                    Asie        UZ  \n",
            "236               Amériques        VE  \n",
            "249                    Asie        YE  \n",
            "251                 Afrique        ZM  \n",
            "181                 Afrique        ZW  \n",
            "\n",
            "[115 rows x 5 columns]\n"
          ]
        }
      ]
    },
    {
      "cell_type": "code",
      "source": [
        "# Graphiques scatter plot de la production de blé par rapport à la population par pays\n",
        "\n",
        "# Error divide by zero encountered in log prendre les valeurs supérieur\n",
        "\n",
        "\n",
        "# Avec plotly\n",
        "import plotly.express as px\n",
        "import plotly.graph_objects as go\n",
        "import plotly.io as io\n",
        "import numpy as np\n",
        "# set les couleurs\n",
        "color_map = {\n",
        "    'Asie': 'red',\n",
        "    'Europe': 'blue',\n",
        "    'Afrique': 'green',\n",
        "    'Amériques': 'yellow',\n",
        "    'Océanie': 'purple'\n",
        "}\n",
        "\n",
        "io.renderers.default='colab'\n",
        "df = df_pop_cerealprodblé\n",
        "fig = px.scatter(df, x=\"Valeur_pop\", y=\"Valeur_cer\",title=\"Production de Blé par Population par Pays\", hover_name=\"Pays_pop\" , color=\"Groupe de pays\", color_discrete_map=color_map, log_x=True, log_y=True)\n",
        "fig.show()"
      ],
      "metadata": {
        "colab": {
          "base_uri": "https://localhost:8080/",
          "height": 542
        },
        "id": "bQjdvUO-YpWr",
        "outputId": "fb17fd02-6039-4322-9801-3b1bc85599b8"
      },
      "execution_count": 111,
      "outputs": [
        {
          "output_type": "display_data",
          "data": {
            "text/html": [
              "<html>\n",
              "<head><meta charset=\"utf-8\" /></head>\n",
              "<body>\n",
              "    <div>            <script src=\"https://cdnjs.cloudflare.com/ajax/libs/mathjax/2.7.5/MathJax.js?config=TeX-AMS-MML_SVG\"></script><script type=\"text/javascript\">if (window.MathJax) {MathJax.Hub.Config({SVG: {font: \"STIX-Web\"}});}</script>                <script type=\"text/javascript\">window.PlotlyConfig = {MathJaxConfig: 'local'};</script>\n",
              "        <script src=\"https://cdn.plot.ly/plotly-2.8.3.min.js\"></script>                <div id=\"217fc561-b8ed-4739-93c3-59b2018af256\" class=\"plotly-graph-div\" style=\"height:525px; width:100%;\"></div>            <script type=\"text/javascript\">                                    window.PLOTLYENV=window.PLOTLYENV || {};                                    if (document.getElementById(\"217fc561-b8ed-4739-93c3-59b2018af256\")) {                    Plotly.newPlot(                        \"217fc561-b8ed-4739-93c3-59b2018af256\",                        [{\"hovertemplate\":\"<b>%{hovertext}</b><br><br>Groupe de pays=Asie<br>Valeur_pop=%{x}<br>Valeur_cer=%{y}<extra></extra>\",\"hovertext\":[\"Afghanistan\",\"Armenia\",\"Azerbaijan\",\"Bangladesh\",\"China\",\"Cyprus\",\"Democratic People's Republic of Korea\",\"Georgia\",\"India\",\"Iran (Islamic Republic of)\",\"Iraq\",\"Israel\",\"Japan\",\"Jordan\",\"Kazakhstan\",\"Kuwait\",\"Kyrgyzstan\",\"Lebanon\",\"Mongolia\",\"Myanmar\",\"Nepal\",\"Oman\",\"Pakistan\",\"Republic of Korea\",\"Saudi Arabia\",\"Tajikistan\",\"Thailand\",\"Turkey\",\"Turkmenistan\",\"United Arab Emirates\",\"Uzbekistan\",\"Yemen\"],\"legendgroup\":\"Asie\",\"marker\":{\"color\":\"red\",\"symbol\":\"circle\"},\"mode\":\"markers\",\"name\":\"Asie\",\"orientation\":\"v\",\"showlegend\":true,\"x\":[30552,2977,9413,156595,1416667,1141,24895,4341,1252140,77447,33765,7733,127144,7274,16441,3369,5548,4822,2839,53259,27797,3632,182143,49263,28829,8208,67011,74933,5240,9346,28934,24407],\"xaxis\":\"x\",\"y\":[5169.0,312.0,1893.0,1255.0,121931.0,15.0,75.0,81.0,93510.0,9304.0,4178.0,152.0,812.0,30.0,13941.0,0.0,819.0,140.0,368.0,188.0,1727.0,2.0,24231.0,19.0,660.0,947.0,2.0,22100.0,1300.0,0.0,6842.0,232.0],\"yaxis\":\"y\",\"type\":\"scatter\"},{\"hovertemplate\":\"<b>%{hovertext}</b><br><br>Groupe de pays=Europe<br>Valeur_pop=%{x}<br>Valeur_cer=%{y}<extra></extra>\",\"hovertext\":[\"Albania\",\"Austria\",\"Belarus\",\"Belgium\",\"Bosnia and Herzegovina\",\"Bulgaria\",\"Croatia\",\"Czechia\",\"Denmark\",\"Estonia\",\"Finland\",\"France\",\"Germany\",\"Greece\",\"Hungary\",\"Ireland\",\"Italy\",\"Latvia\",\"Lithuania\",\"Luxembourg\",\"Malta\",\"Montenegro\",\"Netherlands\",\"Norway\",\"Poland\",\"Portugal\",\"Republic of Moldova\",\"Romania\",\"Russian Federation\",\"Serbia\",\"Slovakia\",\"Slovenia\",\"Spain\",\"Sweden\",\"Switzerland\",\"The former Yugoslav Republic of Macedonia\",\"Ukraine\",\"United Kingdom\"],\"legendgroup\":\"Europe\",\"marker\":{\"color\":\"blue\",\"symbol\":\"circle\"},\"mode\":\"markers\",\"name\":\"Europe\",\"orientation\":\"v\",\"showlegend\":true,\"x\":[3173,8495,9357,11104,3829,7223,4290,10702,5619,1287,5426,64291,82727,11128,9955,4627,60990,2050,3017,530,429,621,16759,5043,38217,10608,3487,21699,142834,9511,5450,2072,46927,9571,8078,2107,45239,63384],\"xaxis\":\"x\",\"y\":[294.0,1598.0,2101.0,1804.0,265.0,5505.0,999.0,4701.0,4145.0,407.0,869.0,38614.0,25019.0,1857.0,5058.0,545.0,7312.0,1435.0,2871.0,91.0,10.0,2.0,1335.0,213.0,9485.0,92.0,1009.0,7296.0,52091.0,2690.0,1684.0,138.0,7745.0,1869.0,480.0,259.0,22279.0,11921.0],\"yaxis\":\"y\",\"type\":\"scatter\"},{\"hovertemplate\":\"<b>%{hovertext}</b><br><br>Groupe de pays=Afrique<br>Valeur_pop=%{x}<br>Valeur_cer=%{y}<extra></extra>\",\"hovertext\":[\"Algeria\",\"Angola\",\"Botswana\",\"Cameroon\",\"Chad\",\"Egypt\",\"Ethiopia\",\"Kenya\",\"Lesotho\",\"Madagascar\",\"Malawi\",\"Mali\",\"Mauritania\",\"Morocco\",\"Mozambique\",\"Namibia\",\"Niger\",\"Nigeria\",\"Rwanda\",\"South Africa\",\"Sudan\",\"Eswatini\",\"Tunisia\",\"Uganda\",\"United Republic of Tanzania\",\"Zambia\",\"Zimbabwe\"],\"legendgroup\":\"Afrique\",\"marker\":{\"color\":\"green\",\"symbol\":\"circle\"},\"mode\":\"markers\",\"name\":\"Afrique\",\"orientation\":\"v\",\"showlegend\":true,\"x\":[39208,21472,2021,22254,12825,82056,94101,44354,2074,22925,16363,15302,3890,33008,25834,2303,17831,173615,11777,52776,37964,1250,10997,37579,49253,14539,14150],\"xaxis\":\"x\",\"y\":[3299.0,4.0,0.0,1.0,32.0,9460.0,4039.0,486.0,13.0,5.0,2.0,27.0,7.0,6934.0,21.0,15.0,7.0,80.0,70.0,1870.0,265.0,1.0,975.0,20.0,104.0,274.0,25.0],\"yaxis\":\"y\",\"type\":\"scatter\"},{\"hovertemplate\":\"<b>%{hovertext}</b><br><br>Groupe de pays=Am\\u00e9riques<br>Valeur_pop=%{x}<br>Valeur_cer=%{y}<extra></extra>\",\"hovertext\":[\"Argentina\",\"Bolivia\",\"Brazil\",\"Canada\",\"Chile\",\"Colombia\",\"Ecuador\",\"Guatemala\",\"Honduras\",\"Mexico\",\"Paraguay\",\"Peru\",\"United States of America\",\"Uruguay\",\"Venezuela (Bolivarian Republic of)\"],\"legendgroup\":\"Am\\u00e9riques\",\"marker\":{\"color\":\"yellow\",\"symbol\":\"circle\"},\"mode\":\"markers\",\"name\":\"Am\\u00e9riques\",\"orientation\":\"v\",\"showlegend\":true,\"x\":[41446,10671,200362,35182,17620,48321,15738,15468,8096,122332,6802,30376,320051,3407,30405],\"xaxis\":\"x\",\"y\":[9315.0,209.0,5718.0,37530.0,1475.0,8.0,6.0,2.0,1.0,3357.0,1430.0,230.0,57967.0,1533.0,0.0],\"yaxis\":\"y\",\"type\":\"scatter\"},{\"hovertemplate\":\"<b>%{hovertext}</b><br><br>Groupe de pays=Oc\\u00e9anie<br>Valeur_pop=%{x}<br>Valeur_cer=%{y}<extra></extra>\",\"hovertext\":[\"Australia\",\"New Caledonia\",\"New Zealand\"],\"legendgroup\":\"Oc\\u00e9anie\",\"marker\":{\"color\":\"purple\",\"symbol\":\"circle\"},\"mode\":\"markers\",\"name\":\"Oc\\u00e9anie\",\"orientation\":\"v\",\"showlegend\":true,\"x\":[23343,256,4506],\"xaxis\":\"x\",\"y\":[22856.0,0.0,448.0],\"yaxis\":\"y\",\"type\":\"scatter\"}],                        {\"template\":{\"data\":{\"bar\":[{\"error_x\":{\"color\":\"#2a3f5f\"},\"error_y\":{\"color\":\"#2a3f5f\"},\"marker\":{\"line\":{\"color\":\"#E5ECF6\",\"width\":0.5},\"pattern\":{\"fillmode\":\"overlay\",\"size\":10,\"solidity\":0.2}},\"type\":\"bar\"}],\"barpolar\":[{\"marker\":{\"line\":{\"color\":\"#E5ECF6\",\"width\":0.5},\"pattern\":{\"fillmode\":\"overlay\",\"size\":10,\"solidity\":0.2}},\"type\":\"barpolar\"}],\"carpet\":[{\"aaxis\":{\"endlinecolor\":\"#2a3f5f\",\"gridcolor\":\"white\",\"linecolor\":\"white\",\"minorgridcolor\":\"white\",\"startlinecolor\":\"#2a3f5f\"},\"baxis\":{\"endlinecolor\":\"#2a3f5f\",\"gridcolor\":\"white\",\"linecolor\":\"white\",\"minorgridcolor\":\"white\",\"startlinecolor\":\"#2a3f5f\"},\"type\":\"carpet\"}],\"choropleth\":[{\"colorbar\":{\"outlinewidth\":0,\"ticks\":\"\"},\"type\":\"choropleth\"}],\"contour\":[{\"colorbar\":{\"outlinewidth\":0,\"ticks\":\"\"},\"colorscale\":[[0.0,\"#0d0887\"],[0.1111111111111111,\"#46039f\"],[0.2222222222222222,\"#7201a8\"],[0.3333333333333333,\"#9c179e\"],[0.4444444444444444,\"#bd3786\"],[0.5555555555555556,\"#d8576b\"],[0.6666666666666666,\"#ed7953\"],[0.7777777777777778,\"#fb9f3a\"],[0.8888888888888888,\"#fdca26\"],[1.0,\"#f0f921\"]],\"type\":\"contour\"}],\"contourcarpet\":[{\"colorbar\":{\"outlinewidth\":0,\"ticks\":\"\"},\"type\":\"contourcarpet\"}],\"heatmap\":[{\"colorbar\":{\"outlinewidth\":0,\"ticks\":\"\"},\"colorscale\":[[0.0,\"#0d0887\"],[0.1111111111111111,\"#46039f\"],[0.2222222222222222,\"#7201a8\"],[0.3333333333333333,\"#9c179e\"],[0.4444444444444444,\"#bd3786\"],[0.5555555555555556,\"#d8576b\"],[0.6666666666666666,\"#ed7953\"],[0.7777777777777778,\"#fb9f3a\"],[0.8888888888888888,\"#fdca26\"],[1.0,\"#f0f921\"]],\"type\":\"heatmap\"}],\"heatmapgl\":[{\"colorbar\":{\"outlinewidth\":0,\"ticks\":\"\"},\"colorscale\":[[0.0,\"#0d0887\"],[0.1111111111111111,\"#46039f\"],[0.2222222222222222,\"#7201a8\"],[0.3333333333333333,\"#9c179e\"],[0.4444444444444444,\"#bd3786\"],[0.5555555555555556,\"#d8576b\"],[0.6666666666666666,\"#ed7953\"],[0.7777777777777778,\"#fb9f3a\"],[0.8888888888888888,\"#fdca26\"],[1.0,\"#f0f921\"]],\"type\":\"heatmapgl\"}],\"histogram\":[{\"marker\":{\"pattern\":{\"fillmode\":\"overlay\",\"size\":10,\"solidity\":0.2}},\"type\":\"histogram\"}],\"histogram2d\":[{\"colorbar\":{\"outlinewidth\":0,\"ticks\":\"\"},\"colorscale\":[[0.0,\"#0d0887\"],[0.1111111111111111,\"#46039f\"],[0.2222222222222222,\"#7201a8\"],[0.3333333333333333,\"#9c179e\"],[0.4444444444444444,\"#bd3786\"],[0.5555555555555556,\"#d8576b\"],[0.6666666666666666,\"#ed7953\"],[0.7777777777777778,\"#fb9f3a\"],[0.8888888888888888,\"#fdca26\"],[1.0,\"#f0f921\"]],\"type\":\"histogram2d\"}],\"histogram2dcontour\":[{\"colorbar\":{\"outlinewidth\":0,\"ticks\":\"\"},\"colorscale\":[[0.0,\"#0d0887\"],[0.1111111111111111,\"#46039f\"],[0.2222222222222222,\"#7201a8\"],[0.3333333333333333,\"#9c179e\"],[0.4444444444444444,\"#bd3786\"],[0.5555555555555556,\"#d8576b\"],[0.6666666666666666,\"#ed7953\"],[0.7777777777777778,\"#fb9f3a\"],[0.8888888888888888,\"#fdca26\"],[1.0,\"#f0f921\"]],\"type\":\"histogram2dcontour\"}],\"mesh3d\":[{\"colorbar\":{\"outlinewidth\":0,\"ticks\":\"\"},\"type\":\"mesh3d\"}],\"parcoords\":[{\"line\":{\"colorbar\":{\"outlinewidth\":0,\"ticks\":\"\"}},\"type\":\"parcoords\"}],\"pie\":[{\"automargin\":true,\"type\":\"pie\"}],\"scatter\":[{\"marker\":{\"colorbar\":{\"outlinewidth\":0,\"ticks\":\"\"}},\"type\":\"scatter\"}],\"scatter3d\":[{\"line\":{\"colorbar\":{\"outlinewidth\":0,\"ticks\":\"\"}},\"marker\":{\"colorbar\":{\"outlinewidth\":0,\"ticks\":\"\"}},\"type\":\"scatter3d\"}],\"scattercarpet\":[{\"marker\":{\"colorbar\":{\"outlinewidth\":0,\"ticks\":\"\"}},\"type\":\"scattercarpet\"}],\"scattergeo\":[{\"marker\":{\"colorbar\":{\"outlinewidth\":0,\"ticks\":\"\"}},\"type\":\"scattergeo\"}],\"scattergl\":[{\"marker\":{\"colorbar\":{\"outlinewidth\":0,\"ticks\":\"\"}},\"type\":\"scattergl\"}],\"scattermapbox\":[{\"marker\":{\"colorbar\":{\"outlinewidth\":0,\"ticks\":\"\"}},\"type\":\"scattermapbox\"}],\"scatterpolar\":[{\"marker\":{\"colorbar\":{\"outlinewidth\":0,\"ticks\":\"\"}},\"type\":\"scatterpolar\"}],\"scatterpolargl\":[{\"marker\":{\"colorbar\":{\"outlinewidth\":0,\"ticks\":\"\"}},\"type\":\"scatterpolargl\"}],\"scatterternary\":[{\"marker\":{\"colorbar\":{\"outlinewidth\":0,\"ticks\":\"\"}},\"type\":\"scatterternary\"}],\"surface\":[{\"colorbar\":{\"outlinewidth\":0,\"ticks\":\"\"},\"colorscale\":[[0.0,\"#0d0887\"],[0.1111111111111111,\"#46039f\"],[0.2222222222222222,\"#7201a8\"],[0.3333333333333333,\"#9c179e\"],[0.4444444444444444,\"#bd3786\"],[0.5555555555555556,\"#d8576b\"],[0.6666666666666666,\"#ed7953\"],[0.7777777777777778,\"#fb9f3a\"],[0.8888888888888888,\"#fdca26\"],[1.0,\"#f0f921\"]],\"type\":\"surface\"}],\"table\":[{\"cells\":{\"fill\":{\"color\":\"#EBF0F8\"},\"line\":{\"color\":\"white\"}},\"header\":{\"fill\":{\"color\":\"#C8D4E3\"},\"line\":{\"color\":\"white\"}},\"type\":\"table\"}]},\"layout\":{\"annotationdefaults\":{\"arrowcolor\":\"#2a3f5f\",\"arrowhead\":0,\"arrowwidth\":1},\"autotypenumbers\":\"strict\",\"coloraxis\":{\"colorbar\":{\"outlinewidth\":0,\"ticks\":\"\"}},\"colorscale\":{\"diverging\":[[0,\"#8e0152\"],[0.1,\"#c51b7d\"],[0.2,\"#de77ae\"],[0.3,\"#f1b6da\"],[0.4,\"#fde0ef\"],[0.5,\"#f7f7f7\"],[0.6,\"#e6f5d0\"],[0.7,\"#b8e186\"],[0.8,\"#7fbc41\"],[0.9,\"#4d9221\"],[1,\"#276419\"]],\"sequential\":[[0.0,\"#0d0887\"],[0.1111111111111111,\"#46039f\"],[0.2222222222222222,\"#7201a8\"],[0.3333333333333333,\"#9c179e\"],[0.4444444444444444,\"#bd3786\"],[0.5555555555555556,\"#d8576b\"],[0.6666666666666666,\"#ed7953\"],[0.7777777777777778,\"#fb9f3a\"],[0.8888888888888888,\"#fdca26\"],[1.0,\"#f0f921\"]],\"sequentialminus\":[[0.0,\"#0d0887\"],[0.1111111111111111,\"#46039f\"],[0.2222222222222222,\"#7201a8\"],[0.3333333333333333,\"#9c179e\"],[0.4444444444444444,\"#bd3786\"],[0.5555555555555556,\"#d8576b\"],[0.6666666666666666,\"#ed7953\"],[0.7777777777777778,\"#fb9f3a\"],[0.8888888888888888,\"#fdca26\"],[1.0,\"#f0f921\"]]},\"colorway\":[\"#636efa\",\"#EF553B\",\"#00cc96\",\"#ab63fa\",\"#FFA15A\",\"#19d3f3\",\"#FF6692\",\"#B6E880\",\"#FF97FF\",\"#FECB52\"],\"font\":{\"color\":\"#2a3f5f\"},\"geo\":{\"bgcolor\":\"white\",\"lakecolor\":\"white\",\"landcolor\":\"#E5ECF6\",\"showlakes\":true,\"showland\":true,\"subunitcolor\":\"white\"},\"hoverlabel\":{\"align\":\"left\"},\"hovermode\":\"closest\",\"mapbox\":{\"style\":\"light\"},\"paper_bgcolor\":\"white\",\"plot_bgcolor\":\"#E5ECF6\",\"polar\":{\"angularaxis\":{\"gridcolor\":\"white\",\"linecolor\":\"white\",\"ticks\":\"\"},\"bgcolor\":\"#E5ECF6\",\"radialaxis\":{\"gridcolor\":\"white\",\"linecolor\":\"white\",\"ticks\":\"\"}},\"scene\":{\"xaxis\":{\"backgroundcolor\":\"#E5ECF6\",\"gridcolor\":\"white\",\"gridwidth\":2,\"linecolor\":\"white\",\"showbackground\":true,\"ticks\":\"\",\"zerolinecolor\":\"white\"},\"yaxis\":{\"backgroundcolor\":\"#E5ECF6\",\"gridcolor\":\"white\",\"gridwidth\":2,\"linecolor\":\"white\",\"showbackground\":true,\"ticks\":\"\",\"zerolinecolor\":\"white\"},\"zaxis\":{\"backgroundcolor\":\"#E5ECF6\",\"gridcolor\":\"white\",\"gridwidth\":2,\"linecolor\":\"white\",\"showbackground\":true,\"ticks\":\"\",\"zerolinecolor\":\"white\"}},\"shapedefaults\":{\"line\":{\"color\":\"#2a3f5f\"}},\"ternary\":{\"aaxis\":{\"gridcolor\":\"white\",\"linecolor\":\"white\",\"ticks\":\"\"},\"baxis\":{\"gridcolor\":\"white\",\"linecolor\":\"white\",\"ticks\":\"\"},\"bgcolor\":\"#E5ECF6\",\"caxis\":{\"gridcolor\":\"white\",\"linecolor\":\"white\",\"ticks\":\"\"}},\"title\":{\"x\":0.05},\"xaxis\":{\"automargin\":true,\"gridcolor\":\"white\",\"linecolor\":\"white\",\"ticks\":\"\",\"title\":{\"standoff\":15},\"zerolinecolor\":\"white\",\"zerolinewidth\":2},\"yaxis\":{\"automargin\":true,\"gridcolor\":\"white\",\"linecolor\":\"white\",\"ticks\":\"\",\"title\":{\"standoff\":15},\"zerolinecolor\":\"white\",\"zerolinewidth\":2}}},\"xaxis\":{\"anchor\":\"y\",\"domain\":[0.0,1.0],\"title\":{\"text\":\"Valeur_pop\"},\"type\":\"log\"},\"yaxis\":{\"anchor\":\"x\",\"domain\":[0.0,1.0],\"title\":{\"text\":\"Valeur_cer\"},\"type\":\"log\"},\"legend\":{\"title\":{\"text\":\"Groupe de pays\"},\"tracegroupgap\":0},\"title\":{\"text\":\"Production de Bl\\u00e9 par Population par Pays\"}},                        {\"responsive\": true}                    ).then(function(){\n",
              "                            \n",
              "var gd = document.getElementById('217fc561-b8ed-4739-93c3-59b2018af256');\n",
              "var x = new MutationObserver(function (mutations, observer) {{\n",
              "        var display = window.getComputedStyle(gd).display;\n",
              "        if (!display || display === 'none') {{\n",
              "            console.log([gd, 'removed!']);\n",
              "            Plotly.purge(gd);\n",
              "            observer.disconnect();\n",
              "        }}\n",
              "}});\n",
              "\n",
              "// Listen for the removal of the full notebook cells\n",
              "var notebookContainer = gd.closest('#notebook-container');\n",
              "if (notebookContainer) {{\n",
              "    x.observe(notebookContainer, {childList: true});\n",
              "}}\n",
              "\n",
              "// Listen for the clearing of the current output cell\n",
              "var outputEl = gd.closest('.output');\n",
              "if (outputEl) {{\n",
              "    x.observe(outputEl, {childList: true});\n",
              "}}\n",
              "\n",
              "                        })                };                            </script>        </div>\n",
              "</body>\n",
              "</html>"
            ]
          },
          "metadata": {}
        }
      ]
    },
    {
      "cell_type": "code",
      "source": [
        "# Creation data frame pour pareto population\n",
        "# Join population et  pays continents\n",
        "df_pareto_pop =  population.join(pays_continents, on= \"Code Pays\",how=\"left\", lsuffix=\"_pop\", rsuffix=\"_conti\" )\n",
        "# Utilisation des nom de pays comme index\n",
        "df_pareto_pop.index = list(df_pareto_pop[\"Pays_conti\"])\n",
        "# Deux colonne pour la dataframe Valeur et groupe de pays\n",
        "df_pareto_pop  = df_pareto_pop [[\"Valeur\",\"Groupe de pays\",\"Code ISO2\"]]\n",
        "# On classe la les valeurs de population de façon décroissante\n",
        "df_pareto_pop = df_pareto_pop.sort_values(by=\"Valeur\",ascending=False)\n",
        "# Création de la colonne pourcentage cumulé\n",
        "df_pareto_pop[\"Pourcentage_cumulé\"] = (df_pareto_pop[\"Valeur\"].cumsum()*100)/df_pareto_pop[\"Valeur\"].sum()\n",
        "print(df_pareto_pop)"
      ],
      "metadata": {
        "colab": {
          "base_uri": "https://localhost:8080/"
        },
        "id": "-5EYoOVH_wRu",
        "outputId": "108e578c-2b42-4ce3-92c0-ca534a0745f1"
      },
      "execution_count": 123,
      "outputs": [
        {
          "output_type": "stream",
          "name": "stdout",
          "text": [
            "                        Valeur Groupe de pays Code ISO2  Pourcentage_cumulé\n",
            "Chine                  1416667           Asie      F351           20.245834\n",
            "Inde                   1252140           Asie        IN           38.140384\n",
            "États-Unis d'Amérique   320051      Amériques        US           42.714288\n",
            "Indonésie               249866           Asie        ID           46.285167\n",
            "Brésil                  200362      Amériques        BR           49.148575\n",
            "...                        ...            ...       ...                 ...\n",
            "Kiribati                   102        Océanie        KI           99.995984\n",
            "Antigua-et-Barbuda          90      Amériques        AG           99.997270\n",
            "Dominique                   72      Amériques        DM           99.998299\n",
            "Bermudes                    65      Amériques        BM           99.999228\n",
            "Saint-Kitts-et-Nevis        54      Amériques        KN          100.000000\n",
            "\n",
            "[171 rows x 4 columns]\n"
          ]
        }
      ]
    },
    {
      "cell_type": "code",
      "source": [
        "# Création d'un dictionaire de couleur en fonction des codes pays pour eviter le groupage de l'argument color dans plot\n",
        "color_map = {\n",
        "    'Asie': 'red',\n",
        "    'Europe': 'blue',\n",
        "    'Afrique': 'green',\n",
        "    'Amériques': 'yellow',\n",
        "    'Océanie': 'purple'\n",
        "}\n",
        "color_pays={}\n",
        "for pays, continent in zip(df_pareto_pop[\"Code ISO2\"], df_pareto_pop[\"Groupe de pays\"]):\n",
        "  color_pays[pays] = color_map.get(f'{continent}')\n",
        "\n",
        "print(color_pays)"
      ],
      "metadata": {
        "colab": {
          "base_uri": "https://localhost:8080/"
        },
        "id": "isysK9Ei-HIb",
        "outputId": "c7708bfa-8b8b-4296-9fc4-b2637866565c"
      },
      "execution_count": 176,
      "outputs": [
        {
          "output_type": "stream",
          "name": "stdout",
          "text": [
            "{'F351': 'red', 'IN': 'red', 'US': 'yellow', 'ID': 'red', 'BR': 'yellow', 'PK': 'red', 'NG': 'green', 'BD': 'red', 'RU': 'blue', 'JP': 'red', 'MX': 'yellow', 'PH': 'red', 'ET': 'green', 'VN': 'red', 'DE': 'blue', 'EG': 'green', 'IR': 'red', 'TR': 'red', 'TH': 'red', 'FR': 'blue', 'GB': 'blue', 'IT': 'blue', 'MM': 'red', 'ZA': 'green', 'KR': 'red', 'TZ': 'green', 'CO': 'yellow', 'ES': 'blue', 'UA': 'blue', 'KE': 'green', 'AR': 'yellow', 'DZ': 'green', 'PL': 'blue', 'SD': 'green', 'UG': 'green', 'CA': 'yellow', 'IQ': 'red', 'MA': 'green', 'AF': 'red', 'VE': 'yellow', 'PE': 'yellow', 'MY': 'red', 'UZ': 'red', 'SA': 'red', 'NP': 'red', 'GH': 'green', 'MZ': 'green', 'KP': 'red', 'YE': 'red', 'AU': 'purple', 'MG': 'green', 'CM': 'green', 'RO': 'blue', 'AO': 'green', 'LK': 'red', 'CI': 'green', 'NE': 'green', 'CL': 'yellow', 'BF': 'green', 'NL': 'blue', 'KZ': 'red', 'MW': 'green', 'EC': 'yellow', 'GT': 'yellow', 'ML': 'green', 'KH': 'red', 'ZM': 'green', 'ZW': 'green', 'SN': 'green', 'TD': 'green', 'RW': 'green', 'GN': 'green', 'CU': 'yellow', 'GR': 'blue', 'BE': 'blue', 'TN': 'green', 'CZ': 'blue', 'BO': 'yellow', 'PT': 'blue', 'DO': 'yellow', 'BJ': 'green', 'HT': 'yellow', 'HU': 'blue', 'SE': 'blue', 'RS': 'blue', 'AZ': 'red', 'BY': 'blue', 'AE': 'red', 'AT': 'blue', 'TJ': 'red', 'HN': 'yellow', 'CH': 'blue', 'IL': 'red', 'JO': 'red', 'BG': 'blue', 'TG': 'green', 'PY': 'yellow', 'LA': 'red', 'SV': 'yellow', 'SL': 'green', 'NI': 'yellow', 'DK': 'blue', 'KG': 'red', 'SK': 'blue', 'FI': 'blue', 'TM': 'red', 'NO': 'blue', 'CR': 'yellow', 'LB': 'red', 'IE': 'blue', 'CF': 'green', 'NZ': 'purple', 'CG': 'green', 'GE': 'red', 'LR': 'green', 'HR': 'blue', 'MR': 'green', 'PA': 'yellow', 'BA': 'blue', 'OM': 'red', 'MD': 'blue', 'UY': 'yellow', 'KW': 'red', 'AL': 'blue', 'LT': 'blue', 'AM': 'red', 'MN': 'red', 'JM': 'yellow', nan: 'green', 'MK': 'blue', 'LS': 'green', 'SI': 'blue', 'LV': 'blue', 'BW': 'green', 'GM': 'green', 'GW': 'green', 'GA': 'green', 'TT': 'yellow', 'EE': 'blue', 'SZ': 'green', 'MU': 'green', 'CY': 'red', 'TL': 'red', 'FJ': 'purple', 'DJ': 'green', 'GY': 'yellow', 'ME': 'blue', 'SB': 'purple', 'SR': 'yellow', 'LU': 'blue', 'CV': 'green', 'MT': 'blue', 'BN': 'red', 'BS': 'yellow', 'MV': 'red', 'BZ': 'yellow', 'IS': 'blue', 'BB': 'yellow', 'PF': 'purple', 'NC': 'purple', 'VU': 'purple', 'ST': 'green', 'WS': 'purple', 'LC': 'yellow', 'VC': 'yellow', 'GD': 'yellow', 'KI': 'purple', 'AG': 'yellow', 'DM': 'yellow', 'BM': 'yellow', 'KN': 'yellow'}\n"
          ]
        }
      ]
    },
    {
      "cell_type": "code",
      "source": [
        "# Graphique de Pareto pour la population cumulée\n",
        "# set les couleurs\n",
        "color_map = {\n",
        "    'Asie': 'red',\n",
        "    'Europe': 'blue',\n",
        "    'Afrique': 'green',\n",
        "    'Amériques': 'yellow',\n",
        "    'Océanie': 'purple'\n",
        "}\n",
        "\n",
        "\n",
        "\n",
        "\n",
        "# Le graphique en bare d'abord\n",
        "#color=\"Groupe de pays\", color_discrete_map= color_map,\n",
        "fig = px.bar(df_pareto_pop, x=df_pareto_pop[\"Code ISO2\"], y=\"Valeur\", title='Population (Valeur log) par Pays et Continents',\n",
        "             color_discrete_map = color_map, color= df_pareto_pop[\"Groupe de pays\"],\n",
        "             hover_name=df_pareto_pop.index, log_y=True)\n",
        "fig.update_layout(barmode='stack', yaxis={'categoryorder':'total descending'})\n",
        "# add the cumulative sum line\n",
        "#fig.add_scatter(x=df_pareto_pop[\"Code ISO2\"], y=df_pareto_pop[\"Pourcentage_cumulé\"], mode=\"lines\", name=\"Pourcentage cumulé\")\n",
        "fig.add_trace(go.Scatter(x=df_pareto_pop[\"Code ISO2\"], y=df_pareto_pop[\"Pourcentage_cumulé\"],mode='lines+markers', name=\"Pourcentage cumulé\", line=dict(color=\"#0000ff\")))\n",
        "# Show the le graphique\n",
        "fig.show()\n"
      ],
      "metadata": {
        "colab": {
          "base_uri": "https://localhost:8080/",
          "height": 542
        },
        "id": "Hol1R0SBVET2",
        "outputId": "33529e19-405b-4766-bec8-4342a9612496"
      },
      "execution_count": 170,
      "outputs": [
        {
          "output_type": "display_data",
          "data": {
            "text/html": [
              "<html>\n",
              "<head><meta charset=\"utf-8\" /></head>\n",
              "<body>\n",
              "    <div>            <script src=\"https://cdnjs.cloudflare.com/ajax/libs/mathjax/2.7.5/MathJax.js?config=TeX-AMS-MML_SVG\"></script><script type=\"text/javascript\">if (window.MathJax) {MathJax.Hub.Config({SVG: {font: \"STIX-Web\"}});}</script>                <script type=\"text/javascript\">window.PlotlyConfig = {MathJaxConfig: 'local'};</script>\n",
              "        <script src=\"https://cdn.plot.ly/plotly-2.8.3.min.js\"></script>                <div id=\"e5e56eff-51fd-4c92-bbf5-3fe524dc496e\" class=\"plotly-graph-div\" style=\"height:525px; width:100%;\"></div>            <script type=\"text/javascript\">                                    window.PLOTLYENV=window.PLOTLYENV || {};                                    if (document.getElementById(\"e5e56eff-51fd-4c92-bbf5-3fe524dc496e\")) {                    Plotly.newPlot(                        \"e5e56eff-51fd-4c92-bbf5-3fe524dc496e\",                        [{\"alignmentgroup\":\"True\",\"hovertemplate\":\"<b>%{hovertext}</b><br><br>Groupe de pays=Asie<br>Code ISO2=%{x}<br>Valeur=%{y}<extra></extra>\",\"hovertext\":[\"Chine\",\"Inde\",\"Indon\\u00e9sie\",\"Pakistan\",\"Bangladesh\",\"Japon\",\"Philippines\",\"Viet Nam\",\"Iran (R\\u00e9publique islamique d')\",\"Turquie\",\"Tha\\u00eflande\",\"Myanmar\",\"R\\u00e9publique de Cor\\u00e9e\",\"Iraq\",\"Afghanistan\",\"Malaisie\",\"Ouzb\\u00e9kistan\",\"Arabie saoudite\",\"N\\u00e9pal\",\"R\\u00e9publique populaire d\\u00e9mocratique de Cor\\u00e9e\",\"Y\\u00e9men\",\"Sri Lanka\",\"Kazakhstan\",\"Cambodge\",\"Azerba\\u00efdjan\",\"\\u00c9mirats arabes unis\",\"Tadjikistan\",\"Isra\\u00ebl\",\"Jordanie\",\"R\\u00e9publique d\\u00e9mocratique populaire lao\",\"Kirghizistan\",\"Turkm\\u00e9nistan\",\"Liban\",\"G\\u00e9orgie\",\"Oman\",\"Kowe\\u00eft\",\"Arm\\u00e9nie\",\"Mongolie\",\"Chypre\",\"Timor-Leste\",\"Brun\\u00e9i Darussalam\",\"Maldives\"],\"legendgroup\":\"Asie\",\"marker\":{\"color\":\"red\",\"pattern\":{\"shape\":\"\"}},\"name\":\"Asie\",\"offsetgroup\":\"Asie\",\"orientation\":\"v\",\"showlegend\":true,\"textposition\":\"auto\",\"x\":[\"F351\",\"IN\",\"ID\",\"PK\",\"BD\",\"JP\",\"PH\",\"VN\",\"IR\",\"TR\",\"TH\",\"MM\",\"KR\",\"IQ\",\"AF\",\"MY\",\"UZ\",\"SA\",\"NP\",\"KP\",\"YE\",\"LK\",\"KZ\",\"KH\",\"AZ\",\"AE\",\"TJ\",\"IL\",\"JO\",\"LA\",\"KG\",\"TM\",\"LB\",\"GE\",\"OM\",\"KW\",\"AM\",\"MN\",\"CY\",\"TL\",\"BN\",\"MV\"],\"xaxis\":\"x\",\"y\":[1416667,1252140,249866,182143,156595,127144,98394,91680,77447,74933,67011,53259,49263,33765,30552,29717,28934,28829,27797,24895,24407,21273,16441,15135,9413,9346,8208,7733,7274,6770,5548,5240,4822,4341,3632,3369,2977,2839,1141,1133,418,345],\"yaxis\":\"y\",\"type\":\"bar\"},{\"alignmentgroup\":\"True\",\"hovertemplate\":\"<b>%{hovertext}</b><br><br>Groupe de pays=Am\\u00e9riques<br>Code ISO2=%{x}<br>Valeur=%{y}<extra></extra>\",\"hovertext\":[\"\\u00c9tats-Unis d'Am\\u00e9rique\",\"Br\\u00e9sil\",\"Mexique\",\"Colombie\",\"Argentine\",\"Canada\",\"Venezuela (R\\u00e9publique bolivarienne du)\",\"P\\u00e9rou\",\"Chili\",\"\\u00c9quateur\",\"Guatemala\",\"Cuba\",\"Bolivie (\\u00c9tat plurinational de)\",\"R\\u00e9publique dominicaine\",\"Ha\\u00efti\",\"Honduras\",\"Paraguay\",\"El Salvador\",\"Nicaragua\",\"Costa Rica\",\"Panama\",\"Uruguay\",\"Jama\\u00efque\",\"Trinit\\u00e9-et-Tobago\",\"Guyana\",\"Suriname\",\"Bahamas\",\"Belize\",\"Barbade\",\"Sainte-Lucie\",\"Saint-Vincent-et-les Grenadines\",\"Grenade\",\"Antigua-et-Barbuda\",\"Dominique\",\"Bermudes\",\"Saint-Kitts-et-Nevis\"],\"legendgroup\":\"Am\\u00e9riques\",\"marker\":{\"color\":\"yellow\",\"pattern\":{\"shape\":\"\"}},\"name\":\"Am\\u00e9riques\",\"offsetgroup\":\"Am\\u00e9riques\",\"orientation\":\"v\",\"showlegend\":true,\"textposition\":\"auto\",\"x\":[\"US\",\"BR\",\"MX\",\"CO\",\"AR\",\"CA\",\"VE\",\"PE\",\"CL\",\"EC\",\"GT\",\"CU\",\"BO\",\"DO\",\"HT\",\"HN\",\"PY\",\"SV\",\"NI\",\"CR\",\"PA\",\"UY\",\"JM\",\"TT\",\"GY\",\"SR\",\"BS\",\"BZ\",\"BB\",\"LC\",\"VC\",\"GD\",\"AG\",\"DM\",\"BM\",\"KN\"],\"xaxis\":\"x\",\"y\":[320051,200362,122332,48321,41446,35182,30405,30376,17620,15738,15468,11266,10671,10404,10317,8096,6802,6340,6080,4872,3864,3407,2784,1341,800,539,377,332,285,182,109,106,90,72,65,54],\"yaxis\":\"y\",\"type\":\"bar\"},{\"alignmentgroup\":\"True\",\"hovertemplate\":\"<b>%{hovertext}</b><br><br>Groupe de pays=Afrique<br>Code ISO2=%{x}<br>Valeur=%{y}<extra></extra>\",\"hovertext\":[\"Nig\\u00e9ria\",\"\\u00c9thiopie\",\"\\u00c9gypte\",\"Afrique du Sud\",\"R\\u00e9publique-Unie de Tanzanie\",\"Kenya\",\"Alg\\u00e9rie\",\"Soudan\",\"Ouganda\",\"Maroc\",\"Ghana\",\"Mozambique\",\"Madagascar\",\"Cameroun\",\"Angola\",\"C\\u00f4te d'Ivoire\",\"Niger\",\"Burkina Faso\",\"Malawi\",\"Mali\",\"Zambie\",\"Zimbabwe\",\"S\\u00e9n\\u00e9gal\",\"Tchad\",\"Rwanda\",\"Guin\\u00e9e\",\"Tunisie\",\"B\\u00e9nin\",\"Togo\",\"Sierra Leone\",\"R\\u00e9publique centrafricaine\",\"Congo\",\"Lib\\u00e9ria\",\"Mauritanie\",\"Namibie\",\"Lesotho\",\"Botswana\",\"Gambie\",\"Guin\\u00e9e-Bissau\",\"Gabon\",\"Eswatini\",\"Maurice\",\"Djibouti\",\"Cabo Verde\",\"Sao Tom\\u00e9-et-Principe\"],\"legendgroup\":\"Afrique\",\"marker\":{\"color\":\"green\",\"pattern\":{\"shape\":\"\"}},\"name\":\"Afrique\",\"offsetgroup\":\"Afrique\",\"orientation\":\"v\",\"showlegend\":true,\"textposition\":\"auto\",\"x\":[\"NG\",\"ET\",\"EG\",\"ZA\",\"TZ\",\"KE\",\"DZ\",\"SD\",\"UG\",\"MA\",\"GH\",\"MZ\",\"MG\",\"CM\",\"AO\",\"CI\",\"NE\",\"BF\",\"MW\",\"ML\",\"ZM\",\"ZW\",\"SN\",\"TD\",\"RW\",\"GN\",\"TN\",\"BJ\",\"TG\",\"SL\",\"CF\",\"CG\",\"LR\",\"MR\",null,\"LS\",\"BW\",\"GM\",\"GW\",\"GA\",\"SZ\",\"MU\",\"DJ\",\"CV\",\"ST\"],\"xaxis\":\"x\",\"y\":[173615,94101,82056,52776,49253,44354,39208,37964,37579,33008,25905,25834,22925,22254,21472,20316,17831,16935,16363,15302,14539,14150,14133,12825,11777,11745,10997,10323,6817,6092,4616,4448,4294,3890,2303,2074,2021,1849,1704,1672,1250,1244,873,499,193],\"yaxis\":\"y\",\"type\":\"bar\"},{\"alignmentgroup\":\"True\",\"hovertemplate\":\"<b>%{hovertext}</b><br><br>Groupe de pays=Europe<br>Code ISO2=%{x}<br>Valeur=%{y}<extra></extra>\",\"hovertext\":[\"F\\u00e9d\\u00e9ration de Russie\",\"Allemagne\",\"France\",\"Royaume-Uni de Grande-Bretagne et d'Irlande du Nord\",\"Italie\",\"Espagne\",\"Ukraine\",\"Pologne\",\"Roumanie\",\"Pays-Bas\",\"Gr\\u00e8ce\",\"Belgique\",\"Tch\\u00e9quie\",\"Portugal\",\"Hongrie\",\"Su\\u00e8de\",\"Serbie\",\"B\\u00e9larus\",\"Autriche\",\"Suisse\",\"Bulgarie\",\"Danemark\",\"Slovaquie\",\"Finlande\",\"Norv\\u00e8ge\",\"Irlande\",\"Croatie\",\"Bosnie-Herz\\u00e9govine\",\"R\\u00e9publique de Moldova\",\"Albanie\",\"Lituanie\",\"Mac\\u00e9doine du Nord\",\"Slov\\u00e9nie\",\"Lettonie\",\"Estonie\",\"Mont\\u00e9n\\u00e9gro\",\"Luxembourg\",\"Malte\",\"Islande\"],\"legendgroup\":\"Europe\",\"marker\":{\"color\":\"blue\",\"pattern\":{\"shape\":\"\"}},\"name\":\"Europe\",\"offsetgroup\":\"Europe\",\"orientation\":\"v\",\"showlegend\":true,\"textposition\":\"auto\",\"x\":[\"RU\",\"DE\",\"FR\",\"GB\",\"IT\",\"ES\",\"UA\",\"PL\",\"RO\",\"NL\",\"GR\",\"BE\",\"CZ\",\"PT\",\"HU\",\"SE\",\"RS\",\"BY\",\"AT\",\"CH\",\"BG\",\"DK\",\"SK\",\"FI\",\"NO\",\"IE\",\"HR\",\"BA\",\"MD\",\"AL\",\"LT\",\"MK\",\"SI\",\"LV\",\"EE\",\"ME\",\"LU\",\"MT\",\"IS\"],\"xaxis\":\"x\",\"y\":[142834,82727,64291,63384,60990,46927,45239,38217,21699,16759,11128,11104,10702,10608,9955,9571,9511,9357,8495,8078,7223,5619,5450,5426,5043,4627,4290,3829,3487,3173,3017,2107,2072,2050,1287,621,530,429,330],\"yaxis\":\"y\",\"type\":\"bar\"},{\"alignmentgroup\":\"True\",\"hovertemplate\":\"<b>%{hovertext}</b><br><br>Groupe de pays=Oc\\u00e9anie<br>Code ISO2=%{x}<br>Valeur=%{y}<extra></extra>\",\"hovertext\":[\"Australie\",\"Nouvelle-Z\\u00e9lande\",\"Fidji\",\"\\u00celes Salomon\",\"Polyn\\u00e9sie fran\\u00e7aise\",\"Nouvelle-Cal\\u00e9donie\",\"Vanuatu\",\"Samoa\",\"Kiribati\"],\"legendgroup\":\"Oc\\u00e9anie\",\"marker\":{\"color\":\"purple\",\"pattern\":{\"shape\":\"\"}},\"name\":\"Oc\\u00e9anie\",\"offsetgroup\":\"Oc\\u00e9anie\",\"orientation\":\"v\",\"showlegend\":true,\"textposition\":\"auto\",\"x\":[\"AU\",\"NZ\",\"FJ\",\"SB\",\"PF\",\"NC\",\"VU\",\"WS\",\"KI\"],\"xaxis\":\"x\",\"y\":[23343,4506,881,561,277,256,253,190,102],\"yaxis\":\"y\",\"type\":\"bar\"},{\"line\":{\"color\":\"#0000ff\"},\"mode\":\"lines+markers\",\"name\":\"Pourcentage cumul\\u00e9\",\"x\":[\"F351\",\"IN\",\"US\",\"ID\",\"BR\",\"PK\",\"NG\",\"BD\",\"RU\",\"JP\",\"MX\",\"PH\",\"ET\",\"VN\",\"DE\",\"EG\",\"IR\",\"TR\",\"TH\",\"FR\",\"GB\",\"IT\",\"MM\",\"ZA\",\"KR\",\"TZ\",\"CO\",\"ES\",\"UA\",\"KE\",\"AR\",\"DZ\",\"PL\",\"SD\",\"UG\",\"CA\",\"IQ\",\"MA\",\"AF\",\"VE\",\"PE\",\"MY\",\"UZ\",\"SA\",\"NP\",\"GH\",\"MZ\",\"KP\",\"YE\",\"AU\",\"MG\",\"CM\",\"RO\",\"AO\",\"LK\",\"CI\",\"NE\",\"CL\",\"BF\",\"NL\",\"KZ\",\"MW\",\"EC\",\"GT\",\"ML\",\"KH\",\"ZM\",\"ZW\",\"SN\",\"TD\",\"RW\",\"GN\",\"CU\",\"GR\",\"BE\",\"TN\",\"CZ\",\"BO\",\"PT\",\"DO\",\"BJ\",\"HT\",\"HU\",\"SE\",\"RS\",\"AZ\",\"BY\",\"AE\",\"AT\",\"TJ\",\"HN\",\"CH\",\"IL\",\"JO\",\"BG\",\"TG\",\"PY\",\"LA\",\"SV\",\"SL\",\"NI\",\"DK\",\"KG\",\"SK\",\"FI\",\"TM\",\"NO\",\"CR\",\"LB\",\"IE\",\"CF\",\"NZ\",\"CG\",\"GE\",\"LR\",\"HR\",\"MR\",\"PA\",\"BA\",\"OM\",\"MD\",\"UY\",\"KW\",\"AL\",\"LT\",\"AM\",\"MN\",\"JM\",null,\"MK\",\"LS\",\"SI\",\"LV\",\"BW\",\"GM\",\"GW\",\"GA\",\"TT\",\"EE\",\"SZ\",\"MU\",\"CY\",\"TL\",\"FJ\",\"DJ\",\"GY\",\"ME\",\"SB\",\"SR\",\"LU\",\"CV\",\"MT\",\"BN\",\"BS\",\"MV\",\"BZ\",\"IS\",\"BB\",\"PF\",\"NC\",\"VU\",\"ST\",\"WS\",\"LC\",\"VC\",\"GD\",\"KI\",\"AG\",\"DM\",\"BM\",\"KN\"],\"y\":[20.245833908553067,38.14038391236881,42.71428828669695,46.28516664794523,49.14857475555662,51.751611972916514,54.23277406254903,56.47070037897334,58.51196585667154,60.32900282193512,62.07727066024936,63.483436386985545,64.82825010582614,66.13846489358936,67.32073080488175,68.49340733874625,69.60021585388476,70.67109635880907,71.62876218715549,72.54755602354385,73.45338776555501,74.32500643817367,75.08614004835562,75.8403710217303,76.54439710255032,77.2482802716352,77.93884406700502,78.60948596649635,79.25600436509603,79.88987507513585,80.48218705259696,81.04251538373373,81.58868116191813,82.13123127320351,82.66827928268599,83.17107134925541,83.65361282295551,84.1253358783055,84.56195981150513,84.9964829421982,85.43059162885936,85.8552824321748,86.26878324662879,86.68078348786379,87.07803523803236,87.44824808791245,87.81744626447303,88.17322502910397,88.52202970106009,88.85562856439732,89.18325371720569,89.50128949258617,89.81139366666638,90.11825374435891,90.42226987852217,90.71260935963252,90.9674352745606,91.21924575187721,91.46126677533675,91.70077255225782,91.93573373600144,92.16958020821096,92.39449469697425,92.61555056888875,92.83423410599993,93.05053101713426,93.25831038885426,93.4605304940773,93.66250764935063,93.84579194966763,94.01409910014196,94.18194893306386,94.34295329387254,94.5019854727363,94.66067466343571,94.81783469856914,94.97077883751594,95.12327995008378,95.27488071872027,95.42356608795988,95.57109387214487,95.71853590928878,95.86080454162061,95.99758536332307,96.13350871461469,96.26803153090195,96.40175404147242,96.53531934913423,96.65672286813563,96.77402482033851,96.88972616110783,97.0051702607539,97.11568390553764,97.21963790167844,97.32286304797005,97.42028597781496,97.51749454005716,97.61424578474691,97.70485182482565,97.79191365387292,97.87880398883802,97.95910609281317,98.03839352346883,98.1162804191201,98.19382432660704,98.2687100758204,98.34078046385147,98.41040706121167,98.47931909989616,98.54544435974542,98.61141241668604,98.6758084445401,98.73937558433036,98.80141356855462,98.86277986762371,98.92408900199877,98.9796816669682,99.0349027614263,99.08962366481138,99.14152920701422,99.19136252905753,99.24005255721971,99.28819952078837,99.33354541434828,99.37666188484,99.41920670839117,99.45977934999742,99.49956597706039,99.53247854966311,99.56259005225711,99.59222994612513,99.62184125764614,99.65113816334983,99.68002062502161,99.706445004849,99.73079716451684,99.75469200663225,99.77385647031451,99.79224921062703,99.81011317751953,99.82789139737093,99.84419762635041,99.86038952594177,99.8729800498076,99.88545624428532,99.89688918309652,99.90576400184871,99.91378135019006,99.9214842927141,99.92905861467652,99.93618991026001,99.94232082369751,99.94829453422636,99.95368230664114,99.95861276150346,99.96335743111011,99.96807351836974,99.97214650282122,99.9761051578846,99.97976369830418,99.98337936520322,99.98613756169142,99.98885288465908,99.99145387823863,99.99301161615166,99.99452648054414,99.99598418024257,99.99727038585883,99.99829935035183,99.99922827663025,100.0],\"type\":\"scatter\"}],                        {\"template\":{\"data\":{\"bar\":[{\"error_x\":{\"color\":\"#2a3f5f\"},\"error_y\":{\"color\":\"#2a3f5f\"},\"marker\":{\"line\":{\"color\":\"#E5ECF6\",\"width\":0.5},\"pattern\":{\"fillmode\":\"overlay\",\"size\":10,\"solidity\":0.2}},\"type\":\"bar\"}],\"barpolar\":[{\"marker\":{\"line\":{\"color\":\"#E5ECF6\",\"width\":0.5},\"pattern\":{\"fillmode\":\"overlay\",\"size\":10,\"solidity\":0.2}},\"type\":\"barpolar\"}],\"carpet\":[{\"aaxis\":{\"endlinecolor\":\"#2a3f5f\",\"gridcolor\":\"white\",\"linecolor\":\"white\",\"minorgridcolor\":\"white\",\"startlinecolor\":\"#2a3f5f\"},\"baxis\":{\"endlinecolor\":\"#2a3f5f\",\"gridcolor\":\"white\",\"linecolor\":\"white\",\"minorgridcolor\":\"white\",\"startlinecolor\":\"#2a3f5f\"},\"type\":\"carpet\"}],\"choropleth\":[{\"colorbar\":{\"outlinewidth\":0,\"ticks\":\"\"},\"type\":\"choropleth\"}],\"contour\":[{\"colorbar\":{\"outlinewidth\":0,\"ticks\":\"\"},\"colorscale\":[[0.0,\"#0d0887\"],[0.1111111111111111,\"#46039f\"],[0.2222222222222222,\"#7201a8\"],[0.3333333333333333,\"#9c179e\"],[0.4444444444444444,\"#bd3786\"],[0.5555555555555556,\"#d8576b\"],[0.6666666666666666,\"#ed7953\"],[0.7777777777777778,\"#fb9f3a\"],[0.8888888888888888,\"#fdca26\"],[1.0,\"#f0f921\"]],\"type\":\"contour\"}],\"contourcarpet\":[{\"colorbar\":{\"outlinewidth\":0,\"ticks\":\"\"},\"type\":\"contourcarpet\"}],\"heatmap\":[{\"colorbar\":{\"outlinewidth\":0,\"ticks\":\"\"},\"colorscale\":[[0.0,\"#0d0887\"],[0.1111111111111111,\"#46039f\"],[0.2222222222222222,\"#7201a8\"],[0.3333333333333333,\"#9c179e\"],[0.4444444444444444,\"#bd3786\"],[0.5555555555555556,\"#d8576b\"],[0.6666666666666666,\"#ed7953\"],[0.7777777777777778,\"#fb9f3a\"],[0.8888888888888888,\"#fdca26\"],[1.0,\"#f0f921\"]],\"type\":\"heatmap\"}],\"heatmapgl\":[{\"colorbar\":{\"outlinewidth\":0,\"ticks\":\"\"},\"colorscale\":[[0.0,\"#0d0887\"],[0.1111111111111111,\"#46039f\"],[0.2222222222222222,\"#7201a8\"],[0.3333333333333333,\"#9c179e\"],[0.4444444444444444,\"#bd3786\"],[0.5555555555555556,\"#d8576b\"],[0.6666666666666666,\"#ed7953\"],[0.7777777777777778,\"#fb9f3a\"],[0.8888888888888888,\"#fdca26\"],[1.0,\"#f0f921\"]],\"type\":\"heatmapgl\"}],\"histogram\":[{\"marker\":{\"pattern\":{\"fillmode\":\"overlay\",\"size\":10,\"solidity\":0.2}},\"type\":\"histogram\"}],\"histogram2d\":[{\"colorbar\":{\"outlinewidth\":0,\"ticks\":\"\"},\"colorscale\":[[0.0,\"#0d0887\"],[0.1111111111111111,\"#46039f\"],[0.2222222222222222,\"#7201a8\"],[0.3333333333333333,\"#9c179e\"],[0.4444444444444444,\"#bd3786\"],[0.5555555555555556,\"#d8576b\"],[0.6666666666666666,\"#ed7953\"],[0.7777777777777778,\"#fb9f3a\"],[0.8888888888888888,\"#fdca26\"],[1.0,\"#f0f921\"]],\"type\":\"histogram2d\"}],\"histogram2dcontour\":[{\"colorbar\":{\"outlinewidth\":0,\"ticks\":\"\"},\"colorscale\":[[0.0,\"#0d0887\"],[0.1111111111111111,\"#46039f\"],[0.2222222222222222,\"#7201a8\"],[0.3333333333333333,\"#9c179e\"],[0.4444444444444444,\"#bd3786\"],[0.5555555555555556,\"#d8576b\"],[0.6666666666666666,\"#ed7953\"],[0.7777777777777778,\"#fb9f3a\"],[0.8888888888888888,\"#fdca26\"],[1.0,\"#f0f921\"]],\"type\":\"histogram2dcontour\"}],\"mesh3d\":[{\"colorbar\":{\"outlinewidth\":0,\"ticks\":\"\"},\"type\":\"mesh3d\"}],\"parcoords\":[{\"line\":{\"colorbar\":{\"outlinewidth\":0,\"ticks\":\"\"}},\"type\":\"parcoords\"}],\"pie\":[{\"automargin\":true,\"type\":\"pie\"}],\"scatter\":[{\"marker\":{\"colorbar\":{\"outlinewidth\":0,\"ticks\":\"\"}},\"type\":\"scatter\"}],\"scatter3d\":[{\"line\":{\"colorbar\":{\"outlinewidth\":0,\"ticks\":\"\"}},\"marker\":{\"colorbar\":{\"outlinewidth\":0,\"ticks\":\"\"}},\"type\":\"scatter3d\"}],\"scattercarpet\":[{\"marker\":{\"colorbar\":{\"outlinewidth\":0,\"ticks\":\"\"}},\"type\":\"scattercarpet\"}],\"scattergeo\":[{\"marker\":{\"colorbar\":{\"outlinewidth\":0,\"ticks\":\"\"}},\"type\":\"scattergeo\"}],\"scattergl\":[{\"marker\":{\"colorbar\":{\"outlinewidth\":0,\"ticks\":\"\"}},\"type\":\"scattergl\"}],\"scattermapbox\":[{\"marker\":{\"colorbar\":{\"outlinewidth\":0,\"ticks\":\"\"}},\"type\":\"scattermapbox\"}],\"scatterpolar\":[{\"marker\":{\"colorbar\":{\"outlinewidth\":0,\"ticks\":\"\"}},\"type\":\"scatterpolar\"}],\"scatterpolargl\":[{\"marker\":{\"colorbar\":{\"outlinewidth\":0,\"ticks\":\"\"}},\"type\":\"scatterpolargl\"}],\"scatterternary\":[{\"marker\":{\"colorbar\":{\"outlinewidth\":0,\"ticks\":\"\"}},\"type\":\"scatterternary\"}],\"surface\":[{\"colorbar\":{\"outlinewidth\":0,\"ticks\":\"\"},\"colorscale\":[[0.0,\"#0d0887\"],[0.1111111111111111,\"#46039f\"],[0.2222222222222222,\"#7201a8\"],[0.3333333333333333,\"#9c179e\"],[0.4444444444444444,\"#bd3786\"],[0.5555555555555556,\"#d8576b\"],[0.6666666666666666,\"#ed7953\"],[0.7777777777777778,\"#fb9f3a\"],[0.8888888888888888,\"#fdca26\"],[1.0,\"#f0f921\"]],\"type\":\"surface\"}],\"table\":[{\"cells\":{\"fill\":{\"color\":\"#EBF0F8\"},\"line\":{\"color\":\"white\"}},\"header\":{\"fill\":{\"color\":\"#C8D4E3\"},\"line\":{\"color\":\"white\"}},\"type\":\"table\"}]},\"layout\":{\"annotationdefaults\":{\"arrowcolor\":\"#2a3f5f\",\"arrowhead\":0,\"arrowwidth\":1},\"autotypenumbers\":\"strict\",\"coloraxis\":{\"colorbar\":{\"outlinewidth\":0,\"ticks\":\"\"}},\"colorscale\":{\"diverging\":[[0,\"#8e0152\"],[0.1,\"#c51b7d\"],[0.2,\"#de77ae\"],[0.3,\"#f1b6da\"],[0.4,\"#fde0ef\"],[0.5,\"#f7f7f7\"],[0.6,\"#e6f5d0\"],[0.7,\"#b8e186\"],[0.8,\"#7fbc41\"],[0.9,\"#4d9221\"],[1,\"#276419\"]],\"sequential\":[[0.0,\"#0d0887\"],[0.1111111111111111,\"#46039f\"],[0.2222222222222222,\"#7201a8\"],[0.3333333333333333,\"#9c179e\"],[0.4444444444444444,\"#bd3786\"],[0.5555555555555556,\"#d8576b\"],[0.6666666666666666,\"#ed7953\"],[0.7777777777777778,\"#fb9f3a\"],[0.8888888888888888,\"#fdca26\"],[1.0,\"#f0f921\"]],\"sequentialminus\":[[0.0,\"#0d0887\"],[0.1111111111111111,\"#46039f\"],[0.2222222222222222,\"#7201a8\"],[0.3333333333333333,\"#9c179e\"],[0.4444444444444444,\"#bd3786\"],[0.5555555555555556,\"#d8576b\"],[0.6666666666666666,\"#ed7953\"],[0.7777777777777778,\"#fb9f3a\"],[0.8888888888888888,\"#fdca26\"],[1.0,\"#f0f921\"]]},\"colorway\":[\"#636efa\",\"#EF553B\",\"#00cc96\",\"#ab63fa\",\"#FFA15A\",\"#19d3f3\",\"#FF6692\",\"#B6E880\",\"#FF97FF\",\"#FECB52\"],\"font\":{\"color\":\"#2a3f5f\"},\"geo\":{\"bgcolor\":\"white\",\"lakecolor\":\"white\",\"landcolor\":\"#E5ECF6\",\"showlakes\":true,\"showland\":true,\"subunitcolor\":\"white\"},\"hoverlabel\":{\"align\":\"left\"},\"hovermode\":\"closest\",\"mapbox\":{\"style\":\"light\"},\"paper_bgcolor\":\"white\",\"plot_bgcolor\":\"#E5ECF6\",\"polar\":{\"angularaxis\":{\"gridcolor\":\"white\",\"linecolor\":\"white\",\"ticks\":\"\"},\"bgcolor\":\"#E5ECF6\",\"radialaxis\":{\"gridcolor\":\"white\",\"linecolor\":\"white\",\"ticks\":\"\"}},\"scene\":{\"xaxis\":{\"backgroundcolor\":\"#E5ECF6\",\"gridcolor\":\"white\",\"gridwidth\":2,\"linecolor\":\"white\",\"showbackground\":true,\"ticks\":\"\",\"zerolinecolor\":\"white\"},\"yaxis\":{\"backgroundcolor\":\"#E5ECF6\",\"gridcolor\":\"white\",\"gridwidth\":2,\"linecolor\":\"white\",\"showbackground\":true,\"ticks\":\"\",\"zerolinecolor\":\"white\"},\"zaxis\":{\"backgroundcolor\":\"#E5ECF6\",\"gridcolor\":\"white\",\"gridwidth\":2,\"linecolor\":\"white\",\"showbackground\":true,\"ticks\":\"\",\"zerolinecolor\":\"white\"}},\"shapedefaults\":{\"line\":{\"color\":\"#2a3f5f\"}},\"ternary\":{\"aaxis\":{\"gridcolor\":\"white\",\"linecolor\":\"white\",\"ticks\":\"\"},\"baxis\":{\"gridcolor\":\"white\",\"linecolor\":\"white\",\"ticks\":\"\"},\"bgcolor\":\"#E5ECF6\",\"caxis\":{\"gridcolor\":\"white\",\"linecolor\":\"white\",\"ticks\":\"\"}},\"title\":{\"x\":0.05},\"xaxis\":{\"automargin\":true,\"gridcolor\":\"white\",\"linecolor\":\"white\",\"ticks\":\"\",\"title\":{\"standoff\":15},\"zerolinecolor\":\"white\",\"zerolinewidth\":2},\"yaxis\":{\"automargin\":true,\"gridcolor\":\"white\",\"linecolor\":\"white\",\"ticks\":\"\",\"title\":{\"standoff\":15},\"zerolinecolor\":\"white\",\"zerolinewidth\":2}}},\"xaxis\":{\"anchor\":\"y\",\"domain\":[0.0,1.0],\"title\":{\"text\":\"Code ISO2\"}},\"yaxis\":{\"anchor\":\"x\",\"domain\":[0.0,1.0],\"title\":{\"text\":\"Valeur\"},\"type\":\"log\",\"categoryorder\":\"total descending\"},\"legend\":{\"title\":{\"text\":\"Groupe de pays\"},\"tracegroupgap\":0},\"title\":{\"text\":\"Population (Valeur log) par Pays et Continents\"},\"barmode\":\"stack\"},                        {\"responsive\": true}                    ).then(function(){\n",
              "                            \n",
              "var gd = document.getElementById('e5e56eff-51fd-4c92-bbf5-3fe524dc496e');\n",
              "var x = new MutationObserver(function (mutations, observer) {{\n",
              "        var display = window.getComputedStyle(gd).display;\n",
              "        if (!display || display === 'none') {{\n",
              "            console.log([gd, 'removed!']);\n",
              "            Plotly.purge(gd);\n",
              "            observer.disconnect();\n",
              "        }}\n",
              "}});\n",
              "\n",
              "// Listen for the removal of the full notebook cells\n",
              "var notebookContainer = gd.closest('#notebook-container');\n",
              "if (notebookContainer) {{\n",
              "    x.observe(notebookContainer, {childList: true});\n",
              "}}\n",
              "\n",
              "// Listen for the clearing of the current output cell\n",
              "var outputEl = gd.closest('.output');\n",
              "if (outputEl) {{\n",
              "    x.observe(outputEl, {childList: true});\n",
              "}}\n",
              "\n",
              "                        })                };                            </script>        </div>\n",
              "</body>\n",
              "</html>"
            ]
          },
          "metadata": {}
        }
      ]
    }
  ]
}