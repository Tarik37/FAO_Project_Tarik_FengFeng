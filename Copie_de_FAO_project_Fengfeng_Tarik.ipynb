{
  "nbformat": 4,
  "nbformat_minor": 0,
  "metadata": {
    "colab": {
      "provenance": [],
      "mount_file_id": "https://github.com/data-IA-2022/FAO_Project_Tarik_FengFeng/blob/main/FAO_project_Fengfeng_Tarik.ipynb",
      "authorship_tag": "ABX9TyPVOlq9KppsCNlokrhhBAzX",
      "include_colab_link": true
    },
    "kernelspec": {
      "name": "python3",
      "display_name": "Python 3"
    },
    "language_info": {
      "name": "python"
    }
  },
  "cells": [
    {
      "cell_type": "markdown",
      "metadata": {
        "id": "view-in-github",
        "colab_type": "text"
      },
      "source": [
        "<a href=\"https://colab.research.google.com/github/data-IA-2022/FAO_Project_Tarik_FengFeng/blob/main/Copie_de_FAO_project_Fengfeng_Tarik.ipynb\" target=\"_parent\"><img src=\"https://colab.research.google.com/assets/colab-badge.svg\" alt=\"Open In Colab\"/></a>"
      ]
    },
    {
      "cell_type": "markdown",
      "source": [
        "<h1><center>Data Analyse au sein de la FAO (Food and Agriculture Organization</h1>"
      ],
      "metadata": {
        "id": "bXxGBL_LKxCS"
      }
    },
    {
      "cell_type": "markdown",
      "source": [
        "<h2>Contexte du projet</h2>\n",
        "\n",
        "Au sein du service Data Analytics and Prospective de la FAO, vous êtes en charge d'analyser les données produites par les Nations Unies.\n",
        "\n",
        "Ces analyses conduisent à des rapports de synthèse à destination des décideurs.\n",
        "\n",
        "Pour êtes également en charge de la partie Prospective, c'est à dire donner des tendances et des évolutions probables quant à la production agricole, à l'alimentation et la nutrition mondiales."
      ],
      "metadata": {
        "id": "9PcdQCjlNHwc"
      }
    },
    {
      "cell_type": "code",
      "execution_count": 10,
      "metadata": {
        "id": "IXUCNgylP5AZ",
        "colab": {
          "base_uri": "https://localhost:8080/"
        },
        "outputId": "f8ce69cf-b9f2-4d9d-93b2-03116bfb8fd0"
      },
      "outputs": [
        {
          "output_type": "stream",
          "name": "stdout",
          "text": [
            "Cloning into 'FAO_Project_Tarik_FengFeng'...\n",
            "remote: Enumerating objects: 35, done.\u001b[K\n",
            "remote: Counting objects: 100% (35/35), done.\u001b[K\n",
            "remote: Compressing objects: 100% (35/35), done.\u001b[K\n",
            "remote: Total 35 (delta 16), reused 0 (delta 0), pack-reused 0\u001b[K\n",
            "Unpacking objects: 100% (35/35), done.\n"
          ]
        }
      ],
      "source": [
        "# Copie des fichiers csv du repertoire github et suppréssions des ancien en cas de mise à jour\n",
        "\n",
        "!rm -r /content/FAO_Project_Tarik_FengFeng\n",
        "!git clone https://github.com/data-IA-2022/FAO_Project_Tarik_FengFeng.git"
      ]
    },
    {
      "cell_type": "code",
      "source": [
        "#importation des librairies python\n",
        "import os\n",
        "import pandas as pd\n",
        "import glob"
      ],
      "metadata": {
        "id": "pZSiveZmKUIJ"
      },
      "execution_count": 11,
      "outputs": []
    },
    {
      "cell_type": "code",
      "source": [
        "# Création des dataframes\n",
        "csv_path = '/content/FAO_Project_Tarik_FengFeng/fao_2013'\n",
        "def find_csv_filenames(path_to_dir=os.getcwd(), extension=\"csv\"):\n",
        "    filenames = []\n",
        "    for name in glob.glob(f'{path_to_dir}/*.{extension}'):\n",
        "      filenames.append(name)\n",
        "    return filenames\n",
        "all_csv_files= find_csv_filenames(path_to_dir=csv_path)\n",
        "print(all_csv_files)"
      ],
      "metadata": {
        "colab": {
          "base_uri": "https://localhost:8080/"
        },
        "id": "a1aCfsEfQD0t",
        "outputId": "3f9a46bf-25ea-4aed-e6eb-e675dc070149"
      },
      "execution_count": 12,
      "outputs": [
        {
          "output_type": "stream",
          "name": "stdout",
          "text": [
            "['/content/FAO_Project_Tarik_FengFeng/fao_2013/FAOSTAT_2013_cereal.csv', '/content/FAO_Project_Tarik_FengFeng/fao_2013/FAOSTAT_pays_continents.csv', '/content/FAO_Project_Tarik_FengFeng/fao_2013/FAOSTAT_2013_population.csv', '/content/FAO_Project_Tarik_FengFeng/fao_2013/FAOSTAT_2013_vegetal.csv', '/content/FAO_Project_Tarik_FengFeng/fao_2013/FAOSTAT_2013_animal.csv', '/content/FAO_Project_Tarik_FengFeng/fao_2013/FAOSTAT_2013_sous_alimentation.csv']\n"
          ]
        }
      ]
    },
    {
      "cell_type": "markdown",
      "source": [
        "# Nouvelle section"
      ],
      "metadata": {
        "id": "PFGgi3gqOTzh"
      }
    }
  ]
}