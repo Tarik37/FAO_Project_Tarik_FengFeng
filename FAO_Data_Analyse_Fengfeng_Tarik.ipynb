{
  "nbformat": 4,
  "nbformat_minor": 0,
  "metadata": {
    "colab": {
      "provenance": [],
      "authorship_tag": "ABX9TyNcSRhWXxDOILZ1SoDVDN3R",
      "include_colab_link": true
    },
    "kernelspec": {
      "name": "python3",
      "display_name": "Python 3"
    },
    "language_info": {
      "name": "python"
    },
    "gpuClass": "standard"
  },
  "cells": [
    {
      "cell_type": "markdown",
      "metadata": {
        "id": "view-in-github",
        "colab_type": "text"
      },
      "source": [
        "<a href=\"https://colab.research.google.com/github/data-IA-2022/FAO_Project_Tarik_FengFeng/blob/main/FAO_Data_Analyse_Fengfeng_Tarik.ipynb\" target=\"_parent\"><img src=\"https://colab.research.google.com/assets/colab-badge.svg\" alt=\"Open In Colab\"/></a>"
      ]
    },
    {
      "cell_type": "markdown",
      "source": [
        "<h1><center>Data Analyse au sein de la FAO (Food and Agriculture Organization)</h1>"
      ],
      "metadata": {
        "id": "wJxAdDzK3zQ1"
      }
    },
    {
      "cell_type": "markdown",
      "source": [
        "<h2>Contexte du projet</h2>\n",
        "\n",
        "Au sein du service Data Analytics and Prospective de la FAO, vous êtes en charge d'analyser les données produites par les Nations Unies.\n",
        "\n",
        "Ces analyses conduisent à des rapports de synthèse à destination des décideurs.\n",
        "\n",
        "Pour êtes également en charge de la partie Prospective, c'est à dire donner des tendances et des évolutions probables quant à la production agricole, à l'alimentation et la nutrition mondiales."
      ],
      "metadata": {
        "id": "TnY4NPcY32kb"
      }
    },
    {
      "cell_type": "code",
      "execution_count": 164,
      "metadata": {
        "colab": {
          "base_uri": "https://localhost:8080/"
        },
        "id": "WCop6iJW3wi1",
        "outputId": "346df32b-4ffb-4440-b525-eeada6bf44c8"
      },
      "outputs": [
        {
          "output_type": "stream",
          "name": "stdout",
          "text": [
            "Cloning into 'FAO_Project_Tarik_FengFeng'...\n",
            "remote: Enumerating objects: 294, done.\u001b[K\n",
            "remote: Counting objects: 100% (199/199), done.\u001b[K\n",
            "remote: Compressing objects: 100% (127/127), done.\u001b[K\n",
            "remote: Total 294 (delta 118), reused 123 (delta 71), pack-reused 95\u001b[K\n",
            "Receiving objects: 100% (294/294), 9.13 MiB | 13.18 MiB/s, done.\n",
            "Resolving deltas: 100% (172/172), done.\n"
          ]
        }
      ],
      "source": [
        "# Copie des fichiers csv du repertoire github et suppréssions des ancien en cas de mise à jour\n",
        "\n",
        "!rm -r /content/FAO_Project_Tarik_FengFeng\n",
        "!git clone https://github.com/data-IA-2022/FAO_Project_Tarik_FengFeng.git"
      ]
    },
    {
      "cell_type": "code",
      "source": [
        "#importation des librairies python\n",
        "import os\n",
        "import pandas as pd\n",
        "import glob\n",
        "import itertools \n",
        "import numpy as np"
      ],
      "metadata": {
        "id": "44-5kCAq5LEf"
      },
      "execution_count": 165,
      "outputs": []
    },
    {
      "cell_type": "code",
      "source": [
        "# Récupération des chemin vers les fichiers csv\n",
        "csv_path = '/content/FAO_Project_Tarik_FengFeng/fao_2013'\n",
        "def find_csv_filenames(path_to_dir=os.getcwd(), extension=\"csv\"):\n",
        "    filenames = []\n",
        "    for name in glob.glob(f'{path_to_dir}/*.{extension}'):\n",
        "      filenames.append(name)\n",
        "    return filenames\n",
        "all_csv_files= find_csv_filenames(path_to_dir=csv_path)\n",
        "print(all_csv_files)"
      ],
      "metadata": {
        "colab": {
          "base_uri": "https://localhost:8080/"
        },
        "id": "JhQKfonE5PYH",
        "outputId": "05013643-69c1-4e79-e2dc-f6b5d9ae6fdf"
      },
      "execution_count": 166,
      "outputs": [
        {
          "output_type": "stream",
          "name": "stdout",
          "text": [
            "['/content/FAO_Project_Tarik_FengFeng/fao_2013/FAOSTAT_2013_population.csv', '/content/FAO_Project_Tarik_FengFeng/fao_2013/FAOSTAT_pays-continents.csv', '/content/FAO_Project_Tarik_FengFeng/fao_2013/FAOSTAT_area.csv', '/content/FAO_Project_Tarik_FengFeng/fao_2013/FAOSTAT_2013_cereal.csv', '/content/FAO_Project_Tarik_FengFeng/fao_2013/FAOSTAT_2013_animal.csv', '/content/FAO_Project_Tarik_FengFeng/fao_2013/FAOSTAT_2013_sous_alimentation.csv', '/content/FAO_Project_Tarik_FengFeng/fao_2013/FAOSTAT_2013_vegetal.csv']\n"
          ]
        }
      ]
    },
    {
      "cell_type": "code",
      "source": [
        "# Création d'un dictionaire avec nom des fichiers csv comme Key et dataframe comme value\n",
        "\n",
        "col_names= ['Code Domaine', 'Domaine', 'Code Pays', 'Pays', 'Code Élément',\n",
        "       'Élément', 'Code Produit', 'Produit', 'Code année', 'Année', 'Unité',\n",
        "       'Valeur', 'Symbole', 'Description du Symbole']\n",
        "df_dict = {}\n",
        "for f in all_csv_files:\n",
        "  df_name= f.split(\"/\")[-1].replace(\".csv\", \"\").split(\"_\")[-1]\n",
        "  if \"FAOSTAT_2013\" in f:\n",
        "    df_dict[f'{df_name}'] = pd.read_csv(f, encoding='utf-8', quotechar='\"', delimiter=',', names= col_names, header=0)\n",
        "  else:\n",
        "    df_dict[f'{df_name}'] = pd.read_csv(f, encoding='utf-8', quotechar='\"', delimiter=',')\n",
        "\n",
        "print(df_dict.keys())"
      ],
      "metadata": {
        "colab": {
          "base_uri": "https://localhost:8080/"
        },
        "id": "VUF4bN195TVn",
        "outputId": "b1c0caf9-1b9c-4884-c29b-0c15ce877b7e"
      },
      "execution_count": 167,
      "outputs": [
        {
          "output_type": "stream",
          "name": "stdout",
          "text": [
            "dict_keys(['population', 'pays-continents', 'area', 'cereal', 'animal', 'alimentation', 'vegetal'])\n"
          ]
        }
      ]
    },
    {
      "cell_type": "code",
      "source": [
        "# Définition des Dataframes\n",
        "\n",
        "animal= df_dict[\"animal\"]\n",
        "cereal= df_dict[\"cereal\"]\n",
        "population= df_dict[\"population\"]\n",
        "alimentation= df_dict[\"alimentation\"]\n",
        "vegetal= df_dict[\"vegetal\"]\n",
        "pays_continents= df_dict[\"pays-continents\"]\n",
        "area= df_dict[\"area\"]"
      ],
      "metadata": {
        "id": "OZPd1-M55XnB"
      },
      "execution_count": 168,
      "outputs": []
    },
    {
      "cell_type": "code",
      "source": [
        "# Définir les codes pays comme index des Df\n",
        "animal.index= animal[\"Code Pays\"]\n",
        "animal.index.name= \"Code_Pays_id\"\n",
        "cereal.index= cereal[\"Code Pays\"]\n",
        "cereal.index.name= \"Code_Pays_id\"\n",
        "population.index= population[\"Code Pays\"]\n",
        "population.index.name= \"Code_Pays_id\"\n",
        "# Masque pour supprimer les autres valeurs de chine\n",
        "alimentation = alimentation[~alimentation['Pays'].isin(['Chine - RAS de Hong-Kong','Chine - RAS de Macao', 'Chine, continentale', 'Chine, Taiwan Province de'])]\n",
        "\n",
        "alimentation.index= alimentation[\"Code Pays\"]\n",
        "alimentation.index.name= \"Code_Pays_id\"\n",
        "\n",
        "vegetal.index= vegetal[\"Code Pays\"]\n",
        "vegetal.index.name= \"Code_Pays_id\"\n",
        "pays_continents.index= pays_continents[\"Code Pays\"]\n",
        "pays_continents.index.name= \"Code_Pays_id\"\n",
        "\n",
        "area.index= area[\"Area\"]\n",
        "area.index.name= \"Code_Pays_id\"\n",
        "area.head(5)"
      ],
      "metadata": {
        "colab": {
          "base_uri": "https://localhost:8080/",
          "height": 386
        },
        "id": "thaBMk5G5ZEn",
        "outputId": "869e12f8-fb58-4f74-b7c1-730d6c6fb145"
      },
      "execution_count": 169,
      "outputs": [
        {
          "output_type": "execute_result",
          "data": {
            "text/plain": [
              "               Domain Code    Domain  Area Code (M49)            Area  \\\n",
              "Code_Pays_id                                                            \n",
              "Afghanistan             RL  Land Use                4     Afghanistan   \n",
              "Albania                 RL  Land Use                8         Albania   \n",
              "Algeria                 RL  Land Use               12         Algeria   \n",
              "American Samoa          RL  Land Use               16  American Samoa   \n",
              "Andorra                 RL  Land Use               20         Andorra   \n",
              "\n",
              "                Element Code Element  Item Code          Item  Year Code  \\\n",
              "Code_Pays_id                                                               \n",
              "Afghanistan             5110    Area       6600  Country area       2013   \n",
              "Albania                 5110    Area       6600  Country area       2013   \n",
              "Algeria                 5110    Area       6600  Country area       2013   \n",
              "American Samoa          5110    Area       6600  Country area       2013   \n",
              "Andorra                 5110    Area       6600  Country area       2013   \n",
              "\n",
              "                Year     Unit     Value Flag Flag Description  \n",
              "Code_Pays_id                                                   \n",
              "Afghanistan     2013  1000 ha   65286.0    A  Official figure  \n",
              "Albania         2013  1000 ha    2875.0    A  Official figure  \n",
              "Algeria         2013  1000 ha  238174.0    A  Official figure  \n",
              "American Samoa  2013  1000 ha      20.0    A  Official figure  \n",
              "Andorra         2013  1000 ha      47.0    A  Official figure  "
            ],
            "text/html": [
              "\n",
              "  <div id=\"df-87110468-420f-4830-860a-65f75536be52\">\n",
              "    <div class=\"colab-df-container\">\n",
              "      <div>\n",
              "<style scoped>\n",
              "    .dataframe tbody tr th:only-of-type {\n",
              "        vertical-align: middle;\n",
              "    }\n",
              "\n",
              "    .dataframe tbody tr th {\n",
              "        vertical-align: top;\n",
              "    }\n",
              "\n",
              "    .dataframe thead th {\n",
              "        text-align: right;\n",
              "    }\n",
              "</style>\n",
              "<table border=\"1\" class=\"dataframe\">\n",
              "  <thead>\n",
              "    <tr style=\"text-align: right;\">\n",
              "      <th></th>\n",
              "      <th>Domain Code</th>\n",
              "      <th>Domain</th>\n",
              "      <th>Area Code (M49)</th>\n",
              "      <th>Area</th>\n",
              "      <th>Element Code</th>\n",
              "      <th>Element</th>\n",
              "      <th>Item Code</th>\n",
              "      <th>Item</th>\n",
              "      <th>Year Code</th>\n",
              "      <th>Year</th>\n",
              "      <th>Unit</th>\n",
              "      <th>Value</th>\n",
              "      <th>Flag</th>\n",
              "      <th>Flag Description</th>\n",
              "    </tr>\n",
              "    <tr>\n",
              "      <th>Code_Pays_id</th>\n",
              "      <th></th>\n",
              "      <th></th>\n",
              "      <th></th>\n",
              "      <th></th>\n",
              "      <th></th>\n",
              "      <th></th>\n",
              "      <th></th>\n",
              "      <th></th>\n",
              "      <th></th>\n",
              "      <th></th>\n",
              "      <th></th>\n",
              "      <th></th>\n",
              "      <th></th>\n",
              "      <th></th>\n",
              "    </tr>\n",
              "  </thead>\n",
              "  <tbody>\n",
              "    <tr>\n",
              "      <th>Afghanistan</th>\n",
              "      <td>RL</td>\n",
              "      <td>Land Use</td>\n",
              "      <td>4</td>\n",
              "      <td>Afghanistan</td>\n",
              "      <td>5110</td>\n",
              "      <td>Area</td>\n",
              "      <td>6600</td>\n",
              "      <td>Country area</td>\n",
              "      <td>2013</td>\n",
              "      <td>2013</td>\n",
              "      <td>1000 ha</td>\n",
              "      <td>65286.0</td>\n",
              "      <td>A</td>\n",
              "      <td>Official figure</td>\n",
              "    </tr>\n",
              "    <tr>\n",
              "      <th>Albania</th>\n",
              "      <td>RL</td>\n",
              "      <td>Land Use</td>\n",
              "      <td>8</td>\n",
              "      <td>Albania</td>\n",
              "      <td>5110</td>\n",
              "      <td>Area</td>\n",
              "      <td>6600</td>\n",
              "      <td>Country area</td>\n",
              "      <td>2013</td>\n",
              "      <td>2013</td>\n",
              "      <td>1000 ha</td>\n",
              "      <td>2875.0</td>\n",
              "      <td>A</td>\n",
              "      <td>Official figure</td>\n",
              "    </tr>\n",
              "    <tr>\n",
              "      <th>Algeria</th>\n",
              "      <td>RL</td>\n",
              "      <td>Land Use</td>\n",
              "      <td>12</td>\n",
              "      <td>Algeria</td>\n",
              "      <td>5110</td>\n",
              "      <td>Area</td>\n",
              "      <td>6600</td>\n",
              "      <td>Country area</td>\n",
              "      <td>2013</td>\n",
              "      <td>2013</td>\n",
              "      <td>1000 ha</td>\n",
              "      <td>238174.0</td>\n",
              "      <td>A</td>\n",
              "      <td>Official figure</td>\n",
              "    </tr>\n",
              "    <tr>\n",
              "      <th>American Samoa</th>\n",
              "      <td>RL</td>\n",
              "      <td>Land Use</td>\n",
              "      <td>16</td>\n",
              "      <td>American Samoa</td>\n",
              "      <td>5110</td>\n",
              "      <td>Area</td>\n",
              "      <td>6600</td>\n",
              "      <td>Country area</td>\n",
              "      <td>2013</td>\n",
              "      <td>2013</td>\n",
              "      <td>1000 ha</td>\n",
              "      <td>20.0</td>\n",
              "      <td>A</td>\n",
              "      <td>Official figure</td>\n",
              "    </tr>\n",
              "    <tr>\n",
              "      <th>Andorra</th>\n",
              "      <td>RL</td>\n",
              "      <td>Land Use</td>\n",
              "      <td>20</td>\n",
              "      <td>Andorra</td>\n",
              "      <td>5110</td>\n",
              "      <td>Area</td>\n",
              "      <td>6600</td>\n",
              "      <td>Country area</td>\n",
              "      <td>2013</td>\n",
              "      <td>2013</td>\n",
              "      <td>1000 ha</td>\n",
              "      <td>47.0</td>\n",
              "      <td>A</td>\n",
              "      <td>Official figure</td>\n",
              "    </tr>\n",
              "  </tbody>\n",
              "</table>\n",
              "</div>\n",
              "      <button class=\"colab-df-convert\" onclick=\"convertToInteractive('df-87110468-420f-4830-860a-65f75536be52')\"\n",
              "              title=\"Convert this dataframe to an interactive table.\"\n",
              "              style=\"display:none;\">\n",
              "        \n",
              "  <svg xmlns=\"http://www.w3.org/2000/svg\" height=\"24px\"viewBox=\"0 0 24 24\"\n",
              "       width=\"24px\">\n",
              "    <path d=\"M0 0h24v24H0V0z\" fill=\"none\"/>\n",
              "    <path d=\"M18.56 5.44l.94 2.06.94-2.06 2.06-.94-2.06-.94-.94-2.06-.94 2.06-2.06.94zm-11 1L8.5 8.5l.94-2.06 2.06-.94-2.06-.94L8.5 2.5l-.94 2.06-2.06.94zm10 10l.94 2.06.94-2.06 2.06-.94-2.06-.94-.94-2.06-.94 2.06-2.06.94z\"/><path d=\"M17.41 7.96l-1.37-1.37c-.4-.4-.92-.59-1.43-.59-.52 0-1.04.2-1.43.59L10.3 9.45l-7.72 7.72c-.78.78-.78 2.05 0 2.83L4 21.41c.39.39.9.59 1.41.59.51 0 1.02-.2 1.41-.59l7.78-7.78 2.81-2.81c.8-.78.8-2.07 0-2.86zM5.41 20L4 18.59l7.72-7.72 1.47 1.35L5.41 20z\"/>\n",
              "  </svg>\n",
              "      </button>\n",
              "      \n",
              "  <style>\n",
              "    .colab-df-container {\n",
              "      display:flex;\n",
              "      flex-wrap:wrap;\n",
              "      gap: 12px;\n",
              "    }\n",
              "\n",
              "    .colab-df-convert {\n",
              "      background-color: #E8F0FE;\n",
              "      border: none;\n",
              "      border-radius: 50%;\n",
              "      cursor: pointer;\n",
              "      display: none;\n",
              "      fill: #1967D2;\n",
              "      height: 32px;\n",
              "      padding: 0 0 0 0;\n",
              "      width: 32px;\n",
              "    }\n",
              "\n",
              "    .colab-df-convert:hover {\n",
              "      background-color: #E2EBFA;\n",
              "      box-shadow: 0px 1px 2px rgba(60, 64, 67, 0.3), 0px 1px 3px 1px rgba(60, 64, 67, 0.15);\n",
              "      fill: #174EA6;\n",
              "    }\n",
              "\n",
              "    [theme=dark] .colab-df-convert {\n",
              "      background-color: #3B4455;\n",
              "      fill: #D2E3FC;\n",
              "    }\n",
              "\n",
              "    [theme=dark] .colab-df-convert:hover {\n",
              "      background-color: #434B5C;\n",
              "      box-shadow: 0px 1px 3px 1px rgba(0, 0, 0, 0.15);\n",
              "      filter: drop-shadow(0px 1px 2px rgba(0, 0, 0, 0.3));\n",
              "      fill: #FFFFFF;\n",
              "    }\n",
              "  </style>\n",
              "\n",
              "      <script>\n",
              "        const buttonEl =\n",
              "          document.querySelector('#df-87110468-420f-4830-860a-65f75536be52 button.colab-df-convert');\n",
              "        buttonEl.style.display =\n",
              "          google.colab.kernel.accessAllowed ? 'block' : 'none';\n",
              "\n",
              "        async function convertToInteractive(key) {\n",
              "          const element = document.querySelector('#df-87110468-420f-4830-860a-65f75536be52');\n",
              "          const dataTable =\n",
              "            await google.colab.kernel.invokeFunction('convertToInteractive',\n",
              "                                                     [key], {});\n",
              "          if (!dataTable) return;\n",
              "\n",
              "          const docLinkHtml = 'Like what you see? Visit the ' +\n",
              "            '<a target=\"_blank\" href=https://colab.research.google.com/notebooks/data_table.ipynb>data table notebook</a>'\n",
              "            + ' to learn more about interactive tables.';\n",
              "          element.innerHTML = '';\n",
              "          dataTable['output_type'] = 'display_data';\n",
              "          await google.colab.output.renderOutput(dataTable, element);\n",
              "          const docLink = document.createElement('div');\n",
              "          docLink.innerHTML = docLinkHtml;\n",
              "          element.appendChild(docLink);\n",
              "        }\n",
              "      </script>\n",
              "    </div>\n",
              "  </div>\n",
              "  "
            ]
          },
          "metadata": {},
          "execution_count": 169
        }
      ]
    },
    {
      "cell_type": "code",
      "source": [
        "# nb lignes et nb colonnes de nos df\n",
        "print(animal.shape)\n",
        "print(cereal.shape)\n",
        "print(population.shape)\n",
        "print(alimentation.shape)\n",
        "print(vegetal.shape)\n",
        "print(pays_continents.shape)"
      ],
      "metadata": {
        "colab": {
          "base_uri": "https://localhost:8080/"
        },
        "id": "wRI-oINB5r3o",
        "outputId": "d80fa477-bea8-411a-a147-fe757aaef270"
      },
      "execution_count": 170,
      "outputs": [
        {
          "output_type": "stream",
          "name": "stdout",
          "text": [
            "(37166, 14)\n",
            "(16057, 14)\n",
            "(171, 14)\n",
            "(200, 14)\n",
            "(104871, 14)\n",
            "(1941, 7)\n"
          ]
        }
      ]
    },
    {
      "cell_type": "markdown",
      "source": [
        "<h2><centered>1. Analyses descriptives des données</h2>\n",
        "\n",
        "<p>Il s’agit ici de réaliser des analyses descriptives statistiques et graphiques sur les différentes variables des jeux de données : <br>\n",
        "- Analyses univariées<br> \n",
        "- Analyses bi-variées</p>\n",
        "\n",
        "\n",
        "\n",
        "\n"
      ],
      "metadata": {
        "id": "76s3-YVP6KfJ"
      }
    },
    {
      "cell_type": "markdown",
      "source": [
        "<h2><centered>2. Etude guidée n°1</h2>"
      ],
      "metadata": {
        "id": "fZ3SrkoF7BAE"
      }
    },
    {
      "cell_type": "markdown",
      "source": [
        "<h2>Question 1 : Nombre d'humains sur la planète</h2>\n",
        "<p>Calculez le nombre total d’humains sur la planète.<br> \n",
        "Critiquez votre résultat. En cas d’anomalie, analysez et effectuer les corrections nécessaires.<br> Donnez le résultat de votre calcul pour l'année 2013.</p>\n"
      ],
      "metadata": {
        "id": "GmiOKV-a7Ihr"
      }
    },
    {
      "cell_type": "code",
      "source": [
        "# Nombre d'humain sur la planète\n",
        "#sum of value in population\n",
        "pop_total = population['Valeur'].sum()\n",
        "print(f'Il y avait {(pop_total*1000):,} habitants sur la planète en 2013'.replace(',', ' '))"
      ],
      "metadata": {
        "colab": {
          "base_uri": "https://localhost:8080/"
        },
        "id": "eBdNP92H5try",
        "outputId": "2593740e-a2a4-4e2f-91f3-062e9a80a766"
      },
      "execution_count": 171,
      "outputs": [
        {
          "output_type": "stream",
          "name": "stdout",
          "text": [
            "Il y avait 6 997 326 000 habitants sur la planète en 2013\n"
          ]
        }
      ]
    },
    {
      "cell_type": "markdown",
      "source": [
        "<h2>Question 2 : Redondances</h2>\n",
        "<p>Pour les datasets « animal », « cereal » et « vegetal », on considère ici les 11 quantités : Disponibilité  intérieure, Production, Importations, Variation, Exportations, Nourriture, Aliments, Animaux,  Semences, Pertes et Traitement. \n",
        "</p>\n",
        "<p>Identifiez les redondances, en donnant votre réponse sous forme de formule mathématique (pas  besoin de coder ici). \n",
        "C'est une équation à 3 termes de type (a_1 + a2 + [...] = b_1 + b_2 + [...] = c_1 + c_2 + [...]) ) faisant  intervenir chacune des 11 quantités données ci dessus. \n",
        "Illustrez cette équation avec l'exemple du blé en France. \n",
        "</p>"
      ],
      "metadata": {
        "id": "0MltiDJg8QIR"
      }
    },
    {
      "cell_type": "markdown",
      "source": [],
      "metadata": {
        "id": "fb8ReBknFwAW"
      }
    },
    {
      "cell_type": "code",
      "source": [
        "cereal.columns\n",
        "# subset de cereal avec just la production de blé dans production\n",
        "df_cerealprodBlé_fr = cereal.query(\"Produit in ('Blé') and Pays in ('France')\")[['Pays','Élément','Produit','Valeur','Unité']]\n",
        "df_cerealprodBlé_fr"
      ],
      "metadata": {
        "colab": {
          "base_uri": "https://localhost:8080/",
          "height": 551
        },
        "id": "KmPaymBc8mLw",
        "outputId": "b2b1ede4-e5d4-48e1-bbb8-7b606a4c7d61"
      },
      "execution_count": 172,
      "outputs": [
        {
          "output_type": "execute_result",
          "data": {
            "text/plain": [
              "                Pays                                            Élément  \\\n",
              "Code_Pays_id                                                              \n",
              "68            France                                         Production   \n",
              "68            France                            Importations - Quantité   \n",
              "68            France                                 Variation de stock   \n",
              "68            France                            Exportations - Quantité   \n",
              "68            France                           Disponibilité intérieure   \n",
              "68            France                              Aliments pour animaux   \n",
              "68            France                                           Semences   \n",
              "68            France                                             Pertes   \n",
              "68            France                                         Traitement   \n",
              "68            France                                Autres Utilisations   \n",
              "68            France                                         Nourriture   \n",
              "68            France  Disponibilité alimentaire en quantité (kg/pers...   \n",
              "68            France     Disponibilité alimentaire (Kcal/personne/jour)   \n",
              "68            France  Disponibilité de protéines en quantité (g/pers...   \n",
              "68            France  Disponibilité de matière grasse en quantité (g...   \n",
              "\n",
              "             Produit    Valeur               Unité  \n",
              "Code_Pays_id                                        \n",
              "68               Blé  38614.00  Milliers de tonnes  \n",
              "68               Blé   2055.00  Milliers de tonnes  \n",
              "68               Blé   1131.00  Milliers de tonnes  \n",
              "68               Blé  21502.00  Milliers de tonnes  \n",
              "68               Blé  20298.00  Milliers de tonnes  \n",
              "68               Blé   7822.00  Milliers de tonnes  \n",
              "68               Blé    748.00  Milliers de tonnes  \n",
              "68               Blé    358.00  Milliers de tonnes  \n",
              "68               Blé   1575.00  Milliers de tonnes  \n",
              "68               Blé   2824.00  Milliers de tonnes  \n",
              "68               Blé   6971.00  Milliers de tonnes  \n",
              "68               Blé    108.43                  kg  \n",
              "68               Blé    811.00  Kcal/personne/jour  \n",
              "68               Blé     25.99     g/personne/jour  \n",
              "68               Blé      4.20     g/personne/jour  "
            ],
            "text/html": [
              "\n",
              "  <div id=\"df-a02d8f4c-97c6-474f-9cf2-a72f56347027\">\n",
              "    <div class=\"colab-df-container\">\n",
              "      <div>\n",
              "<style scoped>\n",
              "    .dataframe tbody tr th:only-of-type {\n",
              "        vertical-align: middle;\n",
              "    }\n",
              "\n",
              "    .dataframe tbody tr th {\n",
              "        vertical-align: top;\n",
              "    }\n",
              "\n",
              "    .dataframe thead th {\n",
              "        text-align: right;\n",
              "    }\n",
              "</style>\n",
              "<table border=\"1\" class=\"dataframe\">\n",
              "  <thead>\n",
              "    <tr style=\"text-align: right;\">\n",
              "      <th></th>\n",
              "      <th>Pays</th>\n",
              "      <th>Élément</th>\n",
              "      <th>Produit</th>\n",
              "      <th>Valeur</th>\n",
              "      <th>Unité</th>\n",
              "    </tr>\n",
              "    <tr>\n",
              "      <th>Code_Pays_id</th>\n",
              "      <th></th>\n",
              "      <th></th>\n",
              "      <th></th>\n",
              "      <th></th>\n",
              "      <th></th>\n",
              "    </tr>\n",
              "  </thead>\n",
              "  <tbody>\n",
              "    <tr>\n",
              "      <th>68</th>\n",
              "      <td>France</td>\n",
              "      <td>Production</td>\n",
              "      <td>Blé</td>\n",
              "      <td>38614.00</td>\n",
              "      <td>Milliers de tonnes</td>\n",
              "    </tr>\n",
              "    <tr>\n",
              "      <th>68</th>\n",
              "      <td>France</td>\n",
              "      <td>Importations - Quantité</td>\n",
              "      <td>Blé</td>\n",
              "      <td>2055.00</td>\n",
              "      <td>Milliers de tonnes</td>\n",
              "    </tr>\n",
              "    <tr>\n",
              "      <th>68</th>\n",
              "      <td>France</td>\n",
              "      <td>Variation de stock</td>\n",
              "      <td>Blé</td>\n",
              "      <td>1131.00</td>\n",
              "      <td>Milliers de tonnes</td>\n",
              "    </tr>\n",
              "    <tr>\n",
              "      <th>68</th>\n",
              "      <td>France</td>\n",
              "      <td>Exportations - Quantité</td>\n",
              "      <td>Blé</td>\n",
              "      <td>21502.00</td>\n",
              "      <td>Milliers de tonnes</td>\n",
              "    </tr>\n",
              "    <tr>\n",
              "      <th>68</th>\n",
              "      <td>France</td>\n",
              "      <td>Disponibilité intérieure</td>\n",
              "      <td>Blé</td>\n",
              "      <td>20298.00</td>\n",
              "      <td>Milliers de tonnes</td>\n",
              "    </tr>\n",
              "    <tr>\n",
              "      <th>68</th>\n",
              "      <td>France</td>\n",
              "      <td>Aliments pour animaux</td>\n",
              "      <td>Blé</td>\n",
              "      <td>7822.00</td>\n",
              "      <td>Milliers de tonnes</td>\n",
              "    </tr>\n",
              "    <tr>\n",
              "      <th>68</th>\n",
              "      <td>France</td>\n",
              "      <td>Semences</td>\n",
              "      <td>Blé</td>\n",
              "      <td>748.00</td>\n",
              "      <td>Milliers de tonnes</td>\n",
              "    </tr>\n",
              "    <tr>\n",
              "      <th>68</th>\n",
              "      <td>France</td>\n",
              "      <td>Pertes</td>\n",
              "      <td>Blé</td>\n",
              "      <td>358.00</td>\n",
              "      <td>Milliers de tonnes</td>\n",
              "    </tr>\n",
              "    <tr>\n",
              "      <th>68</th>\n",
              "      <td>France</td>\n",
              "      <td>Traitement</td>\n",
              "      <td>Blé</td>\n",
              "      <td>1575.00</td>\n",
              "      <td>Milliers de tonnes</td>\n",
              "    </tr>\n",
              "    <tr>\n",
              "      <th>68</th>\n",
              "      <td>France</td>\n",
              "      <td>Autres Utilisations</td>\n",
              "      <td>Blé</td>\n",
              "      <td>2824.00</td>\n",
              "      <td>Milliers de tonnes</td>\n",
              "    </tr>\n",
              "    <tr>\n",
              "      <th>68</th>\n",
              "      <td>France</td>\n",
              "      <td>Nourriture</td>\n",
              "      <td>Blé</td>\n",
              "      <td>6971.00</td>\n",
              "      <td>Milliers de tonnes</td>\n",
              "    </tr>\n",
              "    <tr>\n",
              "      <th>68</th>\n",
              "      <td>France</td>\n",
              "      <td>Disponibilité alimentaire en quantité (kg/pers...</td>\n",
              "      <td>Blé</td>\n",
              "      <td>108.43</td>\n",
              "      <td>kg</td>\n",
              "    </tr>\n",
              "    <tr>\n",
              "      <th>68</th>\n",
              "      <td>France</td>\n",
              "      <td>Disponibilité alimentaire (Kcal/personne/jour)</td>\n",
              "      <td>Blé</td>\n",
              "      <td>811.00</td>\n",
              "      <td>Kcal/personne/jour</td>\n",
              "    </tr>\n",
              "    <tr>\n",
              "      <th>68</th>\n",
              "      <td>France</td>\n",
              "      <td>Disponibilité de protéines en quantité (g/pers...</td>\n",
              "      <td>Blé</td>\n",
              "      <td>25.99</td>\n",
              "      <td>g/personne/jour</td>\n",
              "    </tr>\n",
              "    <tr>\n",
              "      <th>68</th>\n",
              "      <td>France</td>\n",
              "      <td>Disponibilité de matière grasse en quantité (g...</td>\n",
              "      <td>Blé</td>\n",
              "      <td>4.20</td>\n",
              "      <td>g/personne/jour</td>\n",
              "    </tr>\n",
              "  </tbody>\n",
              "</table>\n",
              "</div>\n",
              "      <button class=\"colab-df-convert\" onclick=\"convertToInteractive('df-a02d8f4c-97c6-474f-9cf2-a72f56347027')\"\n",
              "              title=\"Convert this dataframe to an interactive table.\"\n",
              "              style=\"display:none;\">\n",
              "        \n",
              "  <svg xmlns=\"http://www.w3.org/2000/svg\" height=\"24px\"viewBox=\"0 0 24 24\"\n",
              "       width=\"24px\">\n",
              "    <path d=\"M0 0h24v24H0V0z\" fill=\"none\"/>\n",
              "    <path d=\"M18.56 5.44l.94 2.06.94-2.06 2.06-.94-2.06-.94-.94-2.06-.94 2.06-2.06.94zm-11 1L8.5 8.5l.94-2.06 2.06-.94-2.06-.94L8.5 2.5l-.94 2.06-2.06.94zm10 10l.94 2.06.94-2.06 2.06-.94-2.06-.94-.94-2.06-.94 2.06-2.06.94z\"/><path d=\"M17.41 7.96l-1.37-1.37c-.4-.4-.92-.59-1.43-.59-.52 0-1.04.2-1.43.59L10.3 9.45l-7.72 7.72c-.78.78-.78 2.05 0 2.83L4 21.41c.39.39.9.59 1.41.59.51 0 1.02-.2 1.41-.59l7.78-7.78 2.81-2.81c.8-.78.8-2.07 0-2.86zM5.41 20L4 18.59l7.72-7.72 1.47 1.35L5.41 20z\"/>\n",
              "  </svg>\n",
              "      </button>\n",
              "      \n",
              "  <style>\n",
              "    .colab-df-container {\n",
              "      display:flex;\n",
              "      flex-wrap:wrap;\n",
              "      gap: 12px;\n",
              "    }\n",
              "\n",
              "    .colab-df-convert {\n",
              "      background-color: #E8F0FE;\n",
              "      border: none;\n",
              "      border-radius: 50%;\n",
              "      cursor: pointer;\n",
              "      display: none;\n",
              "      fill: #1967D2;\n",
              "      height: 32px;\n",
              "      padding: 0 0 0 0;\n",
              "      width: 32px;\n",
              "    }\n",
              "\n",
              "    .colab-df-convert:hover {\n",
              "      background-color: #E2EBFA;\n",
              "      box-shadow: 0px 1px 2px rgba(60, 64, 67, 0.3), 0px 1px 3px 1px rgba(60, 64, 67, 0.15);\n",
              "      fill: #174EA6;\n",
              "    }\n",
              "\n",
              "    [theme=dark] .colab-df-convert {\n",
              "      background-color: #3B4455;\n",
              "      fill: #D2E3FC;\n",
              "    }\n",
              "\n",
              "    [theme=dark] .colab-df-convert:hover {\n",
              "      background-color: #434B5C;\n",
              "      box-shadow: 0px 1px 3px 1px rgba(0, 0, 0, 0.15);\n",
              "      filter: drop-shadow(0px 1px 2px rgba(0, 0, 0, 0.3));\n",
              "      fill: #FFFFFF;\n",
              "    }\n",
              "  </style>\n",
              "\n",
              "      <script>\n",
              "        const buttonEl =\n",
              "          document.querySelector('#df-a02d8f4c-97c6-474f-9cf2-a72f56347027 button.colab-df-convert');\n",
              "        buttonEl.style.display =\n",
              "          google.colab.kernel.accessAllowed ? 'block' : 'none';\n",
              "\n",
              "        async function convertToInteractive(key) {\n",
              "          const element = document.querySelector('#df-a02d8f4c-97c6-474f-9cf2-a72f56347027');\n",
              "          const dataTable =\n",
              "            await google.colab.kernel.invokeFunction('convertToInteractive',\n",
              "                                                     [key], {});\n",
              "          if (!dataTable) return;\n",
              "\n",
              "          const docLinkHtml = 'Like what you see? Visit the ' +\n",
              "            '<a target=\"_blank\" href=https://colab.research.google.com/notebooks/data_table.ipynb>data table notebook</a>'\n",
              "            + ' to learn more about interactive tables.';\n",
              "          element.innerHTML = '';\n",
              "          dataTable['output_type'] = 'display_data';\n",
              "          await google.colab.output.renderOutput(dataTable, element);\n",
              "          const docLink = document.createElement('div');\n",
              "          docLink.innerHTML = docLinkHtml;\n",
              "          element.appendChild(docLink);\n",
              "        }\n",
              "      </script>\n",
              "    </div>\n",
              "  </div>\n",
              "  "
            ]
          },
          "metadata": {},
          "execution_count": 172
        }
      ]
    },
    {
      "cell_type": "markdown",
      "source": [
        "Approche Textuel:\n",
        "On peut supposer une disposition par niveau.\n",
        "Production + Importation + Variation de stock - Exportation =disponibilité interieur= Aliments pour animaux + Semences + Pertes + Traitement + Autres Utilisations + Nourriture"
      ],
      "metadata": {
        "id": "iczzd_eT-QiG"
      }
    },
    {
      "cell_type": "code",
      "source": [
        "# Test de vérification doit être égale à True\n",
        "test =38614.00 + 2055.00 + 1131.00 - 21502.00 == 20298.00 == 7822.00 + 748.00 + 358 +1575 +2824 +6971 \n",
        "test"
      ],
      "metadata": {
        "colab": {
          "base_uri": "https://localhost:8080/"
        },
        "id": "3zQ35toX9H50",
        "outputId": "d5b94f92-ff17-48ea-935b-a2e5581429f7"
      },
      "execution_count": 173,
      "outputs": [
        {
          "output_type": "execute_result",
          "data": {
            "text/plain": [
              "True"
            ]
          },
          "metadata": {},
          "execution_count": 173
        }
      ]
    },
    {
      "cell_type": "markdown",
      "source": [
        "Le test nous renvoie True notre hypothèse est donc confirmée."
      ],
      "metadata": {
        "id": "7qiT8ty2-qOo"
      }
    },
    {
      "cell_type": "markdown",
      "source": [
        "<h2>Question 3 : Disponibilité alimentaire (calories, protéines)</h2>\n",
        "<p>Calculez (pour chaque pays et chaque produit) la disponibilité alimentaire en kcal par an puis en kg  de protéines par an. Vous ferez cela à partir de ces informations :  \n",
        "- Population de chaque pays \n",
        "- Disponibilité alimentaire donnée pour chaque produit et pour chaque pays en kcal/personne/jour, - - Disponibilité alimentaire en protéines donnée pour chaque produit et pour chaque pays en  g/personne/jour.</p>\n",
        "<p>Pour cette étape vous avez besoin de constituer une seule et même table à partir des tables  animaux, végétaux et population. Nommer cette nouvelle table « aliments ». </p>"
      ],
      "metadata": {
        "id": "AoZf-Wh7-18w"
      }
    },
    {
      "cell_type": "markdown",
      "source": [
        "Construction d'une Data frame aliments"
      ],
      "metadata": {
        "id": "5ZAf_-MeFRgC"
      }
    },
    {
      "cell_type": "code",
      "source": [
        "# Ajout d'une colonne 'Origine' dans animaux et vegetaux\n",
        "animal['Origine'] = 'Animale'\n",
        "vegetal['Origine'] = 'Végétale'\n",
        "\n",
        "# Union de Végétaux et Animaux\n",
        "aliments = pd.concat([vegetal, animal])\n",
        "\n",
        "# Projection\n",
        "aliments = aliments[[\n",
        "    'Pays',\n",
        "    'Code Pays',\n",
        "    'Produit',\n",
        "    'Code Produit',\n",
        "    'Origine',\n",
        "    'Élément',\n",
        "    'Valeur',\n",
        "    'Unité',\n",
        "    'Année'\n",
        "]]\n",
        "\n",
        "# Table pivot sur aliments\n",
        "aliments = aliments.pivot_table('Valeur', index=['Code Pays','Pays','Produit','Code Produit','Année','Origine'], columns='Élément') #,'Unité'\n",
        "\n",
        "# Reset index\n",
        "aliments.reset_index(inplace=True)\n",
        "aliments.head()\n",
        "# Joindre population et aliments\n",
        "aliments = pd.merge(aliments, population[['Pays', 'Valeur','Unité']], left_on='Pays', right_on='Pays')\n",
        "\n",
        "# Renommer les colonnes\n",
        "aliments.rename(columns={\n",
        "    'Aliments pour animaux' : 'alim_ani',\n",
        "    'Autres utilisations (non alimentaire)' : 'autres_utilisations',\n",
        "    'Semences' : 'semences',\n",
        "    'Pertes' : 'pertes',\n",
        "    'Nourriture' : 'nourriture',\n",
        "    'Traitement' : 'transfo', # ?\n",
        "    'Disponibilité intérieure' : 'dispo_int',\n",
        "    'Disponibilité alimentaire (Kcal/personne/jour)' : 'dispo_alim_kcal_p_j',\n",
        "    'Disponibilité alimentaire en quantité (kg/personne/an)' : 'dispo_alim_kg_p_an',\n",
        "    'Disponibilité de protéines en quantité (g/personne/jour)' : 'dispo_prot_g_p_j',\n",
        "    'Disponibilité de matière grasse en quantité (g/personne/jour)' : 'dispo_mat_gr',\n",
        "    'Valeur' : 'population',\n",
        "    'Unité' : 'unité_pop'\n",
        "}, inplace=True)\n",
        "\n",
        "# Remplacer les Nan\n",
        "aliments.replace(np.nan, 0, inplace=True)\n",
        "#Population * 1000\n",
        "aliments['population']= (aliments['population'] *1000).round(decimals = 1)\n",
        "# Affichage\n",
        "print('Résultat : ', aliments.shape[1], 'colonnes, ', aliments.shape[0], 'lignes')\n",
        "aliments.sample(3)"
      ],
      "metadata": {
        "colab": {
          "base_uri": "https://localhost:8080/",
          "height": 324
        },
        "id": "VvCCtlyKPhbJ",
        "outputId": "fd14d13f-54a1-483e-aa46-5ff9d0842f63"
      },
      "execution_count": 174,
      "outputs": [
        {
          "output_type": "stream",
          "name": "stdout",
          "text": [
            "Résultat :  23 colonnes,  4764 lignes\n"
          ]
        },
        {
          "output_type": "execute_result",
          "data": {
            "text/plain": [
              "      Code Pays           Pays              Produit  Code Produit  Année  \\\n",
              "1713         89      Guatemala      Huile de Sésame          2579   2013   \n",
              "2110        107  Côte d'Ivoire               Raisin          2620   2013   \n",
              "3134        165       Pakistan  Légumineuses Autres          2549   2013   \n",
              "\n",
              "       Origine  alim_ani  Autres Utilisations  dispo_alim_kcal_p_j  \\\n",
              "1713  Végétale       0.0                  0.0                  9.0   \n",
              "2110  Végétale       0.0                  0.0                  0.0   \n",
              "3134  Végétale     203.0                  0.0                 42.0   \n",
              "\n",
              "      dispo_alim_kg_p_an  ...  Exportations - Quantité  \\\n",
              "1713                0.38  ...                      0.0   \n",
              "2110                0.06  ...                      0.0   \n",
              "3134                4.38  ...                      0.0   \n",
              "\n",
              "      Importations - Quantité  nourriture  pertes  Production  semences  \\\n",
              "1713                      0.0         6.0     0.0         6.0       0.0   \n",
              "2110                      1.0         1.0     0.0         0.0       0.0   \n",
              "3134                    176.0       798.0    22.0       906.0      59.0   \n",
              "\n",
              "      transfo  Variation de stock  population     unité_pop  \n",
              "1713      0.0                 0.0    15468000  1000 persons  \n",
              "2110      0.0                 0.0    20316000  1000 persons  \n",
              "3134      0.0                 0.0   182143000  1000 persons  \n",
              "\n",
              "[3 rows x 23 columns]"
            ],
            "text/html": [
              "\n",
              "  <div id=\"df-bcc115e3-dcd6-4aa8-8689-e3270da63d34\">\n",
              "    <div class=\"colab-df-container\">\n",
              "      <div>\n",
              "<style scoped>\n",
              "    .dataframe tbody tr th:only-of-type {\n",
              "        vertical-align: middle;\n",
              "    }\n",
              "\n",
              "    .dataframe tbody tr th {\n",
              "        vertical-align: top;\n",
              "    }\n",
              "\n",
              "    .dataframe thead th {\n",
              "        text-align: right;\n",
              "    }\n",
              "</style>\n",
              "<table border=\"1\" class=\"dataframe\">\n",
              "  <thead>\n",
              "    <tr style=\"text-align: right;\">\n",
              "      <th></th>\n",
              "      <th>Code Pays</th>\n",
              "      <th>Pays</th>\n",
              "      <th>Produit</th>\n",
              "      <th>Code Produit</th>\n",
              "      <th>Année</th>\n",
              "      <th>Origine</th>\n",
              "      <th>alim_ani</th>\n",
              "      <th>Autres Utilisations</th>\n",
              "      <th>dispo_alim_kcal_p_j</th>\n",
              "      <th>dispo_alim_kg_p_an</th>\n",
              "      <th>...</th>\n",
              "      <th>Exportations - Quantité</th>\n",
              "      <th>Importations - Quantité</th>\n",
              "      <th>nourriture</th>\n",
              "      <th>pertes</th>\n",
              "      <th>Production</th>\n",
              "      <th>semences</th>\n",
              "      <th>transfo</th>\n",
              "      <th>Variation de stock</th>\n",
              "      <th>population</th>\n",
              "      <th>unité_pop</th>\n",
              "    </tr>\n",
              "  </thead>\n",
              "  <tbody>\n",
              "    <tr>\n",
              "      <th>1713</th>\n",
              "      <td>89</td>\n",
              "      <td>Guatemala</td>\n",
              "      <td>Huile de Sésame</td>\n",
              "      <td>2579</td>\n",
              "      <td>2013</td>\n",
              "      <td>Végétale</td>\n",
              "      <td>0.0</td>\n",
              "      <td>0.0</td>\n",
              "      <td>9.0</td>\n",
              "      <td>0.38</td>\n",
              "      <td>...</td>\n",
              "      <td>0.0</td>\n",
              "      <td>0.0</td>\n",
              "      <td>6.0</td>\n",
              "      <td>0.0</td>\n",
              "      <td>6.0</td>\n",
              "      <td>0.0</td>\n",
              "      <td>0.0</td>\n",
              "      <td>0.0</td>\n",
              "      <td>15468000</td>\n",
              "      <td>1000 persons</td>\n",
              "    </tr>\n",
              "    <tr>\n",
              "      <th>2110</th>\n",
              "      <td>107</td>\n",
              "      <td>Côte d'Ivoire</td>\n",
              "      <td>Raisin</td>\n",
              "      <td>2620</td>\n",
              "      <td>2013</td>\n",
              "      <td>Végétale</td>\n",
              "      <td>0.0</td>\n",
              "      <td>0.0</td>\n",
              "      <td>0.0</td>\n",
              "      <td>0.06</td>\n",
              "      <td>...</td>\n",
              "      <td>0.0</td>\n",
              "      <td>1.0</td>\n",
              "      <td>1.0</td>\n",
              "      <td>0.0</td>\n",
              "      <td>0.0</td>\n",
              "      <td>0.0</td>\n",
              "      <td>0.0</td>\n",
              "      <td>0.0</td>\n",
              "      <td>20316000</td>\n",
              "      <td>1000 persons</td>\n",
              "    </tr>\n",
              "    <tr>\n",
              "      <th>3134</th>\n",
              "      <td>165</td>\n",
              "      <td>Pakistan</td>\n",
              "      <td>Légumineuses Autres</td>\n",
              "      <td>2549</td>\n",
              "      <td>2013</td>\n",
              "      <td>Végétale</td>\n",
              "      <td>203.0</td>\n",
              "      <td>0.0</td>\n",
              "      <td>42.0</td>\n",
              "      <td>4.38</td>\n",
              "      <td>...</td>\n",
              "      <td>0.0</td>\n",
              "      <td>176.0</td>\n",
              "      <td>798.0</td>\n",
              "      <td>22.0</td>\n",
              "      <td>906.0</td>\n",
              "      <td>59.0</td>\n",
              "      <td>0.0</td>\n",
              "      <td>0.0</td>\n",
              "      <td>182143000</td>\n",
              "      <td>1000 persons</td>\n",
              "    </tr>\n",
              "  </tbody>\n",
              "</table>\n",
              "<p>3 rows × 23 columns</p>\n",
              "</div>\n",
              "      <button class=\"colab-df-convert\" onclick=\"convertToInteractive('df-bcc115e3-dcd6-4aa8-8689-e3270da63d34')\"\n",
              "              title=\"Convert this dataframe to an interactive table.\"\n",
              "              style=\"display:none;\">\n",
              "        \n",
              "  <svg xmlns=\"http://www.w3.org/2000/svg\" height=\"24px\"viewBox=\"0 0 24 24\"\n",
              "       width=\"24px\">\n",
              "    <path d=\"M0 0h24v24H0V0z\" fill=\"none\"/>\n",
              "    <path d=\"M18.56 5.44l.94 2.06.94-2.06 2.06-.94-2.06-.94-.94-2.06-.94 2.06-2.06.94zm-11 1L8.5 8.5l.94-2.06 2.06-.94-2.06-.94L8.5 2.5l-.94 2.06-2.06.94zm10 10l.94 2.06.94-2.06 2.06-.94-2.06-.94-.94-2.06-.94 2.06-2.06.94z\"/><path d=\"M17.41 7.96l-1.37-1.37c-.4-.4-.92-.59-1.43-.59-.52 0-1.04.2-1.43.59L10.3 9.45l-7.72 7.72c-.78.78-.78 2.05 0 2.83L4 21.41c.39.39.9.59 1.41.59.51 0 1.02-.2 1.41-.59l7.78-7.78 2.81-2.81c.8-.78.8-2.07 0-2.86zM5.41 20L4 18.59l7.72-7.72 1.47 1.35L5.41 20z\"/>\n",
              "  </svg>\n",
              "      </button>\n",
              "      \n",
              "  <style>\n",
              "    .colab-df-container {\n",
              "      display:flex;\n",
              "      flex-wrap:wrap;\n",
              "      gap: 12px;\n",
              "    }\n",
              "\n",
              "    .colab-df-convert {\n",
              "      background-color: #E8F0FE;\n",
              "      border: none;\n",
              "      border-radius: 50%;\n",
              "      cursor: pointer;\n",
              "      display: none;\n",
              "      fill: #1967D2;\n",
              "      height: 32px;\n",
              "      padding: 0 0 0 0;\n",
              "      width: 32px;\n",
              "    }\n",
              "\n",
              "    .colab-df-convert:hover {\n",
              "      background-color: #E2EBFA;\n",
              "      box-shadow: 0px 1px 2px rgba(60, 64, 67, 0.3), 0px 1px 3px 1px rgba(60, 64, 67, 0.15);\n",
              "      fill: #174EA6;\n",
              "    }\n",
              "\n",
              "    [theme=dark] .colab-df-convert {\n",
              "      background-color: #3B4455;\n",
              "      fill: #D2E3FC;\n",
              "    }\n",
              "\n",
              "    [theme=dark] .colab-df-convert:hover {\n",
              "      background-color: #434B5C;\n",
              "      box-shadow: 0px 1px 3px 1px rgba(0, 0, 0, 0.15);\n",
              "      filter: drop-shadow(0px 1px 2px rgba(0, 0, 0, 0.3));\n",
              "      fill: #FFFFFF;\n",
              "    }\n",
              "  </style>\n",
              "\n",
              "      <script>\n",
              "        const buttonEl =\n",
              "          document.querySelector('#df-bcc115e3-dcd6-4aa8-8689-e3270da63d34 button.colab-df-convert');\n",
              "        buttonEl.style.display =\n",
              "          google.colab.kernel.accessAllowed ? 'block' : 'none';\n",
              "\n",
              "        async function convertToInteractive(key) {\n",
              "          const element = document.querySelector('#df-bcc115e3-dcd6-4aa8-8689-e3270da63d34');\n",
              "          const dataTable =\n",
              "            await google.colab.kernel.invokeFunction('convertToInteractive',\n",
              "                                                     [key], {});\n",
              "          if (!dataTable) return;\n",
              "\n",
              "          const docLinkHtml = 'Like what you see? Visit the ' +\n",
              "            '<a target=\"_blank\" href=https://colab.research.google.com/notebooks/data_table.ipynb>data table notebook</a>'\n",
              "            + ' to learn more about interactive tables.';\n",
              "          element.innerHTML = '';\n",
              "          dataTable['output_type'] = 'display_data';\n",
              "          await google.colab.output.renderOutput(dataTable, element);\n",
              "          const docLink = document.createElement('div');\n",
              "          docLink.innerHTML = docLinkHtml;\n",
              "          element.appendChild(docLink);\n",
              "        }\n",
              "      </script>\n",
              "    </div>\n",
              "  </div>\n",
              "  "
            ]
          },
          "metadata": {},
          "execution_count": 174
        }
      ]
    },
    {
      "cell_type": "code",
      "source": [
        "aliments['dispo_int']"
      ],
      "metadata": {
        "colab": {
          "base_uri": "https://localhost:8080/"
        },
        "id": "qb5Jb3R-A4pl",
        "outputId": "943e787e-4e4b-4e22-e1cb-48964158cc66"
      },
      "execution_count": 175,
      "outputs": [
        {
          "output_type": "execute_result",
          "data": {
            "text/plain": [
              "0       53.0\n",
              "1       41.0\n",
              "2        2.0\n",
              "3        0.0\n",
              "4       82.0\n",
              "        ... \n",
              "4759    23.0\n",
              "4760    11.0\n",
              "4761     1.0\n",
              "4762    27.0\n",
              "4763     1.0\n",
              "Name: dispo_int, Length: 4764, dtype: float64"
            ]
          },
          "metadata": {},
          "execution_count": 175
        }
      ]
    },
    {
      "cell_type": "code",
      "source": [
        "aliments.columns"
      ],
      "metadata": {
        "colab": {
          "base_uri": "https://localhost:8080/"
        },
        "id": "-_7DPiRXQmZw",
        "outputId": "6912e772-9c1f-4a63-e8f3-e78aee8dbc6d"
      },
      "execution_count": 176,
      "outputs": [
        {
          "output_type": "execute_result",
          "data": {
            "text/plain": [
              "Index(['Code Pays', 'Pays', 'Produit', 'Code Produit', 'Année', 'Origine',\n",
              "       'alim_ani', 'Autres Utilisations', 'dispo_alim_kcal_p_j',\n",
              "       'dispo_alim_kg_p_an', 'dispo_mat_gr', 'dispo_prot_g_p_j', 'dispo_int',\n",
              "       'Exportations - Quantité', 'Importations - Quantité', 'nourriture',\n",
              "       'pertes', 'Production', 'semences', 'transfo', 'Variation de stock',\n",
              "       'population', 'unité_pop'],\n",
              "      dtype='object')"
            ]
          },
          "metadata": {},
          "execution_count": 176
        }
      ]
    },
    {
      "cell_type": "code",
      "source": [
        "# Calcul disponibilité alimentaire Kcal/an = dispo_alim_kcal_p_j * (population*1000) * 365\n",
        "\n",
        "aliments['dispo_alim_kcal_an'] = round((aliments['dispo_alim_kcal_p_j'] * (aliments['population'])) * 365,1)\n",
        "aliments['dispo_prot_kg_an'] = round(((aliments['dispo_prot_g_p_j'] /1000) * aliments['population'] * 365),1)\n",
        "aliments['dispo_alim_kg_an'] = (aliments['dispo_alim_kg_p_an'] * aliments['population'])\n",
        "aliments.columns"
      ],
      "metadata": {
        "colab": {
          "base_uri": "https://localhost:8080/"
        },
        "id": "qLJoQfOjSVaZ",
        "outputId": "e5bdcb62-60b6-431a-c892-698fee5d12b2"
      },
      "execution_count": 177,
      "outputs": [
        {
          "output_type": "execute_result",
          "data": {
            "text/plain": [
              "Index(['Code Pays', 'Pays', 'Produit', 'Code Produit', 'Année', 'Origine',\n",
              "       'alim_ani', 'Autres Utilisations', 'dispo_alim_kcal_p_j',\n",
              "       'dispo_alim_kg_p_an', 'dispo_mat_gr', 'dispo_prot_g_p_j', 'dispo_int',\n",
              "       'Exportations - Quantité', 'Importations - Quantité', 'nourriture',\n",
              "       'pertes', 'Production', 'semences', 'transfo', 'Variation de stock',\n",
              "       'population', 'unité_pop', 'dispo_alim_kcal_an', 'dispo_prot_kg_an',\n",
              "       'dispo_alim_kg_an'],\n",
              "      dtype='object')"
            ]
          },
          "metadata": {},
          "execution_count": 177
        }
      ]
    },
    {
      "cell_type": "code",
      "source": [
        "aliments[['Pays','Produit','dispo_alim_kcal_an','dispo_prot_kg_an','dispo_alim_kg_an']].head(5)"
      ],
      "metadata": {
        "colab": {
          "base_uri": "https://localhost:8080/",
          "height": 206
        },
        "id": "KwfqJnFYYUl2",
        "outputId": "8ea0081b-1195-4b31-80d9-b94937b6cad6"
      },
      "execution_count": 178,
      "outputs": [
        {
          "output_type": "execute_result",
          "data": {
            "text/plain": [
              "          Pays                Produit  dispo_alim_kcal_an  dispo_prot_kg_an  \\\n",
              "0  Afghanistan       Abats Comestible        5.575740e+10         8586639.6   \n",
              "1  Afghanistan        Agrumes, Autres        1.115148e+10          223029.6   \n",
              "2  Afghanistan  Aliments pour enfants        1.115148e+10          334544.4   \n",
              "3  Afghanistan                 Ananas        0.000000e+00               0.0   \n",
              "4  Afghanistan                Bananes        4.460592e+10          557574.0   \n",
              "\n",
              "   dispo_alim_kg_an  \n",
              "0        52549440.0  \n",
              "1        39412080.0  \n",
              "2         1833120.0  \n",
              "3               0.0  \n",
              "4        82490400.0  "
            ],
            "text/html": [
              "\n",
              "  <div id=\"df-a069fd7b-d37d-404f-bece-09011ef9f3b4\">\n",
              "    <div class=\"colab-df-container\">\n",
              "      <div>\n",
              "<style scoped>\n",
              "    .dataframe tbody tr th:only-of-type {\n",
              "        vertical-align: middle;\n",
              "    }\n",
              "\n",
              "    .dataframe tbody tr th {\n",
              "        vertical-align: top;\n",
              "    }\n",
              "\n",
              "    .dataframe thead th {\n",
              "        text-align: right;\n",
              "    }\n",
              "</style>\n",
              "<table border=\"1\" class=\"dataframe\">\n",
              "  <thead>\n",
              "    <tr style=\"text-align: right;\">\n",
              "      <th></th>\n",
              "      <th>Pays</th>\n",
              "      <th>Produit</th>\n",
              "      <th>dispo_alim_kcal_an</th>\n",
              "      <th>dispo_prot_kg_an</th>\n",
              "      <th>dispo_alim_kg_an</th>\n",
              "    </tr>\n",
              "  </thead>\n",
              "  <tbody>\n",
              "    <tr>\n",
              "      <th>0</th>\n",
              "      <td>Afghanistan</td>\n",
              "      <td>Abats Comestible</td>\n",
              "      <td>5.575740e+10</td>\n",
              "      <td>8586639.6</td>\n",
              "      <td>52549440.0</td>\n",
              "    </tr>\n",
              "    <tr>\n",
              "      <th>1</th>\n",
              "      <td>Afghanistan</td>\n",
              "      <td>Agrumes, Autres</td>\n",
              "      <td>1.115148e+10</td>\n",
              "      <td>223029.6</td>\n",
              "      <td>39412080.0</td>\n",
              "    </tr>\n",
              "    <tr>\n",
              "      <th>2</th>\n",
              "      <td>Afghanistan</td>\n",
              "      <td>Aliments pour enfants</td>\n",
              "      <td>1.115148e+10</td>\n",
              "      <td>334544.4</td>\n",
              "      <td>1833120.0</td>\n",
              "    </tr>\n",
              "    <tr>\n",
              "      <th>3</th>\n",
              "      <td>Afghanistan</td>\n",
              "      <td>Ananas</td>\n",
              "      <td>0.000000e+00</td>\n",
              "      <td>0.0</td>\n",
              "      <td>0.0</td>\n",
              "    </tr>\n",
              "    <tr>\n",
              "      <th>4</th>\n",
              "      <td>Afghanistan</td>\n",
              "      <td>Bananes</td>\n",
              "      <td>4.460592e+10</td>\n",
              "      <td>557574.0</td>\n",
              "      <td>82490400.0</td>\n",
              "    </tr>\n",
              "  </tbody>\n",
              "</table>\n",
              "</div>\n",
              "      <button class=\"colab-df-convert\" onclick=\"convertToInteractive('df-a069fd7b-d37d-404f-bece-09011ef9f3b4')\"\n",
              "              title=\"Convert this dataframe to an interactive table.\"\n",
              "              style=\"display:none;\">\n",
              "        \n",
              "  <svg xmlns=\"http://www.w3.org/2000/svg\" height=\"24px\"viewBox=\"0 0 24 24\"\n",
              "       width=\"24px\">\n",
              "    <path d=\"M0 0h24v24H0V0z\" fill=\"none\"/>\n",
              "    <path d=\"M18.56 5.44l.94 2.06.94-2.06 2.06-.94-2.06-.94-.94-2.06-.94 2.06-2.06.94zm-11 1L8.5 8.5l.94-2.06 2.06-.94-2.06-.94L8.5 2.5l-.94 2.06-2.06.94zm10 10l.94 2.06.94-2.06 2.06-.94-2.06-.94-.94-2.06-.94 2.06-2.06.94z\"/><path d=\"M17.41 7.96l-1.37-1.37c-.4-.4-.92-.59-1.43-.59-.52 0-1.04.2-1.43.59L10.3 9.45l-7.72 7.72c-.78.78-.78 2.05 0 2.83L4 21.41c.39.39.9.59 1.41.59.51 0 1.02-.2 1.41-.59l7.78-7.78 2.81-2.81c.8-.78.8-2.07 0-2.86zM5.41 20L4 18.59l7.72-7.72 1.47 1.35L5.41 20z\"/>\n",
              "  </svg>\n",
              "      </button>\n",
              "      \n",
              "  <style>\n",
              "    .colab-df-container {\n",
              "      display:flex;\n",
              "      flex-wrap:wrap;\n",
              "      gap: 12px;\n",
              "    }\n",
              "\n",
              "    .colab-df-convert {\n",
              "      background-color: #E8F0FE;\n",
              "      border: none;\n",
              "      border-radius: 50%;\n",
              "      cursor: pointer;\n",
              "      display: none;\n",
              "      fill: #1967D2;\n",
              "      height: 32px;\n",
              "      padding: 0 0 0 0;\n",
              "      width: 32px;\n",
              "    }\n",
              "\n",
              "    .colab-df-convert:hover {\n",
              "      background-color: #E2EBFA;\n",
              "      box-shadow: 0px 1px 2px rgba(60, 64, 67, 0.3), 0px 1px 3px 1px rgba(60, 64, 67, 0.15);\n",
              "      fill: #174EA6;\n",
              "    }\n",
              "\n",
              "    [theme=dark] .colab-df-convert {\n",
              "      background-color: #3B4455;\n",
              "      fill: #D2E3FC;\n",
              "    }\n",
              "\n",
              "    [theme=dark] .colab-df-convert:hover {\n",
              "      background-color: #434B5C;\n",
              "      box-shadow: 0px 1px 3px 1px rgba(0, 0, 0, 0.15);\n",
              "      filter: drop-shadow(0px 1px 2px rgba(0, 0, 0, 0.3));\n",
              "      fill: #FFFFFF;\n",
              "    }\n",
              "  </style>\n",
              "\n",
              "      <script>\n",
              "        const buttonEl =\n",
              "          document.querySelector('#df-a069fd7b-d37d-404f-bece-09011ef9f3b4 button.colab-df-convert');\n",
              "        buttonEl.style.display =\n",
              "          google.colab.kernel.accessAllowed ? 'block' : 'none';\n",
              "\n",
              "        async function convertToInteractive(key) {\n",
              "          const element = document.querySelector('#df-a069fd7b-d37d-404f-bece-09011ef9f3b4');\n",
              "          const dataTable =\n",
              "            await google.colab.kernel.invokeFunction('convertToInteractive',\n",
              "                                                     [key], {});\n",
              "          if (!dataTable) return;\n",
              "\n",
              "          const docLinkHtml = 'Like what you see? Visit the ' +\n",
              "            '<a target=\"_blank\" href=https://colab.research.google.com/notebooks/data_table.ipynb>data table notebook</a>'\n",
              "            + ' to learn more about interactive tables.';\n",
              "          element.innerHTML = '';\n",
              "          dataTable['output_type'] = 'display_data';\n",
              "          await google.colab.output.renderOutput(dataTable, element);\n",
              "          const docLink = document.createElement('div');\n",
              "          docLink.innerHTML = docLinkHtml;\n",
              "          element.appendChild(docLink);\n",
              "        }\n",
              "      </script>\n",
              "    </div>\n",
              "  </div>\n",
              "  "
            ]
          },
          "metadata": {},
          "execution_count": 178
        }
      ]
    },
    {
      "cell_type": "markdown",
      "source": [
        "<h2>Question 4 : Ratio énergie/poids </h2>\n",
        "<p>A partir de ces dernières informations, et à partir du poids de la disponibilité alimentaire (pour  chaque pays et chaque produit), calculez pour chaque produit le ratio \"énergie/poids\", que vous \n",
        "donnerez en kcal/kg.</p>\n",
        "<p>Vous pouvez vérifier la cohérence de votre calcul en comparant ce ratio aux  données disponibles sur internet, par exemple en cherchant la valeur calorique d'un oeuf.</p>"
      ],
      "metadata": {
        "id": "ILxY_xuvZu3y"
      }
    },
    {
      "cell_type": "markdown",
      "source": [],
      "metadata": {
        "id": "-QavZZSJ-NKK"
      }
    },
    {
      "cell_type": "code",
      "source": [
        "# Ratio energie poids\n",
        "aliments['ratio_energie_poids'] = round(aliments['dispo_alim_kcal_an'] / aliments['dispo_alim_kg_an'],1)\n",
        "# Ratio protéine poids\n",
        "aliments['ratio_prot_poids'] = round(aliments['dispo_prot_kg_an'] / aliments['dispo_alim_kg_an'],2)\n",
        "# vérification et suppression des NaN\n",
        "\n",
        "print(aliments['ratio_energie_poids'].isna().sum())\n",
        "aliments['ratio_energie_poids'].dropna(axis='rows', inplace=True)\n",
        "aliments['ratio_energie_poids'].isna().sum()\n",
        "aliments.head(3)\n"
      ],
      "metadata": {
        "colab": {
          "base_uri": "https://localhost:8080/",
          "height": 341
        },
        "id": "xCb8t6qDasxQ",
        "outputId": "32a1462d-82a3-4312-b18b-11751f6e28df"
      },
      "execution_count": 210,
      "outputs": [
        {
          "output_type": "stream",
          "name": "stdout",
          "text": [
            "0\n"
          ]
        },
        {
          "output_type": "execute_result",
          "data": {
            "text/plain": [
              "   Code Pays         Pays                Produit  Code Produit  Année  \\\n",
              "0          2  Afghanistan       Abats Comestible          2736   2013   \n",
              "1          2  Afghanistan        Agrumes, Autres          2614   2013   \n",
              "2          2  Afghanistan  Aliments pour enfants          2680   2013   \n",
              "\n",
              "    Origine  alim_ani  Autres Utilisations  dispo_alim_kcal_p_j  \\\n",
              "0   Animale       0.0                  0.0                  5.0   \n",
              "1  Végétale       0.0                  0.0                  1.0   \n",
              "2  Végétale       0.0                  0.0                  1.0   \n",
              "\n",
              "   dispo_alim_kg_p_an  ...  semences  transfo  Variation de stock  population  \\\n",
              "0                1.72  ...       0.0      0.0                 0.0    30552000   \n",
              "1                1.29  ...       0.0      0.0                 0.0    30552000   \n",
              "2                0.06  ...       0.0      0.0                 0.0    30552000   \n",
              "\n",
              "      unité_pop  dispo_alim_kcal_an  dispo_prot_kg_an  dispo_alim_kg_an  \\\n",
              "0  1000 persons        5.575740e+10         8586639.6        52549440.0   \n",
              "1  1000 persons        1.115148e+10          223029.6        39412080.0   \n",
              "2  1000 persons        1.115148e+10          334544.4         1833120.0   \n",
              "\n",
              "   ratio_energie_poids  ratio_prot_poids  \n",
              "0               1061.0              0.16  \n",
              "1                282.9              0.01  \n",
              "2               6083.3              0.18  \n",
              "\n",
              "[3 rows x 28 columns]"
            ],
            "text/html": [
              "\n",
              "  <div id=\"df-089bd7db-5afd-4ee0-902c-cb70bdcef4a4\">\n",
              "    <div class=\"colab-df-container\">\n",
              "      <div>\n",
              "<style scoped>\n",
              "    .dataframe tbody tr th:only-of-type {\n",
              "        vertical-align: middle;\n",
              "    }\n",
              "\n",
              "    .dataframe tbody tr th {\n",
              "        vertical-align: top;\n",
              "    }\n",
              "\n",
              "    .dataframe thead th {\n",
              "        text-align: right;\n",
              "    }\n",
              "</style>\n",
              "<table border=\"1\" class=\"dataframe\">\n",
              "  <thead>\n",
              "    <tr style=\"text-align: right;\">\n",
              "      <th></th>\n",
              "      <th>Code Pays</th>\n",
              "      <th>Pays</th>\n",
              "      <th>Produit</th>\n",
              "      <th>Code Produit</th>\n",
              "      <th>Année</th>\n",
              "      <th>Origine</th>\n",
              "      <th>alim_ani</th>\n",
              "      <th>Autres Utilisations</th>\n",
              "      <th>dispo_alim_kcal_p_j</th>\n",
              "      <th>dispo_alim_kg_p_an</th>\n",
              "      <th>...</th>\n",
              "      <th>semences</th>\n",
              "      <th>transfo</th>\n",
              "      <th>Variation de stock</th>\n",
              "      <th>population</th>\n",
              "      <th>unité_pop</th>\n",
              "      <th>dispo_alim_kcal_an</th>\n",
              "      <th>dispo_prot_kg_an</th>\n",
              "      <th>dispo_alim_kg_an</th>\n",
              "      <th>ratio_energie_poids</th>\n",
              "      <th>ratio_prot_poids</th>\n",
              "    </tr>\n",
              "  </thead>\n",
              "  <tbody>\n",
              "    <tr>\n",
              "      <th>0</th>\n",
              "      <td>2</td>\n",
              "      <td>Afghanistan</td>\n",
              "      <td>Abats Comestible</td>\n",
              "      <td>2736</td>\n",
              "      <td>2013</td>\n",
              "      <td>Animale</td>\n",
              "      <td>0.0</td>\n",
              "      <td>0.0</td>\n",
              "      <td>5.0</td>\n",
              "      <td>1.72</td>\n",
              "      <td>...</td>\n",
              "      <td>0.0</td>\n",
              "      <td>0.0</td>\n",
              "      <td>0.0</td>\n",
              "      <td>30552000</td>\n",
              "      <td>1000 persons</td>\n",
              "      <td>5.575740e+10</td>\n",
              "      <td>8586639.6</td>\n",
              "      <td>52549440.0</td>\n",
              "      <td>1061.0</td>\n",
              "      <td>0.16</td>\n",
              "    </tr>\n",
              "    <tr>\n",
              "      <th>1</th>\n",
              "      <td>2</td>\n",
              "      <td>Afghanistan</td>\n",
              "      <td>Agrumes, Autres</td>\n",
              "      <td>2614</td>\n",
              "      <td>2013</td>\n",
              "      <td>Végétale</td>\n",
              "      <td>0.0</td>\n",
              "      <td>0.0</td>\n",
              "      <td>1.0</td>\n",
              "      <td>1.29</td>\n",
              "      <td>...</td>\n",
              "      <td>0.0</td>\n",
              "      <td>0.0</td>\n",
              "      <td>0.0</td>\n",
              "      <td>30552000</td>\n",
              "      <td>1000 persons</td>\n",
              "      <td>1.115148e+10</td>\n",
              "      <td>223029.6</td>\n",
              "      <td>39412080.0</td>\n",
              "      <td>282.9</td>\n",
              "      <td>0.01</td>\n",
              "    </tr>\n",
              "    <tr>\n",
              "      <th>2</th>\n",
              "      <td>2</td>\n",
              "      <td>Afghanistan</td>\n",
              "      <td>Aliments pour enfants</td>\n",
              "      <td>2680</td>\n",
              "      <td>2013</td>\n",
              "      <td>Végétale</td>\n",
              "      <td>0.0</td>\n",
              "      <td>0.0</td>\n",
              "      <td>1.0</td>\n",
              "      <td>0.06</td>\n",
              "      <td>...</td>\n",
              "      <td>0.0</td>\n",
              "      <td>0.0</td>\n",
              "      <td>0.0</td>\n",
              "      <td>30552000</td>\n",
              "      <td>1000 persons</td>\n",
              "      <td>1.115148e+10</td>\n",
              "      <td>334544.4</td>\n",
              "      <td>1833120.0</td>\n",
              "      <td>6083.3</td>\n",
              "      <td>0.18</td>\n",
              "    </tr>\n",
              "  </tbody>\n",
              "</table>\n",
              "<p>3 rows × 28 columns</p>\n",
              "</div>\n",
              "      <button class=\"colab-df-convert\" onclick=\"convertToInteractive('df-089bd7db-5afd-4ee0-902c-cb70bdcef4a4')\"\n",
              "              title=\"Convert this dataframe to an interactive table.\"\n",
              "              style=\"display:none;\">\n",
              "        \n",
              "  <svg xmlns=\"http://www.w3.org/2000/svg\" height=\"24px\"viewBox=\"0 0 24 24\"\n",
              "       width=\"24px\">\n",
              "    <path d=\"M0 0h24v24H0V0z\" fill=\"none\"/>\n",
              "    <path d=\"M18.56 5.44l.94 2.06.94-2.06 2.06-.94-2.06-.94-.94-2.06-.94 2.06-2.06.94zm-11 1L8.5 8.5l.94-2.06 2.06-.94-2.06-.94L8.5 2.5l-.94 2.06-2.06.94zm10 10l.94 2.06.94-2.06 2.06-.94-2.06-.94-.94-2.06-.94 2.06-2.06.94z\"/><path d=\"M17.41 7.96l-1.37-1.37c-.4-.4-.92-.59-1.43-.59-.52 0-1.04.2-1.43.59L10.3 9.45l-7.72 7.72c-.78.78-.78 2.05 0 2.83L4 21.41c.39.39.9.59 1.41.59.51 0 1.02-.2 1.41-.59l7.78-7.78 2.81-2.81c.8-.78.8-2.07 0-2.86zM5.41 20L4 18.59l7.72-7.72 1.47 1.35L5.41 20z\"/>\n",
              "  </svg>\n",
              "      </button>\n",
              "      \n",
              "  <style>\n",
              "    .colab-df-container {\n",
              "      display:flex;\n",
              "      flex-wrap:wrap;\n",
              "      gap: 12px;\n",
              "    }\n",
              "\n",
              "    .colab-df-convert {\n",
              "      background-color: #E8F0FE;\n",
              "      border: none;\n",
              "      border-radius: 50%;\n",
              "      cursor: pointer;\n",
              "      display: none;\n",
              "      fill: #1967D2;\n",
              "      height: 32px;\n",
              "      padding: 0 0 0 0;\n",
              "      width: 32px;\n",
              "    }\n",
              "\n",
              "    .colab-df-convert:hover {\n",
              "      background-color: #E2EBFA;\n",
              "      box-shadow: 0px 1px 2px rgba(60, 64, 67, 0.3), 0px 1px 3px 1px rgba(60, 64, 67, 0.15);\n",
              "      fill: #174EA6;\n",
              "    }\n",
              "\n",
              "    [theme=dark] .colab-df-convert {\n",
              "      background-color: #3B4455;\n",
              "      fill: #D2E3FC;\n",
              "    }\n",
              "\n",
              "    [theme=dark] .colab-df-convert:hover {\n",
              "      background-color: #434B5C;\n",
              "      box-shadow: 0px 1px 3px 1px rgba(0, 0, 0, 0.15);\n",
              "      filter: drop-shadow(0px 1px 2px rgba(0, 0, 0, 0.3));\n",
              "      fill: #FFFFFF;\n",
              "    }\n",
              "  </style>\n",
              "\n",
              "      <script>\n",
              "        const buttonEl =\n",
              "          document.querySelector('#df-089bd7db-5afd-4ee0-902c-cb70bdcef4a4 button.colab-df-convert');\n",
              "        buttonEl.style.display =\n",
              "          google.colab.kernel.accessAllowed ? 'block' : 'none';\n",
              "\n",
              "        async function convertToInteractive(key) {\n",
              "          const element = document.querySelector('#df-089bd7db-5afd-4ee0-902c-cb70bdcef4a4');\n",
              "          const dataTable =\n",
              "            await google.colab.kernel.invokeFunction('convertToInteractive',\n",
              "                                                     [key], {});\n",
              "          if (!dataTable) return;\n",
              "\n",
              "          const docLinkHtml = 'Like what you see? Visit the ' +\n",
              "            '<a target=\"_blank\" href=https://colab.research.google.com/notebooks/data_table.ipynb>data table notebook</a>'\n",
              "            + ' to learn more about interactive tables.';\n",
              "          element.innerHTML = '';\n",
              "          dataTable['output_type'] = 'display_data';\n",
              "          await google.colab.output.renderOutput(dataTable, element);\n",
              "          const docLink = document.createElement('div');\n",
              "          docLink.innerHTML = docLinkHtml;\n",
              "          element.appendChild(docLink);\n",
              "        }\n",
              "      </script>\n",
              "    </div>\n",
              "  </div>\n",
              "  "
            ]
          },
          "metadata": {},
          "execution_count": 210
        }
      ]
    },
    {
      "cell_type": "markdown",
      "source": [
        "Sachant que la valeur énergétique pour un œuf moyen (60 g) est d'environ 90 kcal."
      ],
      "metadata": {
        "id": "YjceibV8duSk"
      }
    },
    {
      "cell_type": "code",
      "source": [
        "# vérification et suppression des NaN\n",
        "#print(aliments.isna().sum())\n",
        "aliments.dropna(axis='rows', inplace=True)\n",
        "\n",
        "# Valeur énergétique sur produit = oeuf on prendra la moyenne de cette valeur et on la comparera avec les données sur le net\n",
        "ratio_kcal_kg_oeuf = round(aliments[(aliments['Produit'] == 'Oeufs')]['ratio_energie_poids'].mean(),1)\n",
        "\n",
        "#Valeur énergétique d'un oueuf moyen de 60g pris sur internet\n",
        "ratio_kcal_kg_oeuf_net = 90 / 0.06\n",
        "\n",
        "print(f\"\"\"Nous observant que la valeur énergétique moyenne d'un oeuf dans notre dataframe aliments est de {ratio_kcal_kg_oeuf} Kcal/kg,\n",
        "ce qui est proche de la valeur obtenue sur internet pour un oeufs moyen de 60g qui est égale à {ratio_kcal_kg_oeuf_net} Kcal/kg\"\"\")\n"
      ],
      "metadata": {
        "id": "PX-v5ic_ezAU",
        "colab": {
          "base_uri": "https://localhost:8080/"
        },
        "outputId": "81a87fcf-fd31-46ca-8cc2-e88167c43714"
      },
      "execution_count": 180,
      "outputs": [
        {
          "output_type": "stream",
          "name": "stdout",
          "text": [
            "Nous observant que la valeur énergétique moyenne d'un oeuf dans notre dataframe aliments est de 1362.3 Kcal/kg,\n",
            "ce qui est proche de la valeur obtenue sur internet pour un oeufs moyen de 60g qui est égale à 1500.0 Kcal/kg\n"
          ]
        }
      ]
    },
    {
      "cell_type": "markdown",
      "source": [
        "<h2>Question 5 : Aliments les plus caloriques et protéiques  </h2>\n",
        "<p>En considérant les aliments végétaux et animaux, citez 5 aliments parmi les 20 aliments les plus  caloriques, en utilisant le ratio énergie/poids. Citez 5 aliments parmi les 20 aliments les plus riches en  protéines. </p>\n"
      ],
      "metadata": {
        "id": "r8w6lXSUECRu"
      }
    },
    {
      "cell_type": "code",
      "source": [
        "# classement des 20 aliments les plus caloriques\n",
        "produits_plus_cal = aliments.groupby('Produit')['ratio_energie_poids'].mean().sort_values(ascending=False)\n",
        "produits_plus_cal.head(20)\n",
        "five_produits_plus_cal = produits_plus_cal.head(20).sample(n=5)\n",
        "print(f\"\"\"Voici 5 aliments:\\n {five_produits_plus_cal.to_string( header=False)}\\nparmi les 20 les plus caloriques.\"\"\")\n"
      ],
      "metadata": {
        "id": "HjxyXJ-afoqA",
        "colab": {
          "base_uri": "https://localhost:8080/"
        },
        "outputId": "74ca2b53-bdbf-49bc-ddf7-263e56737822"
      },
      "execution_count": 181,
      "outputs": [
        {
          "output_type": "stream",
          "name": "stdout",
          "text": [
            "Voici 5 aliments:\n",
            " Huiles de Poissons        8942.500000\n",
            "Huile de Germe de Maïs    6960.289655\n",
            "Huile d'Olive             7388.752273\n",
            "Huile de Palme            8712.990476\n",
            "Huile de Sésame           6092.179167\n",
            "parmi les 20 les plus caloriques.\n"
          ]
        }
      ]
    },
    {
      "cell_type": "code",
      "source": [
        "# classement des 20 aliments les plus riches en protéines\n",
        "produits_riche_prot = aliments.groupby('Produit')['ratio_prot_poids'].mean().sort_values(ascending=False)\n",
        "produits_riche_prot.head(20)\n",
        "five_produits_plus_prot = produits_riche_prot.head(20).sample(n=5)\n",
        "print(f\"\"\"Voici 5 aliments:\\n {five_produits_plus_prot.to_string( header=False)}\\nparmi les 20 les plus protéiques.\"\"\")"
      ],
      "metadata": {
        "colab": {
          "base_uri": "https://localhost:8080/"
        },
        "id": "i0V9cvd_Po4V",
        "outputId": "5f0d52fe-dc13-4fab-8503-ff28b9d4b644"
      },
      "execution_count": 211,
      "outputs": [
        {
          "output_type": "stream",
          "name": "stdout",
          "text": [
            "Voici 5 aliments:\n",
            " Arachides Decortiquees      0.245294\n",
            "Plantes Oleiferes, Autre    0.135294\n",
            "Aliments pour enfants       0.152340\n",
            "Viande de Bovins            0.146667\n",
            "Abats Comestible            0.176296\n",
            "parmi les 20 les plus protéiques.\n"
          ]
        }
      ]
    },
    {
      "cell_type": "markdown",
      "source": [
        "<h2>Question 6 : Dispo. intérieure mondiale des végétaux </h2>\n",
        "<p>Calculez, pour les produits végétaux uniquement, la disponibilité intérieure mondiale exprimée en  kcal. </p> "
      ],
      "metadata": {
        "id": "K22RNR3XiDhN"
      }
    },
    {
      "cell_type": "code",
      "source": [
        "aliments['dispo_int']\n",
        "aliments.columns"
      ],
      "metadata": {
        "id": "LC2MqIOSf17y",
        "colab": {
          "base_uri": "https://localhost:8080/"
        },
        "outputId": "4fc14e3a-ec12-4cba-c3ec-851b18798983"
      },
      "execution_count": 183,
      "outputs": [
        {
          "output_type": "execute_result",
          "data": {
            "text/plain": [
              "Index(['Code Pays', 'Pays', 'Produit', 'Code Produit', 'Année', 'Origine',\n",
              "       'alim_ani', 'Autres Utilisations', 'dispo_alim_kcal_p_j',\n",
              "       'dispo_alim_kg_p_an', 'dispo_mat_gr', 'dispo_prot_g_p_j', 'dispo_int',\n",
              "       'Exportations - Quantité', 'Importations - Quantité', 'nourriture',\n",
              "       'pertes', 'Production', 'semences', 'transfo', 'Variation de stock',\n",
              "       'population', 'unité_pop', 'dispo_alim_kcal_an', 'dispo_prot_kg_an',\n",
              "       'dispo_alim_kg_an', 'ratio_energie_poids'],\n",
              "      dtype='object')"
            ]
          },
          "metadata": {},
          "execution_count": 183
        }
      ]
    },
    {
      "cell_type": "code",
      "source": [
        "# filtrage de la table aliments sur la colnne dispo int et origine végétaux\n",
        "df_dispo_int_veg = aliments.query(\"Origine in ('Végétale')\")[['Produit','dispo_int','dispo_alim_kcal_an','dispo_prot_kg_an','Origine',\t'ratio_energie_poids', 'population']]#,'Unité_x'\n",
        "df_dispo_int_veg =df_dispo_int_veg.groupby('Produit').sum()\n",
        "# df_dispo_int_veg.reset_index(drop=True)\n",
        "# df_dispo_int_veg.index= df_dispo_int_veg['Code Pays']\n",
        "# df_dispo_int_veg.index.name= \"Code_Pays_id\"\n",
        "df_dispo_int_veg['dispo_int_veg_mondiale_kcal'] = df_dispo_int_veg['dispo_int'] * 1000000 * df_dispo_int_veg['ratio_energie_poids']\n",
        "df_dispo_int_veg['dispo_int_veg_mondiale_kg_prot'] = (df_dispo_int_veg['dispo_int'] * 1000000) * df_dispo_int_veg['dispo_prot_kg_an']"
      ],
      "metadata": {
        "id": "XAKdR_Ga8Tnm"
      },
      "execution_count": 195,
      "outputs": []
    },
    {
      "cell_type": "markdown",
      "source": [
        "<h3>Ci-dessous une table de la disposition intérieur mondiale en Kcal/an par produit végétal</h3>"
      ],
      "metadata": {
        "id": "cLXMhTk4KsaF"
      }
    },
    {
      "cell_type": "code",
      "source": [
        "df_dispo_int_veg.head(3)"
      ],
      "metadata": {
        "id": "qwPR2wA88W6m",
        "colab": {
          "base_uri": "https://localhost:8080/",
          "height": 219
        },
        "outputId": "bcbf6bdf-d188-412b-c888-e11a04bdf1cb"
      },
      "execution_count": 186,
      "outputs": [
        {
          "output_type": "execute_result",
          "data": {
            "text/plain": [
              "                       dispo_int  dispo_alim_kcal_an  dispo_prot_kg_an  \\\n",
              "Produit                                                                  \n",
              "Agrumes, Autres            895.0        1.983936e+11         3252850.8   \n",
              "Aliments pour enfants      127.0        4.247855e+11        19391074.0   \n",
              "Ananas                    4863.0        1.307137e+12        10914803.3   \n",
              "\n",
              "                       ratio_energie_poids  population  \\\n",
              "Produit                                                  \n",
              "Agrumes, Autres                     3532.4   752903000   \n",
              "Aliments pour enfants             138824.9  1008453000   \n",
              "Ananas                             15676.9  1058821000   \n",
              "\n",
              "                       dispo_int_veg_mondiale_kcal  \\\n",
              "Produit                                              \n",
              "Agrumes, Autres                       3.161498e+12   \n",
              "Aliments pour enfants                 1.763076e+13   \n",
              "Ananas                                7.623676e+13   \n",
              "\n",
              "                       dispo_int_veg_mondiale_kg_prot  \n",
              "Produit                                                \n",
              "Agrumes, Autres                          2.911301e+15  \n",
              "Aliments pour enfants                    2.462666e+15  \n",
              "Ananas                                   5.307869e+16  "
            ],
            "text/html": [
              "\n",
              "  <div id=\"df-aa767664-6f54-4552-9ee8-76734377c131\">\n",
              "    <div class=\"colab-df-container\">\n",
              "      <div>\n",
              "<style scoped>\n",
              "    .dataframe tbody tr th:only-of-type {\n",
              "        vertical-align: middle;\n",
              "    }\n",
              "\n",
              "    .dataframe tbody tr th {\n",
              "        vertical-align: top;\n",
              "    }\n",
              "\n",
              "    .dataframe thead th {\n",
              "        text-align: right;\n",
              "    }\n",
              "</style>\n",
              "<table border=\"1\" class=\"dataframe\">\n",
              "  <thead>\n",
              "    <tr style=\"text-align: right;\">\n",
              "      <th></th>\n",
              "      <th>dispo_int</th>\n",
              "      <th>dispo_alim_kcal_an</th>\n",
              "      <th>dispo_prot_kg_an</th>\n",
              "      <th>ratio_energie_poids</th>\n",
              "      <th>population</th>\n",
              "      <th>dispo_int_veg_mondiale_kcal</th>\n",
              "      <th>dispo_int_veg_mondiale_kg_prot</th>\n",
              "    </tr>\n",
              "    <tr>\n",
              "      <th>Produit</th>\n",
              "      <th></th>\n",
              "      <th></th>\n",
              "      <th></th>\n",
              "      <th></th>\n",
              "      <th></th>\n",
              "      <th></th>\n",
              "      <th></th>\n",
              "    </tr>\n",
              "  </thead>\n",
              "  <tbody>\n",
              "    <tr>\n",
              "      <th>Agrumes, Autres</th>\n",
              "      <td>895.0</td>\n",
              "      <td>1.983936e+11</td>\n",
              "      <td>3252850.8</td>\n",
              "      <td>3532.4</td>\n",
              "      <td>752903000</td>\n",
              "      <td>3.161498e+12</td>\n",
              "      <td>2.911301e+15</td>\n",
              "    </tr>\n",
              "    <tr>\n",
              "      <th>Aliments pour enfants</th>\n",
              "      <td>127.0</td>\n",
              "      <td>4.247855e+11</td>\n",
              "      <td>19391074.0</td>\n",
              "      <td>138824.9</td>\n",
              "      <td>1008453000</td>\n",
              "      <td>1.763076e+13</td>\n",
              "      <td>2.462666e+15</td>\n",
              "    </tr>\n",
              "    <tr>\n",
              "      <th>Ananas</th>\n",
              "      <td>4863.0</td>\n",
              "      <td>1.307137e+12</td>\n",
              "      <td>10914803.3</td>\n",
              "      <td>15676.9</td>\n",
              "      <td>1058821000</td>\n",
              "      <td>7.623676e+13</td>\n",
              "      <td>5.307869e+16</td>\n",
              "    </tr>\n",
              "  </tbody>\n",
              "</table>\n",
              "</div>\n",
              "      <button class=\"colab-df-convert\" onclick=\"convertToInteractive('df-aa767664-6f54-4552-9ee8-76734377c131')\"\n",
              "              title=\"Convert this dataframe to an interactive table.\"\n",
              "              style=\"display:none;\">\n",
              "        \n",
              "  <svg xmlns=\"http://www.w3.org/2000/svg\" height=\"24px\"viewBox=\"0 0 24 24\"\n",
              "       width=\"24px\">\n",
              "    <path d=\"M0 0h24v24H0V0z\" fill=\"none\"/>\n",
              "    <path d=\"M18.56 5.44l.94 2.06.94-2.06 2.06-.94-2.06-.94-.94-2.06-.94 2.06-2.06.94zm-11 1L8.5 8.5l.94-2.06 2.06-.94-2.06-.94L8.5 2.5l-.94 2.06-2.06.94zm10 10l.94 2.06.94-2.06 2.06-.94-2.06-.94-.94-2.06-.94 2.06-2.06.94z\"/><path d=\"M17.41 7.96l-1.37-1.37c-.4-.4-.92-.59-1.43-.59-.52 0-1.04.2-1.43.59L10.3 9.45l-7.72 7.72c-.78.78-.78 2.05 0 2.83L4 21.41c.39.39.9.59 1.41.59.51 0 1.02-.2 1.41-.59l7.78-7.78 2.81-2.81c.8-.78.8-2.07 0-2.86zM5.41 20L4 18.59l7.72-7.72 1.47 1.35L5.41 20z\"/>\n",
              "  </svg>\n",
              "      </button>\n",
              "      \n",
              "  <style>\n",
              "    .colab-df-container {\n",
              "      display:flex;\n",
              "      flex-wrap:wrap;\n",
              "      gap: 12px;\n",
              "    }\n",
              "\n",
              "    .colab-df-convert {\n",
              "      background-color: #E8F0FE;\n",
              "      border: none;\n",
              "      border-radius: 50%;\n",
              "      cursor: pointer;\n",
              "      display: none;\n",
              "      fill: #1967D2;\n",
              "      height: 32px;\n",
              "      padding: 0 0 0 0;\n",
              "      width: 32px;\n",
              "    }\n",
              "\n",
              "    .colab-df-convert:hover {\n",
              "      background-color: #E2EBFA;\n",
              "      box-shadow: 0px 1px 2px rgba(60, 64, 67, 0.3), 0px 1px 3px 1px rgba(60, 64, 67, 0.15);\n",
              "      fill: #174EA6;\n",
              "    }\n",
              "\n",
              "    [theme=dark] .colab-df-convert {\n",
              "      background-color: #3B4455;\n",
              "      fill: #D2E3FC;\n",
              "    }\n",
              "\n",
              "    [theme=dark] .colab-df-convert:hover {\n",
              "      background-color: #434B5C;\n",
              "      box-shadow: 0px 1px 3px 1px rgba(0, 0, 0, 0.15);\n",
              "      filter: drop-shadow(0px 1px 2px rgba(0, 0, 0, 0.3));\n",
              "      fill: #FFFFFF;\n",
              "    }\n",
              "  </style>\n",
              "\n",
              "      <script>\n",
              "        const buttonEl =\n",
              "          document.querySelector('#df-aa767664-6f54-4552-9ee8-76734377c131 button.colab-df-convert');\n",
              "        buttonEl.style.display =\n",
              "          google.colab.kernel.accessAllowed ? 'block' : 'none';\n",
              "\n",
              "        async function convertToInteractive(key) {\n",
              "          const element = document.querySelector('#df-aa767664-6f54-4552-9ee8-76734377c131');\n",
              "          const dataTable =\n",
              "            await google.colab.kernel.invokeFunction('convertToInteractive',\n",
              "                                                     [key], {});\n",
              "          if (!dataTable) return;\n",
              "\n",
              "          const docLinkHtml = 'Like what you see? Visit the ' +\n",
              "            '<a target=\"_blank\" href=https://colab.research.google.com/notebooks/data_table.ipynb>data table notebook</a>'\n",
              "            + ' to learn more about interactive tables.';\n",
              "          element.innerHTML = '';\n",
              "          dataTable['output_type'] = 'display_data';\n",
              "          await google.colab.output.renderOutput(dataTable, element);\n",
              "          const docLink = document.createElement('div');\n",
              "          docLink.innerHTML = docLinkHtml;\n",
              "          element.appendChild(docLink);\n",
              "        }\n",
              "      </script>\n",
              "    </div>\n",
              "  </div>\n",
              "  "
            ]
          },
          "metadata": {},
          "execution_count": 186
        }
      ]
    },
    {
      "cell_type": "markdown",
      "source": [
        "<h2>Question 7 : Potentiel alimentaire des végétaux  </h2>\n",
        "<p>Combien d'humains pourraient être nourris si toute la disponibilité intérieure mondiale de produits  végétaux était utilisée pour de la nourriture ? Donnez les résultats en termes de calories, puis de  protéines, et exprimez ensuite ces 2 résultats en pourcentage de la population mondiale.  </p> "
      ],
      "metadata": {
        "id": "XdmTYUpQLR6M"
      }
    },
    {
      "cell_type": "code",
      "source": [
        "# Les reomendation sont entre 2400 et 2700 pour les hommes et entre 2000 et 2200 pour les femmes je prend une moyenne\n",
        "besoin_kcal_per_an_p =(2000+2700)/2 * 365 \n",
        "besoin_kcal_per_an_p\n",
        "\n",
        "need_per_year_pop = besoin_kcal_per_an_p * pop_total\n",
        "need_per_year_pop"
      ],
      "metadata": {
        "colab": {
          "base_uri": "https://localhost:8080/"
        },
        "id": "SVNl5nvCPpYD",
        "outputId": "91bba02b-bce2-4d3f-dc34-ef04f2e303ef"
      },
      "execution_count": 203,
      "outputs": [
        {
          "output_type": "execute_result",
          "data": {
            "text/plain": [
              "6001956376500.0"
            ]
          },
          "metadata": {},
          "execution_count": 203
        }
      ]
    },
    {
      "cell_type": "code",
      "source": [
        "# Combien pourait-on nourrir de personne en Kcal par an\n",
        "pot_humain_nourris = df_dispo_int_veg['dispo_int_veg_mondiale_kcal'].sum() / besoin_kcal_per_an_p\n",
        "print(f'Si toute la disponibilité intérieure mondiale de produits végétaux était utilisée pour nourrir la populution\\non pourait nourir {(pot_humain_nourris):,} d\\'humain sur la planète en 2013 en terme de calories.'.replace(',', ' '))"
      ],
      "metadata": {
        "colab": {
          "base_uri": "https://localhost:8080/"
        },
        "id": "kcf5Xk9wUm7i",
        "outputId": "37cbd28a-d658-411e-db95-4e9bef9207e5"
      },
      "execution_count": 206,
      "outputs": [
        {
          "output_type": "stream",
          "name": "stdout",
          "text": [
            "Si toute la disponibilité intérieure mondiale de produits végétaux était utilisée pour nourrir la populution\n",
            "on pourait nourir 96 026 565 926.20227 d'humain sur la planète en 2013 en terme de calories.\n"
          ]
        }
      ]
    },
    {
      "cell_type": "code",
      "source": [
        "# En poucentage\n",
        "pot_humain_nourris_perc_pop = int(pot_humain_nourris) / int(pop_total)\n",
        "pot_humain_nourris_perc_pop"
      ],
      "metadata": {
        "colab": {
          "base_uri": "https://localhost:8080/"
        },
        "id": "cP2S907wWKp_",
        "outputId": "dce6d457-1f42-45f0-d99c-3a92f8170f6b"
      },
      "execution_count": 189,
      "outputs": [
        {
          "output_type": "execute_result",
          "data": {
            "text/plain": [
              "13723.323156017028"
            ]
          },
          "metadata": {},
          "execution_count": 189
        }
      ]
    },
    {
      "cell_type": "code",
      "source": [
        "# Les besoins en protéines par jour et par personnes sont de 0,8g par kg on prendra ici un poids moyen de 62kg pour toutes la population\n",
        "besoin_kg_prot_an_p = 0.8*62*365\n",
        "besoin_kg_prot_an_p"
      ],
      "metadata": {
        "colab": {
          "base_uri": "https://localhost:8080/"
        },
        "id": "B2QlcJl4hHEx",
        "outputId": "048c835c-8309-4d2f-b1b0-277fe30e9cb7"
      },
      "execution_count": 196,
      "outputs": [
        {
          "output_type": "execute_result",
          "data": {
            "text/plain": [
              "18104.0"
            ]
          },
          "metadata": {},
          "execution_count": 196
        }
      ]
    },
    {
      "cell_type": "code",
      "source": [
        "# Combien pourait-on nourrir de personne en Kg de protéines par an\n",
        "pot_humain_nourris = df_dispo_int_veg['dispo_int_veg_mondiale_kg_prot'].sum() / besoin_kg_prot_an_p\n",
        "print(f'Si toute la disponibilité intérieure mondiale de produits végétaux était utilisée pour nourrir la populution\\non pourait nourir {(pot_humain_nourris):,} d\\'humain sur la planète en 2013 en terme de protéines'.replace(',', ' '))\n"
      ],
      "metadata": {
        "colab": {
          "base_uri": "https://localhost:8080/"
        },
        "id": "FhXkK-Qnf9Dx",
        "outputId": "f2752cee-31b2-41c6-ef23-868143f03574"
      },
      "execution_count": 197,
      "outputs": [
        {
          "output_type": "stream",
          "name": "stdout",
          "text": [
            "Si toute la disponibilité intérieure mondiale de produits végétaux était utilisée pour nourrir la populution\n",
            "on pourait nourir 8.01295597940354e+16 d'humain sur la planète en 2013 en terme de protéines\n"
          ]
        }
      ]
    }
  ]
}