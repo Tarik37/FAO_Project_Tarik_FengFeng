{
  "nbformat": 4,
  "nbformat_minor": 0,
  "metadata": {
    "colab": {
      "provenance": [],
      "authorship_tag": "ABX9TyNDZbFAEVetATj/Ms/az/J9",
      "include_colab_link": true
    },
    "kernelspec": {
      "name": "python3",
      "display_name": "Python 3"
    },
    "language_info": {
      "name": "python"
    }
  },
  "cells": [
    {
      "cell_type": "markdown",
      "metadata": {
        "id": "view-in-github",
        "colab_type": "text"
      },
      "source": [
        "<a href=\"https://colab.research.google.com/github/data-IA-2022/FAO_Project_Tarik_FengFeng/blob/main/FAO_Data_Analyse_Fengfeng_Tarik.ipynb\" target=\"_parent\"><img src=\"https://colab.research.google.com/assets/colab-badge.svg\" alt=\"Open In Colab\"/></a>"
      ]
    },
    {
      "cell_type": "markdown",
      "source": [
        "<h1><center>Data Analyse au sein de la FAO (Food and Agriculture Organization)</h1>"
      ],
      "metadata": {
        "id": "wJxAdDzK3zQ1"
      }
    },
    {
      "cell_type": "markdown",
      "source": [
        "<h2>Contexte du projet</h2>\n",
        "\n",
        "Au sein du service Data Analytics and Prospective de la FAO, vous êtes en charge d'analyser les données produites par les Nations Unies.\n",
        "\n",
        "Ces analyses conduisent à des rapports de synthèse à destination des décideurs.\n",
        "\n",
        "Pour êtes également en charge de la partie Prospective, c'est à dire donner des tendances et des évolutions probables quant à la production agricole, à l'alimentation et la nutrition mondiales."
      ],
      "metadata": {
        "id": "TnY4NPcY32kb"
      }
    },
    {
      "cell_type": "code",
      "execution_count": null,
      "metadata": {
        "id": "WCop6iJW3wi1"
      },
      "outputs": [],
      "source": []
    }
  ]
}